{
 "cells": [
  {
   "cell_type": "code",
   "execution_count": 1,
   "id": "088943c8",
   "metadata": {
    "_cell_guid": "b1076dfc-b9ad-4769-8c92-a6c4dae69d19",
    "_uuid": "8f2839f25d086af736a60e9eeb907d3b93b6e0e5",
    "execution": {
     "iopub.execute_input": "2022-10-20T20:01:24.308465Z",
     "iopub.status.busy": "2022-10-20T20:01:24.307953Z",
     "iopub.status.idle": "2022-10-20T20:01:24.318813Z",
     "shell.execute_reply": "2022-10-20T20:01:24.318014Z"
    },
    "papermill": {
     "duration": 0.021975,
     "end_time": "2022-10-20T20:01:24.321016",
     "exception": false,
     "start_time": "2022-10-20T20:01:24.299041",
     "status": "completed"
    },
    "tags": []
   },
   "outputs": [],
   "source": [
    "import numpy as np\n",
    "import pandas as pd\n",
    "import warnings\n",
    "warnings.filterwarnings(\"ignore\")\n",
    "\n",
    "from google.cloud import bigquery"
   ]
  },
  {
   "cell_type": "markdown",
   "id": "200583fd",
   "metadata": {
    "papermill": {
     "duration": 0.005917,
     "end_time": "2022-10-20T20:01:24.333117",
     "exception": false,
     "start_time": "2022-10-20T20:01:24.327200",
     "status": "completed"
    },
    "tags": []
   },
   "source": [
    "# **BigQuery**"
   ]
  },
  {
   "cell_type": "code",
   "execution_count": 2,
   "id": "2f5dd8c2",
   "metadata": {
    "execution": {
     "iopub.execute_input": "2022-10-20T20:01:24.346964Z",
     "iopub.status.busy": "2022-10-20T20:01:24.346348Z",
     "iopub.status.idle": "2022-10-20T20:01:24.357085Z",
     "shell.execute_reply": "2022-10-20T20:01:24.355677Z"
    },
    "papermill": {
     "duration": 0.021204,
     "end_time": "2022-10-20T20:01:24.360252",
     "exception": false,
     "start_time": "2022-10-20T20:01:24.339048",
     "status": "completed"
    },
    "tags": []
   },
   "outputs": [
    {
     "name": "stdout",
     "output_type": "stream",
     "text": [
      "Using Kaggle's public dataset BigQuery integration.\n"
     ]
    },
    {
     "data": {
      "text/plain": [
       "'2.2.0'"
      ]
     },
     "execution_count": 2,
     "metadata": {},
     "output_type": "execute_result"
    }
   ],
   "source": [
    "# client object\n",
    "client = bigquery.Client()\n",
    "\n",
    "# version\n",
    "bigquery.__version__"
   ]
  },
  {
   "cell_type": "code",
   "execution_count": 3,
   "id": "20a719b5",
   "metadata": {
    "execution": {
     "iopub.execute_input": "2022-10-20T20:01:24.374813Z",
     "iopub.status.busy": "2022-10-20T20:01:24.374412Z",
     "iopub.status.idle": "2022-10-20T20:01:24.388336Z",
     "shell.execute_reply": "2022-10-20T20:01:24.387001Z"
    },
    "papermill": {
     "duration": 0.023854,
     "end_time": "2022-10-20T20:01:24.390735",
     "exception": false,
     "start_time": "2022-10-20T20:01:24.366881",
     "status": "completed"
    },
    "tags": []
   },
   "outputs": [],
   "source": [
    "def about_dataset(dataset_id, project_id=\"bigquery-public-data\"):\n",
    "    \"\"\"\n",
    "    Description of any dataset in BigQuery.\n",
    "    \n",
    "    dataset_id > typr(str)\n",
    "    project_id > type(str)\n",
    "    \"\"\"\n",
    "    # client object\n",
    "    client = bigquery.Client()\n",
    "    # refrence for dataset\n",
    "    dataset_ref = client.dataset(dataset_id,project= project_id)\n",
    "    # Api request - fetch the dataset:\n",
    "    dataset = client.get_dataset(dataset_ref)\n",
    "    # about dataset\n",
    "    print(dataset.description)\n",
    "    \n",
    "\n",
    "def list_table_id(dataset_id, project_id=\"bigquery-public-data\"):\n",
    "    \"\"\"\n",
    "    Return list of table_id in dataset.\n",
    "    \n",
    "    dataset_id > typr(str)\n",
    "    project_id > type(str)\n",
    "    \"\"\"\n",
    "    # client object\n",
    "    client = bigquery.Client()\n",
    "    # refrence for dataset\n",
    "    dataset_ref = client.dataset(dataset_id,project= project_id)\n",
    "    # Api request - fetch the dataset:\n",
    "    dataset = client.get_dataset(dataset_ref)\n",
    "    tables = client.list_tables(dataset)\n",
    "    print(f\"table_name_id in {dataset_id} dataset\\n\")\n",
    "    for table in tables:\n",
    "        print(f\"table_name_id : {table.table_id}\")\n",
    "\n",
    "def about_table(table_id,dataset_id, project_id=\"bigquery-public-data\"):\n",
    "    \"\"\"\n",
    "    Description of table of dataset.\n",
    "    \n",
    "    dataset_id > typr(str)\n",
    "    project_id > type(str)\n",
    "    table_id   >   type(str)\n",
    "    \"\"\"\n",
    "    # client object\n",
    "    client = bigquery.Client()\n",
    "    # refrence for dataset\n",
    "    dataset_ref = client.dataset(dataset_id,project= project_id)\n",
    "    # Api request - fetch the dataset:\n",
    "    dataset = client.get_dataset(dataset_ref)\n",
    "    \n",
    "    table_ref = dataset_ref.table(table_id)\n",
    "    # API -reguest - fetch the table :\n",
    "    table = client.get_table(table_ref)\n",
    "    # about table :\n",
    "    print(table.description)\n",
    "\n",
    "def about_table_column(table_id,dataset_id, project_id=\"bigquery-public-data\"):\n",
    "    \"\"\"\n",
    "    Description about column(field) of any table of dataset.\n",
    "    Each `SchemaField` tells us about all tha column(field) name,type,mode & description in table.\n",
    "    \n",
    "    dataset_id > typr(str)\n",
    "    project_id > type(str)\n",
    "    table_id   > type(str)\n",
    "    \"\"\"\n",
    "    # client object\n",
    "    client = bigquery.Client()\n",
    "    # refrence for dataset\n",
    "    dataset_ref = client.dataset(dataset_id,project= project_id)\n",
    "    # Api request - fetch the dataset:\n",
    "    dataset = client.get_dataset(dataset_ref)\n",
    "    \n",
    "    table_ref = dataset_ref.table(table_id)\n",
    "    # API -reguest - fetch the table :\n",
    "    table = client.get_table(table_ref)\n",
    "    # about column of table :\n",
    "    return table.schema\n",
    "    \n",
    "\n",
    "def fetch_table(table_id,dataset_id, project_id=\"bigquery-public-data\"):\n",
    "    \"\"\"\n",
    "    fetch tables of dataset\n",
    "    \n",
    "    dataset_id > typr(str)\n",
    "    project_id > type(str)\n",
    "    table_id   > type(str)\n",
    "    \"\"\"\n",
    "    client = bigquery.Client()\n",
    "    dataset_ref = client.dataset(dataset_id, project = project_id)\n",
    "    dataset = client.get_dataset(dataset_ref)\n",
    "    table_ref = dataset_ref.table(table_id)\n",
    "    table = client.get_table(table_ref)\n",
    "    return table"
   ]
  },
  {
   "cell_type": "code",
   "execution_count": 4,
   "id": "102628e5",
   "metadata": {
    "execution": {
     "iopub.execute_input": "2022-10-20T20:01:24.404411Z",
     "iopub.status.busy": "2022-10-20T20:01:24.404021Z",
     "iopub.status.idle": "2022-10-20T20:01:24.770503Z",
     "shell.execute_reply": "2022-10-20T20:01:24.769457Z"
    },
    "papermill": {
     "duration": 0.376213,
     "end_time": "2022-10-20T20:01:24.772991",
     "exception": false,
     "start_time": "2022-10-20T20:01:24.396778",
     "status": "completed"
    },
    "tags": []
   },
   "outputs": [
    {
     "name": "stdout",
     "output_type": "stream",
     "text": [
      "Using Kaggle's public dataset BigQuery integration.\n",
      "OpenAQ is an open-source project to surface live, real-time air quality data from around the world. Their “mission is to enable previously impossible science, impact policy and empower the public to fight air pollution.” The data includes air quality measurements from 5490 locations in 47 countries.\n",
      "\n",
      "Scientists, researchers, developers, and citizens can use this data to understand the quality of air near them currently. The dataset only includes the most current measurement available for the location (no historical data). \n",
      "\n",
      "Dataset Source: openaq.org\n",
      "\n",
      "Category: Science\n",
      "\n",
      "Use: This dataset is publicly available for anyone to use under the following terms provided by the Dataset Source — https://openaq.org/#/about?_k=s3aspo — and is provided \"AS IS\" without any warranty, express or implied, from Google. Google disclaims all liability for any damages, direct or indirect, resulting from the use of the dataset. \n",
      "\n",
      "Update Frequency: Hourly\n"
     ]
    }
   ],
   "source": [
    "about_dataset(\"openaq\")"
   ]
  },
  {
   "cell_type": "code",
   "execution_count": 5,
   "id": "6b8147ef",
   "metadata": {
    "execution": {
     "iopub.execute_input": "2022-10-20T20:01:24.787659Z",
     "iopub.status.busy": "2022-10-20T20:01:24.787266Z",
     "iopub.status.idle": "2022-10-20T20:01:25.484327Z",
     "shell.execute_reply": "2022-10-20T20:01:25.482823Z"
    },
    "papermill": {
     "duration": 0.70726,
     "end_time": "2022-10-20T20:01:25.486733",
     "exception": false,
     "start_time": "2022-10-20T20:01:24.779473",
     "status": "completed"
    },
    "tags": []
   },
   "outputs": [
    {
     "name": "stdout",
     "output_type": "stream",
     "text": [
      "Using Kaggle's public dataset BigQuery integration.\n",
      "table_name_id in openaq dataset\n",
      "\n",
      "table_name_id : global_air_quality\n"
     ]
    }
   ],
   "source": [
    "list_table_id(\"openaq\")"
   ]
  },
  {
   "cell_type": "code",
   "execution_count": 6,
   "id": "78c75abe",
   "metadata": {
    "execution": {
     "iopub.execute_input": "2022-10-20T20:01:25.502396Z",
     "iopub.status.busy": "2022-10-20T20:01:25.501776Z",
     "iopub.status.idle": "2022-10-20T20:01:26.360605Z",
     "shell.execute_reply": "2022-10-20T20:01:26.359151Z"
    },
    "papermill": {
     "duration": 0.869667,
     "end_time": "2022-10-20T20:01:26.363009",
     "exception": false,
     "start_time": "2022-10-20T20:01:25.493342",
     "status": "completed"
    },
    "scrolled": true,
    "tags": []
   },
   "outputs": [
    {
     "name": "stdout",
     "output_type": "stream",
     "text": [
      "Using Kaggle's public dataset BigQuery integration.\n",
      "None\n"
     ]
    }
   ],
   "source": [
    "about_table(\"global_air_quality\",\"openaq\")"
   ]
  },
  {
   "cell_type": "code",
   "execution_count": 7,
   "id": "662235d2",
   "metadata": {
    "execution": {
     "iopub.execute_input": "2022-10-20T20:01:26.377805Z",
     "iopub.status.busy": "2022-10-20T20:01:26.377403Z",
     "iopub.status.idle": "2022-10-20T20:01:27.571837Z",
     "shell.execute_reply": "2022-10-20T20:01:27.570821Z"
    },
    "papermill": {
     "duration": 1.204853,
     "end_time": "2022-10-20T20:01:27.574501",
     "exception": false,
     "start_time": "2022-10-20T20:01:26.369648",
     "status": "completed"
    },
    "tags": []
   },
   "outputs": [
    {
     "name": "stdout",
     "output_type": "stream",
     "text": [
      "Using Kaggle's public dataset BigQuery integration.\n"
     ]
    },
    {
     "data": {
      "text/plain": [
       "[SchemaField('location', 'STRING', 'NULLABLE', None, (), None),\n",
       " SchemaField('city', 'STRING', 'NULLABLE', None, (), None),\n",
       " SchemaField('country', 'STRING', 'NULLABLE', None, (), None),\n",
       " SchemaField('pollutant', 'STRING', 'NULLABLE', None, (), None),\n",
       " SchemaField('value', 'FLOAT', 'NULLABLE', None, (), None),\n",
       " SchemaField('timestamp', 'TIMESTAMP', 'NULLABLE', None, (), None),\n",
       " SchemaField('unit', 'STRING', 'NULLABLE', None, (), None),\n",
       " SchemaField('source_name', 'STRING', 'NULLABLE', None, (), None),\n",
       " SchemaField('latitude', 'FLOAT', 'NULLABLE', None, (), None),\n",
       " SchemaField('longitude', 'FLOAT', 'NULLABLE', None, (), None),\n",
       " SchemaField('averaged_over_in_hours', 'FLOAT', 'NULLABLE', None, (), None),\n",
       " SchemaField('location_geom', 'GEOGRAPHY', 'NULLABLE', None, (), None)]"
      ]
     },
     "execution_count": 7,
     "metadata": {},
     "output_type": "execute_result"
    }
   ],
   "source": [
    "about_table_column(\"global_air_quality\",\"openaq\")"
   ]
  },
  {
   "cell_type": "code",
   "execution_count": 8,
   "id": "79b2d2b0",
   "metadata": {
    "execution": {
     "iopub.execute_input": "2022-10-20T20:01:27.589443Z",
     "iopub.status.busy": "2022-10-20T20:01:27.588991Z",
     "iopub.status.idle": "2022-10-20T20:01:29.052532Z",
     "shell.execute_reply": "2022-10-20T20:01:29.051622Z"
    },
    "papermill": {
     "duration": 1.474517,
     "end_time": "2022-10-20T20:01:29.055608",
     "exception": false,
     "start_time": "2022-10-20T20:01:27.581091",
     "status": "completed"
    },
    "tags": []
   },
   "outputs": [
    {
     "name": "stdout",
     "output_type": "stream",
     "text": [
      "Using Kaggle's public dataset BigQuery integration.\n"
     ]
    }
   ],
   "source": [
    "table = fetch_table(\"global_air_quality\",\"openaq\")\n",
    "\n",
    "# first 5 rows in \"full\" table:\n",
    "df = client.list_rows(table,max_results=500).to_dataframe()"
   ]
  },
  {
   "cell_type": "code",
   "execution_count": 9,
   "id": "fb5ea419",
   "metadata": {
    "execution": {
     "iopub.execute_input": "2022-10-20T20:01:29.070566Z",
     "iopub.status.busy": "2022-10-20T20:01:29.070167Z",
     "iopub.status.idle": "2022-10-20T20:01:29.095144Z",
     "shell.execute_reply": "2022-10-20T20:01:29.094352Z"
    },
    "papermill": {
     "duration": 0.035269,
     "end_time": "2022-10-20T20:01:29.097650",
     "exception": false,
     "start_time": "2022-10-20T20:01:29.062381",
     "status": "completed"
    },
    "tags": []
   },
   "outputs": [
    {
     "data": {
      "text/html": [
       "<div>\n",
       "<style scoped>\n",
       "    .dataframe tbody tr th:only-of-type {\n",
       "        vertical-align: middle;\n",
       "    }\n",
       "\n",
       "    .dataframe tbody tr th {\n",
       "        vertical-align: top;\n",
       "    }\n",
       "\n",
       "    .dataframe thead th {\n",
       "        text-align: right;\n",
       "    }\n",
       "</style>\n",
       "<table border=\"1\" class=\"dataframe\">\n",
       "  <thead>\n",
       "    <tr style=\"text-align: right;\">\n",
       "      <th></th>\n",
       "      <th>location</th>\n",
       "      <th>city</th>\n",
       "      <th>country</th>\n",
       "      <th>pollutant</th>\n",
       "      <th>value</th>\n",
       "      <th>timestamp</th>\n",
       "      <th>unit</th>\n",
       "      <th>source_name</th>\n",
       "      <th>latitude</th>\n",
       "      <th>longitude</th>\n",
       "      <th>averaged_over_in_hours</th>\n",
       "      <th>location_geom</th>\n",
       "    </tr>\n",
       "  </thead>\n",
       "  <tbody>\n",
       "    <tr>\n",
       "      <th>0</th>\n",
       "      <td>Borówiec, ul. Drapałka</td>\n",
       "      <td>Borówiec</td>\n",
       "      <td>PL</td>\n",
       "      <td>bc</td>\n",
       "      <td>0.85217</td>\n",
       "      <td>2022-04-28 07:00:00+00:00</td>\n",
       "      <td>µg/m³</td>\n",
       "      <td>GIOS</td>\n",
       "      <td>1.0</td>\n",
       "      <td>52.276794</td>\n",
       "      <td>17.074114</td>\n",
       "      <td>POINT(52.276794 1)</td>\n",
       "    </tr>\n",
       "    <tr>\n",
       "      <th>1</th>\n",
       "      <td>Kraków, ul. Bulwarowa</td>\n",
       "      <td>Kraków</td>\n",
       "      <td>PL</td>\n",
       "      <td>bc</td>\n",
       "      <td>0.91284</td>\n",
       "      <td>2022-04-27 23:00:00+00:00</td>\n",
       "      <td>µg/m³</td>\n",
       "      <td>GIOS</td>\n",
       "      <td>1.0</td>\n",
       "      <td>50.069308</td>\n",
       "      <td>20.053492</td>\n",
       "      <td>POINT(50.069308 1)</td>\n",
       "    </tr>\n",
       "    <tr>\n",
       "      <th>2</th>\n",
       "      <td>Płock, ul. Reja</td>\n",
       "      <td>Płock</td>\n",
       "      <td>PL</td>\n",
       "      <td>bc</td>\n",
       "      <td>1.41000</td>\n",
       "      <td>2022-03-30 04:00:00+00:00</td>\n",
       "      <td>µg/m³</td>\n",
       "      <td>GIOS</td>\n",
       "      <td>1.0</td>\n",
       "      <td>52.550938</td>\n",
       "      <td>19.709791</td>\n",
       "      <td>POINT(52.550938 1)</td>\n",
       "    </tr>\n",
       "    <tr>\n",
       "      <th>3</th>\n",
       "      <td>Elbląg, ul. Bażyńskiego</td>\n",
       "      <td>Elbląg</td>\n",
       "      <td>PL</td>\n",
       "      <td>bc</td>\n",
       "      <td>0.33607</td>\n",
       "      <td>2022-05-03 13:00:00+00:00</td>\n",
       "      <td>µg/m³</td>\n",
       "      <td>GIOS</td>\n",
       "      <td>1.0</td>\n",
       "      <td>54.167847</td>\n",
       "      <td>19.410942</td>\n",
       "      <td>POINT(54.167847 1)</td>\n",
       "    </tr>\n",
       "    <tr>\n",
       "      <th>4</th>\n",
       "      <td>Piastów, ul. Pułaskiego</td>\n",
       "      <td>Piastów</td>\n",
       "      <td>PL</td>\n",
       "      <td>bc</td>\n",
       "      <td>0.51000</td>\n",
       "      <td>2022-05-11 05:00:00+00:00</td>\n",
       "      <td>µg/m³</td>\n",
       "      <td>GIOS</td>\n",
       "      <td>1.0</td>\n",
       "      <td>52.191728</td>\n",
       "      <td>20.837489</td>\n",
       "      <td>POINT(52.191728 1)</td>\n",
       "    </tr>\n",
       "  </tbody>\n",
       "</table>\n",
       "</div>"
      ],
      "text/plain": [
       "                  location      city country pollutant    value  \\\n",
       "0   Borówiec, ul. Drapałka  Borówiec      PL        bc  0.85217   \n",
       "1    Kraków, ul. Bulwarowa    Kraków      PL        bc  0.91284   \n",
       "2          Płock, ul. Reja     Płock      PL        bc  1.41000   \n",
       "3  Elbląg, ul. Bażyńskiego    Elbląg      PL        bc  0.33607   \n",
       "4  Piastów, ul. Pułaskiego   Piastów      PL        bc  0.51000   \n",
       "\n",
       "                  timestamp   unit source_name  latitude  longitude  \\\n",
       "0 2022-04-28 07:00:00+00:00  µg/m³        GIOS       1.0  52.276794   \n",
       "1 2022-04-27 23:00:00+00:00  µg/m³        GIOS       1.0  50.069308   \n",
       "2 2022-03-30 04:00:00+00:00  µg/m³        GIOS       1.0  52.550938   \n",
       "3 2022-05-03 13:00:00+00:00  µg/m³        GIOS       1.0  54.167847   \n",
       "4 2022-05-11 05:00:00+00:00  µg/m³        GIOS       1.0  52.191728   \n",
       "\n",
       "   averaged_over_in_hours       location_geom  \n",
       "0               17.074114  POINT(52.276794 1)  \n",
       "1               20.053492  POINT(50.069308 1)  \n",
       "2               19.709791  POINT(52.550938 1)  \n",
       "3               19.410942  POINT(54.167847 1)  \n",
       "4               20.837489  POINT(52.191728 1)  "
      ]
     },
     "execution_count": 9,
     "metadata": {},
     "output_type": "execute_result"
    }
   ],
   "source": [
    "df.head()"
   ]
  },
  {
   "cell_type": "code",
   "execution_count": 10,
   "id": "a2694805",
   "metadata": {
    "execution": {
     "iopub.execute_input": "2022-10-20T20:01:29.113291Z",
     "iopub.status.busy": "2022-10-20T20:01:29.112891Z",
     "iopub.status.idle": "2022-10-20T20:01:29.645543Z",
     "shell.execute_reply": "2022-10-20T20:01:29.644241Z"
    },
    "papermill": {
     "duration": 0.543651,
     "end_time": "2022-10-20T20:01:29.648337",
     "exception": false,
     "start_time": "2022-10-20T20:01:29.104686",
     "status": "completed"
    },
    "tags": []
   },
   "outputs": [
    {
     "data": {
      "text/html": [
       "<div>\n",
       "<style scoped>\n",
       "    .dataframe tbody tr th:only-of-type {\n",
       "        vertical-align: middle;\n",
       "    }\n",
       "\n",
       "    .dataframe tbody tr th {\n",
       "        vertical-align: top;\n",
       "    }\n",
       "\n",
       "    .dataframe thead th {\n",
       "        text-align: right;\n",
       "    }\n",
       "</style>\n",
       "<table border=\"1\" class=\"dataframe\">\n",
       "  <thead>\n",
       "    <tr style=\"text-align: right;\">\n",
       "      <th></th>\n",
       "      <th>location</th>\n",
       "    </tr>\n",
       "  </thead>\n",
       "  <tbody>\n",
       "    <tr>\n",
       "      <th>0</th>\n",
       "      <td>Borówiec, ul. Drapałka</td>\n",
       "    </tr>\n",
       "    <tr>\n",
       "      <th>1</th>\n",
       "      <td>Kraków, ul. Bulwarowa</td>\n",
       "    </tr>\n",
       "    <tr>\n",
       "      <th>2</th>\n",
       "      <td>Płock, ul. Reja</td>\n",
       "    </tr>\n",
       "    <tr>\n",
       "      <th>3</th>\n",
       "      <td>Elbląg, ul. Bażyńskiego</td>\n",
       "    </tr>\n",
       "    <tr>\n",
       "      <th>4</th>\n",
       "      <td>Piastów, ul. Pułaskiego</td>\n",
       "    </tr>\n",
       "  </tbody>\n",
       "</table>\n",
       "</div>"
      ],
      "text/plain": [
       "                  location\n",
       "0   Borówiec, ul. Drapałka\n",
       "1    Kraków, ul. Bulwarowa\n",
       "2          Płock, ul. Reja\n",
       "3  Elbląg, ul. Bażyńskiego\n",
       "4  Piastów, ul. Pułaskiego"
      ]
     },
     "execution_count": 10,
     "metadata": {},
     "output_type": "execute_result"
    }
   ],
   "source": [
    "client.list_rows(table, max_results=5,\n",
    "                 selected_fields=table.schema[:1]).to_dataframe()"
   ]
  },
  {
   "cell_type": "code",
   "execution_count": 11,
   "id": "96996d3e",
   "metadata": {
    "execution": {
     "iopub.execute_input": "2022-10-20T20:01:29.666848Z",
     "iopub.status.busy": "2022-10-20T20:01:29.665804Z",
     "iopub.status.idle": "2022-10-20T20:01:29.677422Z",
     "shell.execute_reply": "2022-10-20T20:01:29.676382Z"
    },
    "papermill": {
     "duration": 0.022886,
     "end_time": "2022-10-20T20:01:29.679728",
     "exception": false,
     "start_time": "2022-10-20T20:01:29.656842",
     "status": "completed"
    },
    "tags": []
   },
   "outputs": [
    {
     "data": {
      "text/plain": [
       "Kraków                  21\n",
       "Łódź                    18\n",
       "Rzeszów                 17\n",
       "Płock                   16\n",
       "Zielonka                14\n",
       "                        ..\n",
       "Czerwionka-Leszczyny     3\n",
       "Złoty Potok              3\n",
       "Nakło nad Notecią        3\n",
       "Kalisz                   3\n",
       "Kościerzyna              3\n",
       "Name: city, Length: 64, dtype: int64"
      ]
     },
     "execution_count": 11,
     "metadata": {},
     "output_type": "execute_result"
    }
   ],
   "source": [
    "df.city.value_counts()"
   ]
  },
  {
   "cell_type": "markdown",
   "id": "acee7b95",
   "metadata": {
    "papermill": {
     "duration": 0.007058,
     "end_time": "2022-10-20T20:01:29.694068",
     "exception": false,
     "start_time": "2022-10-20T20:01:29.687010",
     "status": "completed"
    },
    "tags": []
   },
   "source": [
    "# **SQL (Structured Query Language)**\n",
    "### **1. Select, From & Where**"
   ]
  },
  {
   "cell_type": "code",
   "execution_count": 12,
   "id": "1fbbe363",
   "metadata": {
    "execution": {
     "iopub.execute_input": "2022-10-20T20:01:29.711104Z",
     "iopub.status.busy": "2022-10-20T20:01:29.710280Z",
     "iopub.status.idle": "2022-10-20T20:01:51.639861Z",
     "shell.execute_reply": "2022-10-20T20:01:51.638534Z"
    },
    "papermill": {
     "duration": 21.941514,
     "end_time": "2022-10-20T20:01:51.642944",
     "exception": false,
     "start_time": "2022-10-20T20:01:29.701430",
     "status": "completed"
    },
    "tags": []
   },
   "outputs": [],
   "source": [
    "query = \"\"\"\n",
    "        SELECT city\n",
    "        FROM `bigquery-public-data.openaq.global_air_quality`\n",
    "        WHERE country = 'US'\n",
    "        \"\"\"\n",
    "\n",
    "query_job = client.query(query)\n",
    "us_cities = query_job.to_dataframe()"
   ]
  },
  {
   "cell_type": "code",
   "execution_count": 13,
   "id": "4fa93041",
   "metadata": {
    "execution": {
     "iopub.execute_input": "2022-10-20T20:01:51.660332Z",
     "iopub.status.busy": "2022-10-20T20:01:51.659670Z",
     "iopub.status.idle": "2022-10-20T20:01:51.668331Z",
     "shell.execute_reply": "2022-10-20T20:01:51.667433Z"
    },
    "papermill": {
     "duration": 0.019696,
     "end_time": "2022-10-20T20:01:51.670587",
     "exception": false,
     "start_time": "2022-10-20T20:01:51.650891",
     "status": "completed"
    },
    "tags": []
   },
   "outputs": [
    {
     "data": {
      "text/html": [
       "<div>\n",
       "<style scoped>\n",
       "    .dataframe tbody tr th:only-of-type {\n",
       "        vertical-align: middle;\n",
       "    }\n",
       "\n",
       "    .dataframe tbody tr th {\n",
       "        vertical-align: top;\n",
       "    }\n",
       "\n",
       "    .dataframe thead th {\n",
       "        text-align: right;\n",
       "    }\n",
       "</style>\n",
       "<table border=\"1\" class=\"dataframe\">\n",
       "  <thead>\n",
       "    <tr style=\"text-align: right;\">\n",
       "      <th></th>\n",
       "      <th>city</th>\n",
       "    </tr>\n",
       "  </thead>\n",
       "  <tbody>\n",
       "    <tr>\n",
       "      <th>0</th>\n",
       "      <td>HOWARD</td>\n",
       "    </tr>\n",
       "    <tr>\n",
       "      <th>1</th>\n",
       "      <td>HOWARD</td>\n",
       "    </tr>\n",
       "    <tr>\n",
       "      <th>2</th>\n",
       "      <td>HOWARD</td>\n",
       "    </tr>\n",
       "    <tr>\n",
       "      <th>3</th>\n",
       "      <td>HOWARD</td>\n",
       "    </tr>\n",
       "    <tr>\n",
       "      <th>4</th>\n",
       "      <td>HOWARD</td>\n",
       "    </tr>\n",
       "  </tbody>\n",
       "</table>\n",
       "</div>"
      ],
      "text/plain": [
       "     city\n",
       "0  HOWARD\n",
       "1  HOWARD\n",
       "2  HOWARD\n",
       "3  HOWARD\n",
       "4  HOWARD"
      ]
     },
     "execution_count": 13,
     "metadata": {},
     "output_type": "execute_result"
    }
   ],
   "source": [
    "us_cities.head()"
   ]
  },
  {
   "cell_type": "code",
   "execution_count": 14,
   "id": "75ed622d",
   "metadata": {
    "execution": {
     "iopub.execute_input": "2022-10-20T20:01:51.687563Z",
     "iopub.status.busy": "2022-10-20T20:01:51.687167Z",
     "iopub.status.idle": "2022-10-20T20:02:03.661064Z",
     "shell.execute_reply": "2022-10-20T20:02:03.659928Z"
    },
    "papermill": {
     "duration": 11.985651,
     "end_time": "2022-10-20T20:02:03.663825",
     "exception": false,
     "start_time": "2022-10-20T20:01:51.678174",
     "status": "completed"
    },
    "tags": []
   },
   "outputs": [],
   "source": [
    "query_1 = \"\"\"\n",
    "        SELECT city\n",
    "        FROM `bigquery-public-data.openaq.global_air_quality`\n",
    "        WHERE country = 'IN'\n",
    "        \"\"\"\n",
    "query_1_job = client.query(query_1)\n",
    "india_city = query_1_job.to_dataframe()"
   ]
  },
  {
   "cell_type": "code",
   "execution_count": 15,
   "id": "d9b1ebf4",
   "metadata": {
    "execution": {
     "iopub.execute_input": "2022-10-20T20:02:03.680808Z",
     "iopub.status.busy": "2022-10-20T20:02:03.680424Z",
     "iopub.status.idle": "2022-10-20T20:02:03.690544Z",
     "shell.execute_reply": "2022-10-20T20:02:03.689338Z"
    },
    "papermill": {
     "duration": 0.021377,
     "end_time": "2022-10-20T20:02:03.692816",
     "exception": false,
     "start_time": "2022-10-20T20:02:03.671439",
     "status": "completed"
    },
    "tags": []
   },
   "outputs": [
    {
     "data": {
      "text/html": [
       "<div>\n",
       "<style scoped>\n",
       "    .dataframe tbody tr th:only-of-type {\n",
       "        vertical-align: middle;\n",
       "    }\n",
       "\n",
       "    .dataframe tbody tr th {\n",
       "        vertical-align: top;\n",
       "    }\n",
       "\n",
       "    .dataframe thead th {\n",
       "        text-align: right;\n",
       "    }\n",
       "</style>\n",
       "<table border=\"1\" class=\"dataframe\">\n",
       "  <thead>\n",
       "    <tr style=\"text-align: right;\">\n",
       "      <th></th>\n",
       "      <th>city</th>\n",
       "    </tr>\n",
       "  </thead>\n",
       "  <tbody>\n",
       "    <tr>\n",
       "      <th>0</th>\n",
       "      <td>Tirupati</td>\n",
       "    </tr>\n",
       "    <tr>\n",
       "      <th>1</th>\n",
       "      <td>Indore</td>\n",
       "    </tr>\n",
       "    <tr>\n",
       "      <th>2</th>\n",
       "      <td>Bilaspur</td>\n",
       "    </tr>\n",
       "    <tr>\n",
       "      <th>3</th>\n",
       "      <td>Visakhapatnam</td>\n",
       "    </tr>\n",
       "    <tr>\n",
       "      <th>4</th>\n",
       "      <td>Darbhanga</td>\n",
       "    </tr>\n",
       "  </tbody>\n",
       "</table>\n",
       "</div>"
      ],
      "text/plain": [
       "            city\n",
       "0       Tirupati\n",
       "1         Indore\n",
       "2       Bilaspur\n",
       "3  Visakhapatnam\n",
       "4      Darbhanga"
      ]
     },
     "execution_count": 15,
     "metadata": {},
     "output_type": "execute_result"
    }
   ],
   "source": [
    "india_city.head()"
   ]
  },
  {
   "cell_type": "code",
   "execution_count": 16,
   "id": "811436b4",
   "metadata": {
    "execution": {
     "iopub.execute_input": "2022-10-20T20:02:03.709775Z",
     "iopub.status.busy": "2022-10-20T20:02:03.709410Z",
     "iopub.status.idle": "2022-10-20T20:02:03.801265Z",
     "shell.execute_reply": "2022-10-20T20:02:03.800171Z"
    },
    "papermill": {
     "duration": 0.103409,
     "end_time": "2022-10-20T20:02:03.803942",
     "exception": false,
     "start_time": "2022-10-20T20:02:03.700533",
     "status": "completed"
    },
    "tags": []
   },
   "outputs": [
    {
     "data": {
      "text/plain": [
       "city     \n",
       "Delhi        78586\n",
       "Mumbai       42833\n",
       "Bengaluru    19668\n",
       "Chennai      19130\n",
       "Ahmedabad    18897\n",
       "dtype: int64"
      ]
     },
     "execution_count": 16,
     "metadata": {},
     "output_type": "execute_result"
    }
   ],
   "source": [
    "india_city.value_counts().sort_values(ascending=False).head()"
   ]
  },
  {
   "cell_type": "code",
   "execution_count": 17,
   "id": "bb3139da",
   "metadata": {
    "execution": {
     "iopub.execute_input": "2022-10-20T20:02:03.821529Z",
     "iopub.status.busy": "2022-10-20T20:02:03.821102Z",
     "iopub.status.idle": "2022-10-20T20:02:27.228735Z",
     "shell.execute_reply": "2022-10-20T20:02:27.227471Z"
    },
    "papermill": {
     "duration": 23.419844,
     "end_time": "2022-10-20T20:02:27.231577",
     "exception": false,
     "start_time": "2022-10-20T20:02:03.811733",
     "status": "completed"
    },
    "tags": []
   },
   "outputs": [],
   "source": [
    "query_2 = \"\"\" \n",
    "          SELECT city, country, value\n",
    "          FROM `bigquery-public-data.openaq.global_air_quality`\n",
    "          WHERE country = \"IN\"\n",
    "          \n",
    "          \"\"\"\n",
    "query_2_job = client.query(query_2)\n",
    "query_2_df = query_2_job.to_dataframe()"
   ]
  },
  {
   "cell_type": "code",
   "execution_count": 18,
   "id": "daef2bec",
   "metadata": {
    "execution": {
     "iopub.execute_input": "2022-10-20T20:02:27.249593Z",
     "iopub.status.busy": "2022-10-20T20:02:27.249167Z",
     "iopub.status.idle": "2022-10-20T20:02:27.260756Z",
     "shell.execute_reply": "2022-10-20T20:02:27.259537Z"
    },
    "papermill": {
     "duration": 0.023505,
     "end_time": "2022-10-20T20:02:27.263252",
     "exception": false,
     "start_time": "2022-10-20T20:02:27.239747",
     "status": "completed"
    },
    "tags": []
   },
   "outputs": [
    {
     "data": {
      "text/html": [
       "<div>\n",
       "<style scoped>\n",
       "    .dataframe tbody tr th:only-of-type {\n",
       "        vertical-align: middle;\n",
       "    }\n",
       "\n",
       "    .dataframe tbody tr th {\n",
       "        vertical-align: top;\n",
       "    }\n",
       "\n",
       "    .dataframe thead th {\n",
       "        text-align: right;\n",
       "    }\n",
       "</style>\n",
       "<table border=\"1\" class=\"dataframe\">\n",
       "  <thead>\n",
       "    <tr style=\"text-align: right;\">\n",
       "      <th></th>\n",
       "      <th>city</th>\n",
       "      <th>country</th>\n",
       "      <th>value</th>\n",
       "    </tr>\n",
       "  </thead>\n",
       "  <tbody>\n",
       "    <tr>\n",
       "      <th>0</th>\n",
       "      <td>Ambala</td>\n",
       "      <td>IN</td>\n",
       "      <td>490.0</td>\n",
       "    </tr>\n",
       "    <tr>\n",
       "      <th>1</th>\n",
       "      <td>Srinagar</td>\n",
       "      <td>IN</td>\n",
       "      <td>0.0</td>\n",
       "    </tr>\n",
       "    <tr>\n",
       "      <th>2</th>\n",
       "      <td>Davanagere</td>\n",
       "      <td>IN</td>\n",
       "      <td>140.0</td>\n",
       "    </tr>\n",
       "    <tr>\n",
       "      <th>3</th>\n",
       "      <td>Purnia</td>\n",
       "      <td>IN</td>\n",
       "      <td>1180.0</td>\n",
       "    </tr>\n",
       "    <tr>\n",
       "      <th>4</th>\n",
       "      <td>Hisar</td>\n",
       "      <td>IN</td>\n",
       "      <td>710.0</td>\n",
       "    </tr>\n",
       "  </tbody>\n",
       "</table>\n",
       "</div>"
      ],
      "text/plain": [
       "         city country   value\n",
       "0      Ambala      IN   490.0\n",
       "1    Srinagar      IN     0.0\n",
       "2  Davanagere      IN   140.0\n",
       "3      Purnia      IN  1180.0\n",
       "4       Hisar      IN   710.0"
      ]
     },
     "execution_count": 18,
     "metadata": {},
     "output_type": "execute_result"
    }
   ],
   "source": [
    "query_2_df.head()"
   ]
  },
  {
   "cell_type": "code",
   "execution_count": 19,
   "id": "9a7917f2",
   "metadata": {
    "execution": {
     "iopub.execute_input": "2022-10-20T20:02:27.280939Z",
     "iopub.status.busy": "2022-10-20T20:02:27.280545Z",
     "iopub.status.idle": "2022-10-20T20:04:02.904105Z",
     "shell.execute_reply": "2022-10-20T20:04:02.903026Z"
    },
    "papermill": {
     "duration": 95.635606,
     "end_time": "2022-10-20T20:04:02.906858",
     "exception": false,
     "start_time": "2022-10-20T20:02:27.271252",
     "status": "completed"
    },
    "tags": []
   },
   "outputs": [],
   "source": [
    "query_3 = \"\"\"\n",
    "          SELECT *\n",
    "          FROM `bigquery-public-data.openaq.global_air_quality`\n",
    "          WHERE country = \"IN\"\n",
    "          \"\"\"\n",
    "query_3_job = client.query(query_3)\n",
    "query_3_df = query_3_job.to_dataframe()"
   ]
  },
  {
   "cell_type": "code",
   "execution_count": 20,
   "id": "0464e55d",
   "metadata": {
    "execution": {
     "iopub.execute_input": "2022-10-20T20:04:02.925171Z",
     "iopub.status.busy": "2022-10-20T20:04:02.924770Z",
     "iopub.status.idle": "2022-10-20T20:04:02.943062Z",
     "shell.execute_reply": "2022-10-20T20:04:02.941892Z"
    },
    "papermill": {
     "duration": 0.03026,
     "end_time": "2022-10-20T20:04:02.945450",
     "exception": false,
     "start_time": "2022-10-20T20:04:02.915190",
     "status": "completed"
    },
    "tags": []
   },
   "outputs": [
    {
     "data": {
      "text/html": [
       "<div>\n",
       "<style scoped>\n",
       "    .dataframe tbody tr th:only-of-type {\n",
       "        vertical-align: middle;\n",
       "    }\n",
       "\n",
       "    .dataframe tbody tr th {\n",
       "        vertical-align: top;\n",
       "    }\n",
       "\n",
       "    .dataframe thead th {\n",
       "        text-align: right;\n",
       "    }\n",
       "</style>\n",
       "<table border=\"1\" class=\"dataframe\">\n",
       "  <thead>\n",
       "    <tr style=\"text-align: right;\">\n",
       "      <th></th>\n",
       "      <th>location</th>\n",
       "      <th>city</th>\n",
       "      <th>country</th>\n",
       "      <th>pollutant</th>\n",
       "      <th>value</th>\n",
       "      <th>timestamp</th>\n",
       "      <th>unit</th>\n",
       "      <th>source_name</th>\n",
       "      <th>latitude</th>\n",
       "      <th>longitude</th>\n",
       "      <th>averaged_over_in_hours</th>\n",
       "      <th>location_geom</th>\n",
       "    </tr>\n",
       "  </thead>\n",
       "  <tbody>\n",
       "    <tr>\n",
       "      <th>0</th>\n",
       "      <td>Patti Mehar, Ambala - HSPCB</td>\n",
       "      <td>Ambala</td>\n",
       "      <td>IN</td>\n",
       "      <td>co</td>\n",
       "      <td>490.0</td>\n",
       "      <td>2022-05-15 01:45:00+00:00</td>\n",
       "      <td>µg/m³</td>\n",
       "      <td>caaqm</td>\n",
       "      <td>0.25</td>\n",
       "      <td>30.379589</td>\n",
       "      <td>76.778328</td>\n",
       "      <td>POINT(30.379589 0.25)</td>\n",
       "    </tr>\n",
       "    <tr>\n",
       "      <th>1</th>\n",
       "      <td>Rajbagh, Srinagar - JKSPCB</td>\n",
       "      <td>Srinagar</td>\n",
       "      <td>IN</td>\n",
       "      <td>co</td>\n",
       "      <td>0.0</td>\n",
       "      <td>2022-05-04 15:15:00+00:00</td>\n",
       "      <td>µg/m³</td>\n",
       "      <td>caaqm</td>\n",
       "      <td>0.25</td>\n",
       "      <td>34.066206</td>\n",
       "      <td>74.819820</td>\n",
       "      <td>POINT(34.066206 0.25)</td>\n",
       "    </tr>\n",
       "    <tr>\n",
       "      <th>2</th>\n",
       "      <td>Devaraj Urs Badavane, Davanagere - KSPCB</td>\n",
       "      <td>Davanagere</td>\n",
       "      <td>IN</td>\n",
       "      <td>co</td>\n",
       "      <td>140.0</td>\n",
       "      <td>2022-05-13 08:00:00+00:00</td>\n",
       "      <td>µg/m³</td>\n",
       "      <td>caaqm</td>\n",
       "      <td>0.25</td>\n",
       "      <td>14.475800</td>\n",
       "      <td>75.905200</td>\n",
       "      <td>POINT(14.4758 0.25)</td>\n",
       "    </tr>\n",
       "    <tr>\n",
       "      <th>3</th>\n",
       "      <td>Mariam Nagar, Purnia - BSPCB</td>\n",
       "      <td>Purnia</td>\n",
       "      <td>IN</td>\n",
       "      <td>co</td>\n",
       "      <td>1180.0</td>\n",
       "      <td>2022-05-05 13:45:00+00:00</td>\n",
       "      <td>µg/m³</td>\n",
       "      <td>caaqm</td>\n",
       "      <td>0.25</td>\n",
       "      <td>25.366336</td>\n",
       "      <td>87.117468</td>\n",
       "      <td>POINT(25.366336 0.25)</td>\n",
       "    </tr>\n",
       "    <tr>\n",
       "      <th>4</th>\n",
       "      <td>Urban Estate-II, Hisar - HSPCB</td>\n",
       "      <td>Hisar</td>\n",
       "      <td>IN</td>\n",
       "      <td>co</td>\n",
       "      <td>710.0</td>\n",
       "      <td>2022-05-15 22:45:00+00:00</td>\n",
       "      <td>µg/m³</td>\n",
       "      <td>caaqm</td>\n",
       "      <td>0.25</td>\n",
       "      <td>29.140560</td>\n",
       "      <td>75.744941</td>\n",
       "      <td>POINT(29.14056 0.25)</td>\n",
       "    </tr>\n",
       "  </tbody>\n",
       "</table>\n",
       "</div>"
      ],
      "text/plain": [
       "                                   location        city country pollutant  \\\n",
       "0               Patti Mehar, Ambala - HSPCB      Ambala      IN        co   \n",
       "1                Rajbagh, Srinagar - JKSPCB    Srinagar      IN        co   \n",
       "2  Devaraj Urs Badavane, Davanagere - KSPCB  Davanagere      IN        co   \n",
       "3              Mariam Nagar, Purnia - BSPCB      Purnia      IN        co   \n",
       "4            Urban Estate-II, Hisar - HSPCB       Hisar      IN        co   \n",
       "\n",
       "    value                 timestamp   unit source_name  latitude  longitude  \\\n",
       "0   490.0 2022-05-15 01:45:00+00:00  µg/m³       caaqm      0.25  30.379589   \n",
       "1     0.0 2022-05-04 15:15:00+00:00  µg/m³       caaqm      0.25  34.066206   \n",
       "2   140.0 2022-05-13 08:00:00+00:00  µg/m³       caaqm      0.25  14.475800   \n",
       "3  1180.0 2022-05-05 13:45:00+00:00  µg/m³       caaqm      0.25  25.366336   \n",
       "4   710.0 2022-05-15 22:45:00+00:00  µg/m³       caaqm      0.25  29.140560   \n",
       "\n",
       "   averaged_over_in_hours          location_geom  \n",
       "0               76.778328  POINT(30.379589 0.25)  \n",
       "1               74.819820  POINT(34.066206 0.25)  \n",
       "2               75.905200    POINT(14.4758 0.25)  \n",
       "3               87.117468  POINT(25.366336 0.25)  \n",
       "4               75.744941   POINT(29.14056 0.25)  "
      ]
     },
     "execution_count": 20,
     "metadata": {},
     "output_type": "execute_result"
    }
   ],
   "source": [
    "query_3_df.head()"
   ]
  },
  {
   "cell_type": "code",
   "execution_count": null,
   "id": "f47e2649",
   "metadata": {
    "papermill": {
     "duration": 0.008168,
     "end_time": "2022-10-20T20:04:02.962248",
     "exception": false,
     "start_time": "2022-10-20T20:04:02.954080",
     "status": "completed"
    },
    "tags": []
   },
   "outputs": [],
   "source": []
  }
 ],
 "metadata": {
  "kernelspec": {
   "display_name": "Python 3",
   "language": "python",
   "name": "python3"
  },
  "language_info": {
   "codemirror_mode": {
    "name": "ipython",
    "version": 3
   },
   "file_extension": ".py",
   "mimetype": "text/x-python",
   "name": "python",
   "nbconvert_exporter": "python",
   "pygments_lexer": "ipython3",
   "version": "3.7.12"
  },
  "papermill": {
   "default_parameters": {},
   "duration": 168.083183,
   "end_time": "2022-10-20T20:04:03.693080",
   "environment_variables": {},
   "exception": null,
   "input_path": "__notebook__.ipynb",
   "output_path": "__notebook__.ipynb",
   "parameters": {},
   "start_time": "2022-10-20T20:01:15.609897",
   "version": "2.3.4"
  }
 },
 "nbformat": 4,
 "nbformat_minor": 5
}
