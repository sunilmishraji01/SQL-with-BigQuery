{
 "cells": [
  {
   "cell_type": "code",
   "execution_count": 1,
   "id": "5841c422",
   "metadata": {
    "_cell_guid": "b1076dfc-b9ad-4769-8c92-a6c4dae69d19",
    "_uuid": "8f2839f25d086af736a60e9eeb907d3b93b6e0e5",
    "execution": {
     "iopub.execute_input": "2022-10-20T20:06:28.644334Z",
     "iopub.status.busy": "2022-10-20T20:06:28.643164Z",
     "iopub.status.idle": "2022-10-20T20:06:28.658110Z",
     "shell.execute_reply": "2022-10-20T20:06:28.656919Z"
    },
    "papermill": {
     "duration": 0.031503,
     "end_time": "2022-10-20T20:06:28.661448",
     "exception": false,
     "start_time": "2022-10-20T20:06:28.629945",
     "status": "completed"
    },
    "tags": []
   },
   "outputs": [],
   "source": [
    "import numpy as np\n",
    "import pandas as pd\n",
    "import warnings\n",
    "warnings.filterwarnings(\"ignore\")\n",
    "\n",
    "from google.cloud import bigquery"
   ]
  },
  {
   "cell_type": "markdown",
   "id": "e78f6fbd",
   "metadata": {
    "papermill": {
     "duration": 0.005932,
     "end_time": "2022-10-20T20:06:28.673940",
     "exception": false,
     "start_time": "2022-10-20T20:06:28.668008",
     "status": "completed"
    },
    "tags": []
   },
   "source": [
    "# **BigQuery**"
   ]
  },
  {
   "cell_type": "code",
   "execution_count": 2,
   "id": "f5a97a86",
   "metadata": {
    "execution": {
     "iopub.execute_input": "2022-10-20T20:06:28.689940Z",
     "iopub.status.busy": "2022-10-20T20:06:28.688461Z",
     "iopub.status.idle": "2022-10-20T20:06:28.702465Z",
     "shell.execute_reply": "2022-10-20T20:06:28.701130Z"
    },
    "papermill": {
     "duration": 0.026468,
     "end_time": "2022-10-20T20:06:28.706578",
     "exception": false,
     "start_time": "2022-10-20T20:06:28.680110",
     "status": "completed"
    },
    "tags": []
   },
   "outputs": [
    {
     "name": "stdout",
     "output_type": "stream",
     "text": [
      "Using Kaggle's public dataset BigQuery integration.\n"
     ]
    },
    {
     "data": {
      "text/plain": [
       "'2.2.0'"
      ]
     },
     "execution_count": 2,
     "metadata": {},
     "output_type": "execute_result"
    }
   ],
   "source": [
    "# client object\n",
    "client = bigquery.Client()\n",
    "\n",
    "# version\n",
    "bigquery.__version__"
   ]
  },
  {
   "cell_type": "code",
   "execution_count": 3,
   "id": "0e87eaab",
   "metadata": {
    "execution": {
     "iopub.execute_input": "2022-10-20T20:06:28.723289Z",
     "iopub.status.busy": "2022-10-20T20:06:28.722306Z",
     "iopub.status.idle": "2022-10-20T20:06:28.740811Z",
     "shell.execute_reply": "2022-10-20T20:06:28.739664Z"
    },
    "papermill": {
     "duration": 0.030364,
     "end_time": "2022-10-20T20:06:28.744116",
     "exception": false,
     "start_time": "2022-10-20T20:06:28.713752",
     "status": "completed"
    },
    "tags": []
   },
   "outputs": [],
   "source": [
    "def about_dataset(dataset_id, project_id=\"bigquery-public-data\"):\n",
    "    \"\"\"\n",
    "    Description of any dataset in BigQuery.\n",
    "    \n",
    "    dataset_id > typr(str)\n",
    "    project_id > type(str)\n",
    "    \"\"\"\n",
    "    # client object\n",
    "    client = bigquery.Client()\n",
    "    # refrence for dataset\n",
    "    dataset_ref = client.dataset(dataset_id,project= project_id)\n",
    "    # Api request - fetch the dataset:\n",
    "    dataset = client.get_dataset(dataset_ref)\n",
    "    # about dataset\n",
    "    print(dataset.description)\n",
    "    \n",
    "\n",
    "def list_table_id(dataset_id, project_id=\"bigquery-public-data\"):\n",
    "    \"\"\"\n",
    "    Return list of table_id in dataset.\n",
    "    \n",
    "    dataset_id > typr(str)\n",
    "    project_id > type(str)\n",
    "    \"\"\"\n",
    "    # client object\n",
    "    client = bigquery.Client()\n",
    "    # refrence for dataset\n",
    "    dataset_ref = client.dataset(dataset_id,project= project_id)\n",
    "    # Api request - fetch the dataset:\n",
    "    dataset = client.get_dataset(dataset_ref)\n",
    "    tables = client.list_tables(dataset)\n",
    "    print(f\"table_name_id in {dataset_id} dataset\\n\")\n",
    "    for table in tables:\n",
    "        print(f\"table_name_id : {table.table_id}\")\n",
    "\n",
    "def about_table(table_id,dataset_id, project_id=\"bigquery-public-data\"):\n",
    "    \"\"\"\n",
    "    Description of table of dataset.\n",
    "    \n",
    "    dataset_id > typr(str)\n",
    "    project_id > type(str)\n",
    "    table_id   >   type(str)\n",
    "    \"\"\"\n",
    "    # client object\n",
    "    client = bigquery.Client()\n",
    "    # refrence for dataset\n",
    "    dataset_ref = client.dataset(dataset_id,project= project_id)\n",
    "    # Api request - fetch the dataset:\n",
    "    dataset = client.get_dataset(dataset_ref)\n",
    "    \n",
    "    table_ref = dataset_ref.table(table_id)\n",
    "    # API -reguest - fetch the table :\n",
    "    table = client.get_table(table_ref)\n",
    "    # about table :\n",
    "    print(table.description)\n",
    "\n",
    "def about_table_column(table_id,dataset_id, project_id=\"bigquery-public-data\"):\n",
    "    \"\"\"\n",
    "    Description about column(field) of any table of dataset.\n",
    "    Each `SchemaField` tells us about all tha column(field) name,type,mode & description in table.\n",
    "    \n",
    "    dataset_id > typr(str)\n",
    "    project_id > type(str)\n",
    "    table_id   > type(str)\n",
    "    \"\"\"\n",
    "    # client object\n",
    "    client = bigquery.Client()\n",
    "    # refrence for dataset\n",
    "    dataset_ref = client.dataset(dataset_id,project= project_id)\n",
    "    # Api request - fetch the dataset:\n",
    "    dataset = client.get_dataset(dataset_ref)\n",
    "    \n",
    "    table_ref = dataset_ref.table(table_id)\n",
    "    # API -reguest - fetch the table :\n",
    "    table = client.get_table(table_ref)\n",
    "    # about column of table :\n",
    "    return table.schema\n",
    "    \n",
    "\n",
    "def fetch_table(table_id,dataset_id, project_id=\"bigquery-public-data\"):\n",
    "    \"\"\"\n",
    "    fetch tables of dataset\n",
    "    \n",
    "    dataset_id > typr(str)\n",
    "    project_id > type(str)\n",
    "    table_id   > type(str)\n",
    "    \"\"\"\n",
    "    client = bigquery.Client()\n",
    "    dataset_ref = client.dataset(dataset_id, project = project_id)\n",
    "    dataset = client.get_dataset(dataset_ref)\n",
    "    table_ref = dataset_ref.table(table_id)\n",
    "    table = client.get_table(table_ref)\n",
    "    return table"
   ]
  },
  {
   "cell_type": "code",
   "execution_count": 4,
   "id": "f540740e",
   "metadata": {
    "execution": {
     "iopub.execute_input": "2022-10-20T20:06:28.765736Z",
     "iopub.status.busy": "2022-10-20T20:06:28.764705Z",
     "iopub.status.idle": "2022-10-20T20:06:29.046007Z",
     "shell.execute_reply": "2022-10-20T20:06:29.044525Z"
    },
    "papermill": {
     "duration": 0.296788,
     "end_time": "2022-10-20T20:06:29.050434",
     "exception": false,
     "start_time": "2022-10-20T20:06:28.753646",
     "status": "completed"
    },
    "tags": []
   },
   "outputs": [
    {
     "name": "stdout",
     "output_type": "stream",
     "text": [
      "Using Kaggle's public dataset BigQuery integration.\n",
      "OpenAQ is an open-source project to surface live, real-time air quality data from around the world. Their “mission is to enable previously impossible science, impact policy and empower the public to fight air pollution.” The data includes air quality measurements from 5490 locations in 47 countries.\n",
      "\n",
      "Scientists, researchers, developers, and citizens can use this data to understand the quality of air near them currently. The dataset only includes the most current measurement available for the location (no historical data). \n",
      "\n",
      "Dataset Source: openaq.org\n",
      "\n",
      "Category: Science\n",
      "\n",
      "Use: This dataset is publicly available for anyone to use under the following terms provided by the Dataset Source — https://openaq.org/#/about?_k=s3aspo — and is provided \"AS IS\" without any warranty, express or implied, from Google. Google disclaims all liability for any damages, direct or indirect, resulting from the use of the dataset. \n",
      "\n",
      "Update Frequency: Hourly\n"
     ]
    }
   ],
   "source": [
    "about_dataset(\"openaq\")"
   ]
  },
  {
   "cell_type": "code",
   "execution_count": 5,
   "id": "b3d653e9",
   "metadata": {
    "execution": {
     "iopub.execute_input": "2022-10-20T20:06:29.069261Z",
     "iopub.status.busy": "2022-10-20T20:06:29.067793Z",
     "iopub.status.idle": "2022-10-20T20:06:29.581268Z",
     "shell.execute_reply": "2022-10-20T20:06:29.579465Z"
    },
    "papermill": {
     "duration": 0.525244,
     "end_time": "2022-10-20T20:06:29.584206",
     "exception": false,
     "start_time": "2022-10-20T20:06:29.058962",
     "status": "completed"
    },
    "tags": []
   },
   "outputs": [
    {
     "name": "stdout",
     "output_type": "stream",
     "text": [
      "Using Kaggle's public dataset BigQuery integration.\n",
      "table_name_id in openaq dataset\n",
      "\n",
      "table_name_id : global_air_quality\n"
     ]
    }
   ],
   "source": [
    "list_table_id(\"openaq\")"
   ]
  },
  {
   "cell_type": "code",
   "execution_count": 6,
   "id": "2a2f1c59",
   "metadata": {
    "execution": {
     "iopub.execute_input": "2022-10-20T20:06:29.600077Z",
     "iopub.status.busy": "2022-10-20T20:06:29.599593Z",
     "iopub.status.idle": "2022-10-20T20:06:30.439286Z",
     "shell.execute_reply": "2022-10-20T20:06:30.437557Z"
    },
    "papermill": {
     "duration": 0.851482,
     "end_time": "2022-10-20T20:06:30.442513",
     "exception": false,
     "start_time": "2022-10-20T20:06:29.591031",
     "status": "completed"
    },
    "scrolled": true,
    "tags": []
   },
   "outputs": [
    {
     "name": "stdout",
     "output_type": "stream",
     "text": [
      "Using Kaggle's public dataset BigQuery integration.\n",
      "None\n"
     ]
    }
   ],
   "source": [
    "about_table(\"global_air_quality\",\"openaq\")"
   ]
  },
  {
   "cell_type": "code",
   "execution_count": 7,
   "id": "6d06e1d3",
   "metadata": {
    "execution": {
     "iopub.execute_input": "2022-10-20T20:06:30.458728Z",
     "iopub.status.busy": "2022-10-20T20:06:30.458308Z",
     "iopub.status.idle": "2022-10-20T20:06:31.189993Z",
     "shell.execute_reply": "2022-10-20T20:06:31.188954Z"
    },
    "papermill": {
     "duration": 0.743701,
     "end_time": "2022-10-20T20:06:31.193210",
     "exception": false,
     "start_time": "2022-10-20T20:06:30.449509",
     "status": "completed"
    },
    "tags": []
   },
   "outputs": [
    {
     "name": "stdout",
     "output_type": "stream",
     "text": [
      "Using Kaggle's public dataset BigQuery integration.\n"
     ]
    },
    {
     "data": {
      "text/plain": [
       "[SchemaField('location', 'STRING', 'NULLABLE', None, (), None),\n",
       " SchemaField('city', 'STRING', 'NULLABLE', None, (), None),\n",
       " SchemaField('country', 'STRING', 'NULLABLE', None, (), None),\n",
       " SchemaField('pollutant', 'STRING', 'NULLABLE', None, (), None),\n",
       " SchemaField('value', 'FLOAT', 'NULLABLE', None, (), None),\n",
       " SchemaField('timestamp', 'TIMESTAMP', 'NULLABLE', None, (), None),\n",
       " SchemaField('unit', 'STRING', 'NULLABLE', None, (), None),\n",
       " SchemaField('source_name', 'STRING', 'NULLABLE', None, (), None),\n",
       " SchemaField('latitude', 'FLOAT', 'NULLABLE', None, (), None),\n",
       " SchemaField('longitude', 'FLOAT', 'NULLABLE', None, (), None),\n",
       " SchemaField('averaged_over_in_hours', 'FLOAT', 'NULLABLE', None, (), None),\n",
       " SchemaField('location_geom', 'GEOGRAPHY', 'NULLABLE', None, (), None)]"
      ]
     },
     "execution_count": 7,
     "metadata": {},
     "output_type": "execute_result"
    }
   ],
   "source": [
    "about_table_column(\"global_air_quality\",\"openaq\")"
   ]
  },
  {
   "cell_type": "code",
   "execution_count": 8,
   "id": "56435d1c",
   "metadata": {
    "execution": {
     "iopub.execute_input": "2022-10-20T20:06:31.211563Z",
     "iopub.status.busy": "2022-10-20T20:06:31.210138Z",
     "iopub.status.idle": "2022-10-20T20:06:32.403111Z",
     "shell.execute_reply": "2022-10-20T20:06:32.401908Z"
    },
    "papermill": {
     "duration": 1.20539,
     "end_time": "2022-10-20T20:06:32.405971",
     "exception": false,
     "start_time": "2022-10-20T20:06:31.200581",
     "status": "completed"
    },
    "tags": []
   },
   "outputs": [
    {
     "name": "stdout",
     "output_type": "stream",
     "text": [
      "Using Kaggle's public dataset BigQuery integration.\n"
     ]
    }
   ],
   "source": [
    "table = fetch_table(\"global_air_quality\",\"openaq\")\n",
    "\n",
    "# first 5 rows in \"full\" table:\n",
    "df = client.list_rows(table,max_results=500).to_dataframe()"
   ]
  },
  {
   "cell_type": "code",
   "execution_count": 9,
   "id": "e914c8bd",
   "metadata": {
    "execution": {
     "iopub.execute_input": "2022-10-20T20:06:32.422802Z",
     "iopub.status.busy": "2022-10-20T20:06:32.421972Z",
     "iopub.status.idle": "2022-10-20T20:06:32.447795Z",
     "shell.execute_reply": "2022-10-20T20:06:32.446503Z"
    },
    "papermill": {
     "duration": 0.037241,
     "end_time": "2022-10-20T20:06:32.450512",
     "exception": false,
     "start_time": "2022-10-20T20:06:32.413271",
     "status": "completed"
    },
    "tags": []
   },
   "outputs": [
    {
     "data": {
      "text/html": [
       "<div>\n",
       "<style scoped>\n",
       "    .dataframe tbody tr th:only-of-type {\n",
       "        vertical-align: middle;\n",
       "    }\n",
       "\n",
       "    .dataframe tbody tr th {\n",
       "        vertical-align: top;\n",
       "    }\n",
       "\n",
       "    .dataframe thead th {\n",
       "        text-align: right;\n",
       "    }\n",
       "</style>\n",
       "<table border=\"1\" class=\"dataframe\">\n",
       "  <thead>\n",
       "    <tr style=\"text-align: right;\">\n",
       "      <th></th>\n",
       "      <th>location</th>\n",
       "      <th>city</th>\n",
       "      <th>country</th>\n",
       "      <th>pollutant</th>\n",
       "      <th>value</th>\n",
       "      <th>timestamp</th>\n",
       "      <th>unit</th>\n",
       "      <th>source_name</th>\n",
       "      <th>latitude</th>\n",
       "      <th>longitude</th>\n",
       "      <th>averaged_over_in_hours</th>\n",
       "      <th>location_geom</th>\n",
       "    </tr>\n",
       "  </thead>\n",
       "  <tbody>\n",
       "    <tr>\n",
       "      <th>0</th>\n",
       "      <td>Borówiec, ul. Drapałka</td>\n",
       "      <td>Borówiec</td>\n",
       "      <td>PL</td>\n",
       "      <td>bc</td>\n",
       "      <td>0.85217</td>\n",
       "      <td>2022-04-28 07:00:00+00:00</td>\n",
       "      <td>µg/m³</td>\n",
       "      <td>GIOS</td>\n",
       "      <td>1.0</td>\n",
       "      <td>52.276794</td>\n",
       "      <td>17.074114</td>\n",
       "      <td>POINT(52.276794 1)</td>\n",
       "    </tr>\n",
       "    <tr>\n",
       "      <th>1</th>\n",
       "      <td>Kraków, ul. Bulwarowa</td>\n",
       "      <td>Kraków</td>\n",
       "      <td>PL</td>\n",
       "      <td>bc</td>\n",
       "      <td>0.91284</td>\n",
       "      <td>2022-04-27 23:00:00+00:00</td>\n",
       "      <td>µg/m³</td>\n",
       "      <td>GIOS</td>\n",
       "      <td>1.0</td>\n",
       "      <td>50.069308</td>\n",
       "      <td>20.053492</td>\n",
       "      <td>POINT(50.069308 1)</td>\n",
       "    </tr>\n",
       "    <tr>\n",
       "      <th>2</th>\n",
       "      <td>Płock, ul. Reja</td>\n",
       "      <td>Płock</td>\n",
       "      <td>PL</td>\n",
       "      <td>bc</td>\n",
       "      <td>1.41000</td>\n",
       "      <td>2022-03-30 04:00:00+00:00</td>\n",
       "      <td>µg/m³</td>\n",
       "      <td>GIOS</td>\n",
       "      <td>1.0</td>\n",
       "      <td>52.550938</td>\n",
       "      <td>19.709791</td>\n",
       "      <td>POINT(52.550938 1)</td>\n",
       "    </tr>\n",
       "    <tr>\n",
       "      <th>3</th>\n",
       "      <td>Elbląg, ul. Bażyńskiego</td>\n",
       "      <td>Elbląg</td>\n",
       "      <td>PL</td>\n",
       "      <td>bc</td>\n",
       "      <td>0.33607</td>\n",
       "      <td>2022-05-03 13:00:00+00:00</td>\n",
       "      <td>µg/m³</td>\n",
       "      <td>GIOS</td>\n",
       "      <td>1.0</td>\n",
       "      <td>54.167847</td>\n",
       "      <td>19.410942</td>\n",
       "      <td>POINT(54.167847 1)</td>\n",
       "    </tr>\n",
       "    <tr>\n",
       "      <th>4</th>\n",
       "      <td>Piastów, ul. Pułaskiego</td>\n",
       "      <td>Piastów</td>\n",
       "      <td>PL</td>\n",
       "      <td>bc</td>\n",
       "      <td>0.51000</td>\n",
       "      <td>2022-05-11 05:00:00+00:00</td>\n",
       "      <td>µg/m³</td>\n",
       "      <td>GIOS</td>\n",
       "      <td>1.0</td>\n",
       "      <td>52.191728</td>\n",
       "      <td>20.837489</td>\n",
       "      <td>POINT(52.191728 1)</td>\n",
       "    </tr>\n",
       "  </tbody>\n",
       "</table>\n",
       "</div>"
      ],
      "text/plain": [
       "                  location      city country pollutant    value  \\\n",
       "0   Borówiec, ul. Drapałka  Borówiec      PL        bc  0.85217   \n",
       "1    Kraków, ul. Bulwarowa    Kraków      PL        bc  0.91284   \n",
       "2          Płock, ul. Reja     Płock      PL        bc  1.41000   \n",
       "3  Elbląg, ul. Bażyńskiego    Elbląg      PL        bc  0.33607   \n",
       "4  Piastów, ul. Pułaskiego   Piastów      PL        bc  0.51000   \n",
       "\n",
       "                  timestamp   unit source_name  latitude  longitude  \\\n",
       "0 2022-04-28 07:00:00+00:00  µg/m³        GIOS       1.0  52.276794   \n",
       "1 2022-04-27 23:00:00+00:00  µg/m³        GIOS       1.0  50.069308   \n",
       "2 2022-03-30 04:00:00+00:00  µg/m³        GIOS       1.0  52.550938   \n",
       "3 2022-05-03 13:00:00+00:00  µg/m³        GIOS       1.0  54.167847   \n",
       "4 2022-05-11 05:00:00+00:00  µg/m³        GIOS       1.0  52.191728   \n",
       "\n",
       "   averaged_over_in_hours       location_geom  \n",
       "0               17.074114  POINT(52.276794 1)  \n",
       "1               20.053492  POINT(50.069308 1)  \n",
       "2               19.709791  POINT(52.550938 1)  \n",
       "3               19.410942  POINT(54.167847 1)  \n",
       "4               20.837489  POINT(52.191728 1)  "
      ]
     },
     "execution_count": 9,
     "metadata": {},
     "output_type": "execute_result"
    }
   ],
   "source": [
    "df.head()"
   ]
  },
  {
   "cell_type": "code",
   "execution_count": 10,
   "id": "6bef3f43",
   "metadata": {
    "execution": {
     "iopub.execute_input": "2022-10-20T20:06:32.468711Z",
     "iopub.status.busy": "2022-10-20T20:06:32.468246Z",
     "iopub.status.idle": "2022-10-20T20:06:33.113941Z",
     "shell.execute_reply": "2022-10-20T20:06:33.112361Z"
    },
    "papermill": {
     "duration": 0.658676,
     "end_time": "2022-10-20T20:06:33.117583",
     "exception": false,
     "start_time": "2022-10-20T20:06:32.458907",
     "status": "completed"
    },
    "tags": []
   },
   "outputs": [
    {
     "data": {
      "text/html": [
       "<div>\n",
       "<style scoped>\n",
       "    .dataframe tbody tr th:only-of-type {\n",
       "        vertical-align: middle;\n",
       "    }\n",
       "\n",
       "    .dataframe tbody tr th {\n",
       "        vertical-align: top;\n",
       "    }\n",
       "\n",
       "    .dataframe thead th {\n",
       "        text-align: right;\n",
       "    }\n",
       "</style>\n",
       "<table border=\"1\" class=\"dataframe\">\n",
       "  <thead>\n",
       "    <tr style=\"text-align: right;\">\n",
       "      <th></th>\n",
       "      <th>location</th>\n",
       "    </tr>\n",
       "  </thead>\n",
       "  <tbody>\n",
       "    <tr>\n",
       "      <th>0</th>\n",
       "      <td>Borówiec, ul. Drapałka</td>\n",
       "    </tr>\n",
       "    <tr>\n",
       "      <th>1</th>\n",
       "      <td>Kraków, ul. Bulwarowa</td>\n",
       "    </tr>\n",
       "    <tr>\n",
       "      <th>2</th>\n",
       "      <td>Płock, ul. Reja</td>\n",
       "    </tr>\n",
       "    <tr>\n",
       "      <th>3</th>\n",
       "      <td>Elbląg, ul. Bażyńskiego</td>\n",
       "    </tr>\n",
       "    <tr>\n",
       "      <th>4</th>\n",
       "      <td>Piastów, ul. Pułaskiego</td>\n",
       "    </tr>\n",
       "  </tbody>\n",
       "</table>\n",
       "</div>"
      ],
      "text/plain": [
       "                  location\n",
       "0   Borówiec, ul. Drapałka\n",
       "1    Kraków, ul. Bulwarowa\n",
       "2          Płock, ul. Reja\n",
       "3  Elbląg, ul. Bażyńskiego\n",
       "4  Piastów, ul. Pułaskiego"
      ]
     },
     "execution_count": 10,
     "metadata": {},
     "output_type": "execute_result"
    }
   ],
   "source": [
    "client.list_rows(table, max_results=5,\n",
    "                 selected_fields=table.schema[:1]).to_dataframe()"
   ]
  },
  {
   "cell_type": "code",
   "execution_count": 11,
   "id": "ae860893",
   "metadata": {
    "execution": {
     "iopub.execute_input": "2022-10-20T20:06:33.136973Z",
     "iopub.status.busy": "2022-10-20T20:06:33.136114Z",
     "iopub.status.idle": "2022-10-20T20:06:33.149139Z",
     "shell.execute_reply": "2022-10-20T20:06:33.147760Z"
    },
    "papermill": {
     "duration": 0.025461,
     "end_time": "2022-10-20T20:06:33.151785",
     "exception": false,
     "start_time": "2022-10-20T20:06:33.126324",
     "status": "completed"
    },
    "tags": []
   },
   "outputs": [
    {
     "data": {
      "text/plain": [
       "Kraków                  21\n",
       "Łódź                    18\n",
       "Rzeszów                 17\n",
       "Płock                   16\n",
       "Zielonka                14\n",
       "                        ..\n",
       "Czerwionka-Leszczyny     3\n",
       "Złoty Potok              3\n",
       "Nakło nad Notecią        3\n",
       "Kalisz                   3\n",
       "Kościerzyna              3\n",
       "Name: city, Length: 64, dtype: int64"
      ]
     },
     "execution_count": 11,
     "metadata": {},
     "output_type": "execute_result"
    }
   ],
   "source": [
    "df.city.value_counts()"
   ]
  },
  {
   "cell_type": "markdown",
   "id": "79d06c0f",
   "metadata": {
    "papermill": {
     "duration": 0.007655,
     "end_time": "2022-10-20T20:06:33.167089",
     "exception": false,
     "start_time": "2022-10-20T20:06:33.159434",
     "status": "completed"
    },
    "tags": []
   },
   "source": [
    "# **SQL (Structured Query Language)**\n",
    "### **1. Select, From & Where**"
   ]
  },
  {
   "cell_type": "code",
   "execution_count": 12,
   "id": "a1e3a24f",
   "metadata": {
    "execution": {
     "iopub.execute_input": "2022-10-20T20:06:33.184817Z",
     "iopub.status.busy": "2022-10-20T20:06:33.184394Z",
     "iopub.status.idle": "2022-10-20T20:06:59.577689Z",
     "shell.execute_reply": "2022-10-20T20:06:59.576403Z"
    },
    "papermill": {
     "duration": 26.406665,
     "end_time": "2022-10-20T20:06:59.581605",
     "exception": false,
     "start_time": "2022-10-20T20:06:33.174940",
     "status": "completed"
    },
    "tags": []
   },
   "outputs": [],
   "source": [
    "query = \"\"\"\n",
    "        SELECT city\n",
    "        FROM `bigquery-public-data.openaq.global_air_quality`\n",
    "        WHERE country = 'US'\n",
    "        \"\"\"\n",
    "\n",
    "query_job = client.query(query)\n",
    "us_cities = query_job.to_dataframe()"
   ]
  },
  {
   "cell_type": "code",
   "execution_count": 13,
   "id": "6729f50e",
   "metadata": {
    "execution": {
     "iopub.execute_input": "2022-10-20T20:06:59.600611Z",
     "iopub.status.busy": "2022-10-20T20:06:59.599653Z",
     "iopub.status.idle": "2022-10-20T20:06:59.611560Z",
     "shell.execute_reply": "2022-10-20T20:06:59.610324Z"
    },
    "papermill": {
     "duration": 0.024257,
     "end_time": "2022-10-20T20:06:59.614248",
     "exception": false,
     "start_time": "2022-10-20T20:06:59.589991",
     "status": "completed"
    },
    "tags": []
   },
   "outputs": [
    {
     "data": {
      "text/html": [
       "<div>\n",
       "<style scoped>\n",
       "    .dataframe tbody tr th:only-of-type {\n",
       "        vertical-align: middle;\n",
       "    }\n",
       "\n",
       "    .dataframe tbody tr th {\n",
       "        vertical-align: top;\n",
       "    }\n",
       "\n",
       "    .dataframe thead th {\n",
       "        text-align: right;\n",
       "    }\n",
       "</style>\n",
       "<table border=\"1\" class=\"dataframe\">\n",
       "  <thead>\n",
       "    <tr style=\"text-align: right;\">\n",
       "      <th></th>\n",
       "      <th>city</th>\n",
       "    </tr>\n",
       "  </thead>\n",
       "  <tbody>\n",
       "    <tr>\n",
       "      <th>0</th>\n",
       "      <td>HOWARD</td>\n",
       "    </tr>\n",
       "    <tr>\n",
       "      <th>1</th>\n",
       "      <td>HOWARD</td>\n",
       "    </tr>\n",
       "    <tr>\n",
       "      <th>2</th>\n",
       "      <td>HOWARD</td>\n",
       "    </tr>\n",
       "    <tr>\n",
       "      <th>3</th>\n",
       "      <td>HOWARD</td>\n",
       "    </tr>\n",
       "    <tr>\n",
       "      <th>4</th>\n",
       "      <td>HOWARD</td>\n",
       "    </tr>\n",
       "  </tbody>\n",
       "</table>\n",
       "</div>"
      ],
      "text/plain": [
       "     city\n",
       "0  HOWARD\n",
       "1  HOWARD\n",
       "2  HOWARD\n",
       "3  HOWARD\n",
       "4  HOWARD"
      ]
     },
     "execution_count": 13,
     "metadata": {},
     "output_type": "execute_result"
    }
   ],
   "source": [
    "us_cities.head()"
   ]
  },
  {
   "cell_type": "code",
   "execution_count": 14,
   "id": "03596c86",
   "metadata": {
    "execution": {
     "iopub.execute_input": "2022-10-20T20:06:59.632811Z",
     "iopub.status.busy": "2022-10-20T20:06:59.631616Z",
     "iopub.status.idle": "2022-10-20T20:07:11.246178Z",
     "shell.execute_reply": "2022-10-20T20:07:11.245139Z"
    },
    "papermill": {
     "duration": 11.626502,
     "end_time": "2022-10-20T20:07:11.248910",
     "exception": false,
     "start_time": "2022-10-20T20:06:59.622408",
     "status": "completed"
    },
    "tags": []
   },
   "outputs": [],
   "source": [
    "query_1 = \"\"\"\n",
    "        SELECT city\n",
    "        FROM `bigquery-public-data.openaq.global_air_quality`\n",
    "        WHERE country = 'IN'\n",
    "        \"\"\"\n",
    "query_1_job = client.query(query_1)\n",
    "india_city = query_1_job.to_dataframe()"
   ]
  },
  {
   "cell_type": "code",
   "execution_count": 15,
   "id": "44294e80",
   "metadata": {
    "execution": {
     "iopub.execute_input": "2022-10-20T20:07:11.267525Z",
     "iopub.status.busy": "2022-10-20T20:07:11.266868Z",
     "iopub.status.idle": "2022-10-20T20:07:11.278429Z",
     "shell.execute_reply": "2022-10-20T20:07:11.276744Z"
    },
    "papermill": {
     "duration": 0.02422,
     "end_time": "2022-10-20T20:07:11.281301",
     "exception": false,
     "start_time": "2022-10-20T20:07:11.257081",
     "status": "completed"
    },
    "tags": []
   },
   "outputs": [
    {
     "data": {
      "text/html": [
       "<div>\n",
       "<style scoped>\n",
       "    .dataframe tbody tr th:only-of-type {\n",
       "        vertical-align: middle;\n",
       "    }\n",
       "\n",
       "    .dataframe tbody tr th {\n",
       "        vertical-align: top;\n",
       "    }\n",
       "\n",
       "    .dataframe thead th {\n",
       "        text-align: right;\n",
       "    }\n",
       "</style>\n",
       "<table border=\"1\" class=\"dataframe\">\n",
       "  <thead>\n",
       "    <tr style=\"text-align: right;\">\n",
       "      <th></th>\n",
       "      <th>city</th>\n",
       "    </tr>\n",
       "  </thead>\n",
       "  <tbody>\n",
       "    <tr>\n",
       "      <th>0</th>\n",
       "      <td>Tirupati</td>\n",
       "    </tr>\n",
       "    <tr>\n",
       "      <th>1</th>\n",
       "      <td>Indore</td>\n",
       "    </tr>\n",
       "    <tr>\n",
       "      <th>2</th>\n",
       "      <td>Bilaspur</td>\n",
       "    </tr>\n",
       "    <tr>\n",
       "      <th>3</th>\n",
       "      <td>Visakhapatnam</td>\n",
       "    </tr>\n",
       "    <tr>\n",
       "      <th>4</th>\n",
       "      <td>Darbhanga</td>\n",
       "    </tr>\n",
       "  </tbody>\n",
       "</table>\n",
       "</div>"
      ],
      "text/plain": [
       "            city\n",
       "0       Tirupati\n",
       "1         Indore\n",
       "2       Bilaspur\n",
       "3  Visakhapatnam\n",
       "4      Darbhanga"
      ]
     },
     "execution_count": 15,
     "metadata": {},
     "output_type": "execute_result"
    }
   ],
   "source": [
    "india_city.head()"
   ]
  },
  {
   "cell_type": "code",
   "execution_count": 16,
   "id": "8e00690e",
   "metadata": {
    "execution": {
     "iopub.execute_input": "2022-10-20T20:07:11.301958Z",
     "iopub.status.busy": "2022-10-20T20:07:11.301482Z",
     "iopub.status.idle": "2022-10-20T20:07:11.385000Z",
     "shell.execute_reply": "2022-10-20T20:07:11.383601Z"
    },
    "papermill": {
     "duration": 0.096433,
     "end_time": "2022-10-20T20:07:11.388059",
     "exception": false,
     "start_time": "2022-10-20T20:07:11.291626",
     "status": "completed"
    },
    "tags": []
   },
   "outputs": [
    {
     "data": {
      "text/plain": [
       "city     \n",
       "Delhi        78586\n",
       "Mumbai       42833\n",
       "Bengaluru    19668\n",
       "Chennai      19130\n",
       "Ahmedabad    18897\n",
       "dtype: int64"
      ]
     },
     "execution_count": 16,
     "metadata": {},
     "output_type": "execute_result"
    }
   ],
   "source": [
    "india_city.value_counts().sort_values(ascending=False).head()"
   ]
  },
  {
   "cell_type": "code",
   "execution_count": 17,
   "id": "d4d5371b",
   "metadata": {
    "execution": {
     "iopub.execute_input": "2022-10-20T20:07:11.410904Z",
     "iopub.status.busy": "2022-10-20T20:07:11.410285Z",
     "iopub.status.idle": "2022-10-20T20:07:37.466418Z",
     "shell.execute_reply": "2022-10-20T20:07:37.465203Z"
    },
    "papermill": {
     "duration": 26.072325,
     "end_time": "2022-10-20T20:07:37.469324",
     "exception": false,
     "start_time": "2022-10-20T20:07:11.396999",
     "status": "completed"
    },
    "tags": []
   },
   "outputs": [],
   "source": [
    "query_2 = \"\"\" \n",
    "          SELECT city, country, value\n",
    "          FROM `bigquery-public-data.openaq.global_air_quality`\n",
    "          WHERE country = \"IN\"\n",
    "          \n",
    "          \"\"\"\n",
    "query_2_job = client.query(query_2)\n",
    "query_2_df = query_2_job.to_dataframe()"
   ]
  },
  {
   "cell_type": "code",
   "execution_count": 18,
   "id": "3d7af546",
   "metadata": {
    "execution": {
     "iopub.execute_input": "2022-10-20T20:07:37.487863Z",
     "iopub.status.busy": "2022-10-20T20:07:37.487400Z",
     "iopub.status.idle": "2022-10-20T20:07:37.500317Z",
     "shell.execute_reply": "2022-10-20T20:07:37.499067Z"
    },
    "papermill": {
     "duration": 0.02552,
     "end_time": "2022-10-20T20:07:37.503067",
     "exception": false,
     "start_time": "2022-10-20T20:07:37.477547",
     "status": "completed"
    },
    "tags": []
   },
   "outputs": [
    {
     "data": {
      "text/html": [
       "<div>\n",
       "<style scoped>\n",
       "    .dataframe tbody tr th:only-of-type {\n",
       "        vertical-align: middle;\n",
       "    }\n",
       "\n",
       "    .dataframe tbody tr th {\n",
       "        vertical-align: top;\n",
       "    }\n",
       "\n",
       "    .dataframe thead th {\n",
       "        text-align: right;\n",
       "    }\n",
       "</style>\n",
       "<table border=\"1\" class=\"dataframe\">\n",
       "  <thead>\n",
       "    <tr style=\"text-align: right;\">\n",
       "      <th></th>\n",
       "      <th>city</th>\n",
       "      <th>country</th>\n",
       "      <th>value</th>\n",
       "    </tr>\n",
       "  </thead>\n",
       "  <tbody>\n",
       "    <tr>\n",
       "      <th>0</th>\n",
       "      <td>Ambala</td>\n",
       "      <td>IN</td>\n",
       "      <td>490.0</td>\n",
       "    </tr>\n",
       "    <tr>\n",
       "      <th>1</th>\n",
       "      <td>Srinagar</td>\n",
       "      <td>IN</td>\n",
       "      <td>0.0</td>\n",
       "    </tr>\n",
       "    <tr>\n",
       "      <th>2</th>\n",
       "      <td>Davanagere</td>\n",
       "      <td>IN</td>\n",
       "      <td>140.0</td>\n",
       "    </tr>\n",
       "    <tr>\n",
       "      <th>3</th>\n",
       "      <td>Purnia</td>\n",
       "      <td>IN</td>\n",
       "      <td>1180.0</td>\n",
       "    </tr>\n",
       "    <tr>\n",
       "      <th>4</th>\n",
       "      <td>Hisar</td>\n",
       "      <td>IN</td>\n",
       "      <td>710.0</td>\n",
       "    </tr>\n",
       "  </tbody>\n",
       "</table>\n",
       "</div>"
      ],
      "text/plain": [
       "         city country   value\n",
       "0      Ambala      IN   490.0\n",
       "1    Srinagar      IN     0.0\n",
       "2  Davanagere      IN   140.0\n",
       "3      Purnia      IN  1180.0\n",
       "4       Hisar      IN   710.0"
      ]
     },
     "execution_count": 18,
     "metadata": {},
     "output_type": "execute_result"
    }
   ],
   "source": [
    "query_2_df.head()"
   ]
  },
  {
   "cell_type": "code",
   "execution_count": 19,
   "id": "98b58fbf",
   "metadata": {
    "execution": {
     "iopub.execute_input": "2022-10-20T20:07:37.522649Z",
     "iopub.status.busy": "2022-10-20T20:07:37.522184Z",
     "iopub.status.idle": "2022-10-20T20:09:15.804169Z",
     "shell.execute_reply": "2022-10-20T20:09:15.803118Z"
    },
    "papermill": {
     "duration": 98.295722,
     "end_time": "2022-10-20T20:09:15.807488",
     "exception": false,
     "start_time": "2022-10-20T20:07:37.511766",
     "status": "completed"
    },
    "tags": []
   },
   "outputs": [],
   "source": [
    "query_3 = \"\"\"\n",
    "          SELECT *\n",
    "          FROM `bigquery-public-data.openaq.global_air_quality`\n",
    "          WHERE country = \"IN\"\n",
    "          \"\"\"\n",
    "query_3_job = client.query(query_3)\n",
    "query_3_df = query_3_job.to_dataframe()"
   ]
  },
  {
   "cell_type": "code",
   "execution_count": 20,
   "id": "6176a9de",
   "metadata": {
    "execution": {
     "iopub.execute_input": "2022-10-20T20:09:15.827645Z",
     "iopub.status.busy": "2022-10-20T20:09:15.826822Z",
     "iopub.status.idle": "2022-10-20T20:09:15.848145Z",
     "shell.execute_reply": "2022-10-20T20:09:15.847080Z"
    },
    "papermill": {
     "duration": 0.034605,
     "end_time": "2022-10-20T20:09:15.850973",
     "exception": false,
     "start_time": "2022-10-20T20:09:15.816368",
     "status": "completed"
    },
    "tags": []
   },
   "outputs": [
    {
     "data": {
      "text/html": [
       "<div>\n",
       "<style scoped>\n",
       "    .dataframe tbody tr th:only-of-type {\n",
       "        vertical-align: middle;\n",
       "    }\n",
       "\n",
       "    .dataframe tbody tr th {\n",
       "        vertical-align: top;\n",
       "    }\n",
       "\n",
       "    .dataframe thead th {\n",
       "        text-align: right;\n",
       "    }\n",
       "</style>\n",
       "<table border=\"1\" class=\"dataframe\">\n",
       "  <thead>\n",
       "    <tr style=\"text-align: right;\">\n",
       "      <th></th>\n",
       "      <th>location</th>\n",
       "      <th>city</th>\n",
       "      <th>country</th>\n",
       "      <th>pollutant</th>\n",
       "      <th>value</th>\n",
       "      <th>timestamp</th>\n",
       "      <th>unit</th>\n",
       "      <th>source_name</th>\n",
       "      <th>latitude</th>\n",
       "      <th>longitude</th>\n",
       "      <th>averaged_over_in_hours</th>\n",
       "      <th>location_geom</th>\n",
       "    </tr>\n",
       "  </thead>\n",
       "  <tbody>\n",
       "    <tr>\n",
       "      <th>0</th>\n",
       "      <td>Patti Mehar, Ambala - HSPCB</td>\n",
       "      <td>Ambala</td>\n",
       "      <td>IN</td>\n",
       "      <td>co</td>\n",
       "      <td>490.0</td>\n",
       "      <td>2022-05-15 01:45:00+00:00</td>\n",
       "      <td>µg/m³</td>\n",
       "      <td>caaqm</td>\n",
       "      <td>0.25</td>\n",
       "      <td>30.379589</td>\n",
       "      <td>76.778328</td>\n",
       "      <td>POINT(30.379589 0.25)</td>\n",
       "    </tr>\n",
       "    <tr>\n",
       "      <th>1</th>\n",
       "      <td>Rajbagh, Srinagar - JKSPCB</td>\n",
       "      <td>Srinagar</td>\n",
       "      <td>IN</td>\n",
       "      <td>co</td>\n",
       "      <td>0.0</td>\n",
       "      <td>2022-05-04 15:15:00+00:00</td>\n",
       "      <td>µg/m³</td>\n",
       "      <td>caaqm</td>\n",
       "      <td>0.25</td>\n",
       "      <td>34.066206</td>\n",
       "      <td>74.819820</td>\n",
       "      <td>POINT(34.066206 0.25)</td>\n",
       "    </tr>\n",
       "    <tr>\n",
       "      <th>2</th>\n",
       "      <td>Devaraj Urs Badavane, Davanagere - KSPCB</td>\n",
       "      <td>Davanagere</td>\n",
       "      <td>IN</td>\n",
       "      <td>co</td>\n",
       "      <td>140.0</td>\n",
       "      <td>2022-05-13 08:00:00+00:00</td>\n",
       "      <td>µg/m³</td>\n",
       "      <td>caaqm</td>\n",
       "      <td>0.25</td>\n",
       "      <td>14.475800</td>\n",
       "      <td>75.905200</td>\n",
       "      <td>POINT(14.4758 0.25)</td>\n",
       "    </tr>\n",
       "    <tr>\n",
       "      <th>3</th>\n",
       "      <td>Mariam Nagar, Purnia - BSPCB</td>\n",
       "      <td>Purnia</td>\n",
       "      <td>IN</td>\n",
       "      <td>co</td>\n",
       "      <td>1180.0</td>\n",
       "      <td>2022-05-05 13:45:00+00:00</td>\n",
       "      <td>µg/m³</td>\n",
       "      <td>caaqm</td>\n",
       "      <td>0.25</td>\n",
       "      <td>25.366336</td>\n",
       "      <td>87.117468</td>\n",
       "      <td>POINT(25.366336 0.25)</td>\n",
       "    </tr>\n",
       "    <tr>\n",
       "      <th>4</th>\n",
       "      <td>Urban Estate-II, Hisar - HSPCB</td>\n",
       "      <td>Hisar</td>\n",
       "      <td>IN</td>\n",
       "      <td>co</td>\n",
       "      <td>710.0</td>\n",
       "      <td>2022-05-15 22:45:00+00:00</td>\n",
       "      <td>µg/m³</td>\n",
       "      <td>caaqm</td>\n",
       "      <td>0.25</td>\n",
       "      <td>29.140560</td>\n",
       "      <td>75.744941</td>\n",
       "      <td>POINT(29.14056 0.25)</td>\n",
       "    </tr>\n",
       "  </tbody>\n",
       "</table>\n",
       "</div>"
      ],
      "text/plain": [
       "                                   location        city country pollutant  \\\n",
       "0               Patti Mehar, Ambala - HSPCB      Ambala      IN        co   \n",
       "1                Rajbagh, Srinagar - JKSPCB    Srinagar      IN        co   \n",
       "2  Devaraj Urs Badavane, Davanagere - KSPCB  Davanagere      IN        co   \n",
       "3              Mariam Nagar, Purnia - BSPCB      Purnia      IN        co   \n",
       "4            Urban Estate-II, Hisar - HSPCB       Hisar      IN        co   \n",
       "\n",
       "    value                 timestamp   unit source_name  latitude  longitude  \\\n",
       "0   490.0 2022-05-15 01:45:00+00:00  µg/m³       caaqm      0.25  30.379589   \n",
       "1     0.0 2022-05-04 15:15:00+00:00  µg/m³       caaqm      0.25  34.066206   \n",
       "2   140.0 2022-05-13 08:00:00+00:00  µg/m³       caaqm      0.25  14.475800   \n",
       "3  1180.0 2022-05-05 13:45:00+00:00  µg/m³       caaqm      0.25  25.366336   \n",
       "4   710.0 2022-05-15 22:45:00+00:00  µg/m³       caaqm      0.25  29.140560   \n",
       "\n",
       "   averaged_over_in_hours          location_geom  \n",
       "0               76.778328  POINT(30.379589 0.25)  \n",
       "1               74.819820  POINT(34.066206 0.25)  \n",
       "2               75.905200    POINT(14.4758 0.25)  \n",
       "3               87.117468  POINT(25.366336 0.25)  \n",
       "4               75.744941   POINT(29.14056 0.25)  "
      ]
     },
     "execution_count": 20,
     "metadata": {},
     "output_type": "execute_result"
    }
   ],
   "source": [
    "query_3_df.head()"
   ]
  },
  {
   "cell_type": "code",
   "execution_count": null,
   "id": "c435b8fb",
   "metadata": {
    "papermill": {
     "duration": 0.008682,
     "end_time": "2022-10-20T20:09:15.868619",
     "exception": false,
     "start_time": "2022-10-20T20:09:15.859937",
     "status": "completed"
    },
    "tags": []
   },
   "outputs": [],
   "source": []
  }
 ],
 "metadata": {
  "kernelspec": {
   "display_name": "Python 3",
   "language": "python",
   "name": "python3"
  },
  "language_info": {
   "codemirror_mode": {
    "name": "ipython",
    "version": 3
   },
   "file_extension": ".py",
   "mimetype": "text/x-python",
   "name": "python",
   "nbconvert_exporter": "python",
   "pygments_lexer": "ipython3",
   "version": "3.7.12"
  },
  "papermill": {
   "default_parameters": {},
   "duration": 178.48375,
   "end_time": "2022-10-20T20:09:16.703128",
   "environment_variables": {},
   "exception": null,
   "input_path": "__notebook__.ipynb",
   "output_path": "__notebook__.ipynb",
   "parameters": {},
   "start_time": "2022-10-20T20:06:18.219378",
   "version": "2.3.4"
  }
 },
 "nbformat": 4,
 "nbformat_minor": 5
}
