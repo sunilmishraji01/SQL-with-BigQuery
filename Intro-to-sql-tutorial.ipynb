{
 "cells": [
  {
   "cell_type": "code",
   "execution_count": 1,
   "id": "c745701a",
   "metadata": {
    "_cell_guid": "b1076dfc-b9ad-4769-8c92-a6c4dae69d19",
    "_uuid": "8f2839f25d086af736a60e9eeb907d3b93b6e0e5",
    "execution": {
     "iopub.execute_input": "2022-10-18T17:40:11.042033Z",
     "iopub.status.busy": "2022-10-18T17:40:11.040785Z",
     "iopub.status.idle": "2022-10-18T17:40:11.053182Z",
     "shell.execute_reply": "2022-10-18T17:40:11.052088Z"
    },
    "papermill": {
     "duration": 0.022387,
     "end_time": "2022-10-18T17:40:11.055954",
     "exception": false,
     "start_time": "2022-10-18T17:40:11.033567",
     "status": "completed"
    },
    "tags": []
   },
   "outputs": [],
   "source": [
    "# This Python 3 environment comes with many helpful analytics libraries installed\n",
    "# It is defined by the kaggle/python Docker image: https://github.com/kaggle/docker-python\n",
    "# For example, here's several helpful packages to load\n",
    "\n",
    "import numpy as np # linear algebra\n",
    "import pandas as pd # data processing, CSV file I/O (e.g. pd.read_csv)\n",
    "\n",
    "# Input data files are available in the read-only \"../input/\" directory\n",
    "# For example, running this (by clicking run or pressing Shift+Enter) will list all files under the input directory\n",
    "\n",
    "import os\n",
    "for dirname, _, filenames in os.walk('/kaggle/input'):\n",
    "    for filename in filenames:\n",
    "        print(os.path.join(dirname, filename))\n",
    "\n",
    "# You can write up to 20GB to the current directory (/kaggle/working/) that gets preserved as output when you create a version using \"Save & Run All\" \n",
    "# You can also write temporary files to /kaggle/temp/, but they won't be saved outside of the current session"
   ]
  },
  {
   "cell_type": "code",
   "execution_count": 2,
   "id": "df2500b0",
   "metadata": {
    "execution": {
     "iopub.execute_input": "2022-10-18T17:40:11.065827Z",
     "iopub.status.busy": "2022-10-18T17:40:11.065343Z",
     "iopub.status.idle": "2022-10-18T17:40:11.071246Z",
     "shell.execute_reply": "2022-10-18T17:40:11.069857Z"
    },
    "papermill": {
     "duration": 0.013487,
     "end_time": "2022-10-18T17:40:11.073617",
     "exception": false,
     "start_time": "2022-10-18T17:40:11.060130",
     "status": "completed"
    },
    "tags": []
   },
   "outputs": [],
   "source": [
    "from google.cloud import bigquery"
   ]
  },
  {
   "cell_type": "code",
   "execution_count": 3,
   "id": "363fc0d4",
   "metadata": {
    "execution": {
     "iopub.execute_input": "2022-10-18T17:40:11.084446Z",
     "iopub.status.busy": "2022-10-18T17:40:11.083992Z",
     "iopub.status.idle": "2022-10-18T17:40:11.091255Z",
     "shell.execute_reply": "2022-10-18T17:40:11.090053Z"
    },
    "papermill": {
     "duration": 0.015597,
     "end_time": "2022-10-18T17:40:11.093982",
     "exception": false,
     "start_time": "2022-10-18T17:40:11.078385",
     "status": "completed"
    },
    "tags": []
   },
   "outputs": [
    {
     "name": "stdout",
     "output_type": "stream",
     "text": [
      "Using Kaggle's public dataset BigQuery integration.\n"
     ]
    }
   ],
   "source": [
    "# client object\n",
    "client = bigquery.Client()"
   ]
  },
  {
   "cell_type": "code",
   "execution_count": 4,
   "id": "d9d84eb8",
   "metadata": {
    "execution": {
     "iopub.execute_input": "2022-10-18T17:40:11.105350Z",
     "iopub.status.busy": "2022-10-18T17:40:11.104966Z",
     "iopub.status.idle": "2022-10-18T17:40:11.113682Z",
     "shell.execute_reply": "2022-10-18T17:40:11.112319Z"
    },
    "papermill": {
     "duration": 0.017511,
     "end_time": "2022-10-18T17:40:11.116057",
     "exception": false,
     "start_time": "2022-10-18T17:40:11.098546",
     "status": "completed"
    },
    "tags": []
   },
   "outputs": [
    {
     "data": {
      "text/plain": [
       "'2.2.0'"
      ]
     },
     "execution_count": 4,
     "metadata": {},
     "output_type": "execute_result"
    }
   ],
   "source": [
    "# version\n",
    "bigquery.__version__"
   ]
  },
  {
   "cell_type": "code",
   "execution_count": 5,
   "id": "84885838",
   "metadata": {
    "execution": {
     "iopub.execute_input": "2022-10-18T17:40:11.126083Z",
     "iopub.status.busy": "2022-10-18T17:40:11.125650Z",
     "iopub.status.idle": "2022-10-18T17:40:11.539427Z",
     "shell.execute_reply": "2022-10-18T17:40:11.538292Z"
    },
    "papermill": {
     "duration": 0.422054,
     "end_time": "2022-10-18T17:40:11.542199",
     "exception": false,
     "start_time": "2022-10-18T17:40:11.120145",
     "status": "completed"
    },
    "tags": []
   },
   "outputs": [],
   "source": [
    "# refrence for \"hacker_news \" dataset\n",
    "dataset_ref = client.dataset(\"hacker_news\",project=\"bigquery-public-data\")\n",
    "\n",
    "# Api request - fetch the dataset:\n",
    "dataset = client.get_dataset(dataset_ref)"
   ]
  },
  {
   "cell_type": "code",
   "execution_count": 6,
   "id": "562ce73a",
   "metadata": {
    "execution": {
     "iopub.execute_input": "2022-10-18T17:40:11.552477Z",
     "iopub.status.busy": "2022-10-18T17:40:11.552084Z",
     "iopub.status.idle": "2022-10-18T17:40:11.786876Z",
     "shell.execute_reply": "2022-10-18T17:40:11.785268Z"
    },
    "papermill": {
     "duration": 0.243127,
     "end_time": "2022-10-18T17:40:11.789617",
     "exception": false,
     "start_time": "2022-10-18T17:40:11.546490",
     "status": "completed"
    },
    "tags": []
   },
   "outputs": [
    {
     "name": "stdout",
     "output_type": "stream",
     "text": [
      "comments\n",
      "full\n",
      "full_201510\n",
      "stories\n"
     ]
    }
   ],
   "source": [
    "# dataset is a collection of tables.\n",
    "tables = client.list_tables(dataset)\n",
    "\n",
    "# print name of tables in dataset:\n",
    "for table in tables:\n",
    "    print(table.table_id)"
   ]
  },
  {
   "cell_type": "code",
   "execution_count": 7,
   "id": "c1079118",
   "metadata": {
    "execution": {
     "iopub.execute_input": "2022-10-18T17:40:11.799985Z",
     "iopub.status.busy": "2022-10-18T17:40:11.799530Z",
     "iopub.status.idle": "2022-10-18T17:40:12.089716Z",
     "shell.execute_reply": "2022-10-18T17:40:12.088661Z"
    },
    "papermill": {
     "duration": 0.298451,
     "end_time": "2022-10-18T17:40:12.092457",
     "exception": false,
     "start_time": "2022-10-18T17:40:11.794006",
     "status": "completed"
    },
    "tags": []
   },
   "outputs": [],
   "source": [
    "# refrence for \"full table:\n",
    "table_ref_full = dataset_ref.table(\"full\")\n",
    "\n",
    "# API -reguest - fetch the \"full\" table :\n",
    "table_full = client.get_table(table_ref_full)"
   ]
  },
  {
   "cell_type": "code",
   "execution_count": 8,
   "id": "04d4cf11",
   "metadata": {
    "execution": {
     "iopub.execute_input": "2022-10-18T17:40:12.103214Z",
     "iopub.status.busy": "2022-10-18T17:40:12.102208Z",
     "iopub.status.idle": "2022-10-18T17:40:12.110135Z",
     "shell.execute_reply": "2022-10-18T17:40:12.108936Z"
    },
    "papermill": {
     "duration": 0.016183,
     "end_time": "2022-10-18T17:40:12.112935",
     "exception": false,
     "start_time": "2022-10-18T17:40:12.096752",
     "status": "completed"
    },
    "tags": []
   },
   "outputs": [
    {
     "data": {
      "text/plain": [
       "'This dataset contains all stories and comments from Hacker News from its launch in 2006.  Each story contains a story id, the author that made the post, when it was written, and the number of points the story received.'"
      ]
     },
     "execution_count": 8,
     "metadata": {},
     "output_type": "execute_result"
    }
   ],
   "source": [
    "# about dataset\n",
    "dataset.description"
   ]
  },
  {
   "cell_type": "code",
   "execution_count": 9,
   "id": "4478bba0",
   "metadata": {
    "execution": {
     "iopub.execute_input": "2022-10-18T17:40:12.125055Z",
     "iopub.status.busy": "2022-10-18T17:40:12.124508Z",
     "iopub.status.idle": "2022-10-18T17:40:12.133956Z",
     "shell.execute_reply": "2022-10-18T17:40:12.133050Z"
    },
    "papermill": {
     "duration": 0.017909,
     "end_time": "2022-10-18T17:40:12.136375",
     "exception": false,
     "start_time": "2022-10-18T17:40:12.118466",
     "status": "completed"
    },
    "tags": []
   },
   "outputs": [
    {
     "data": {
      "text/plain": [
       "'A full daily update of all the stories and comments in Hacker News.'"
      ]
     },
     "execution_count": 9,
     "metadata": {},
     "output_type": "execute_result"
    }
   ],
   "source": [
    "# about \"full\" table :\n",
    "table_full.description"
   ]
  },
  {
   "cell_type": "code",
   "execution_count": 10,
   "id": "84023942",
   "metadata": {
    "execution": {
     "iopub.execute_input": "2022-10-18T17:40:12.149837Z",
     "iopub.status.busy": "2022-10-18T17:40:12.149358Z",
     "iopub.status.idle": "2022-10-18T17:40:12.157685Z",
     "shell.execute_reply": "2022-10-18T17:40:12.156271Z"
    },
    "papermill": {
     "duration": 0.018135,
     "end_time": "2022-10-18T17:40:12.160403",
     "exception": false,
     "start_time": "2022-10-18T17:40:12.142268",
     "status": "completed"
    },
    "tags": []
   },
   "outputs": [
    {
     "data": {
      "text/plain": [
       "[SchemaField('title', 'STRING', 'NULLABLE', 'Story title', (), None),\n",
       " SchemaField('url', 'STRING', 'NULLABLE', 'Story url', (), None),\n",
       " SchemaField('text', 'STRING', 'NULLABLE', 'Story or comment text', (), None),\n",
       " SchemaField('dead', 'BOOLEAN', 'NULLABLE', 'Is dead?', (), None),\n",
       " SchemaField('by', 'STRING', 'NULLABLE', \"The username of the item's author.\", (), None),\n",
       " SchemaField('score', 'INTEGER', 'NULLABLE', 'Story score', (), None),\n",
       " SchemaField('time', 'INTEGER', 'NULLABLE', 'Unix time', (), None),\n",
       " SchemaField('timestamp', 'TIMESTAMP', 'NULLABLE', 'Timestamp for the unix time', (), None),\n",
       " SchemaField('type', 'STRING', 'NULLABLE', 'Type of details (comment, comment_ranking, poll, story, job, pollopt)', (), None),\n",
       " SchemaField('id', 'INTEGER', 'NULLABLE', \"The item's unique id.\", (), None),\n",
       " SchemaField('parent', 'INTEGER', 'NULLABLE', 'Parent comment ID', (), None),\n",
       " SchemaField('descendants', 'INTEGER', 'NULLABLE', 'Number of story or poll descendants', (), None),\n",
       " SchemaField('ranking', 'INTEGER', 'NULLABLE', 'Comment ranking', (), None),\n",
       " SchemaField('deleted', 'BOOLEAN', 'NULLABLE', 'Is deleted?', (), None)]"
      ]
     },
     "execution_count": 10,
     "metadata": {},
     "output_type": "execute_result"
    }
   ],
   "source": [
    "# Each `SchemaField` tells us about all tha column(field) name,type,mode &\n",
    "# description in \"full\" table\n",
    "table_full.schema"
   ]
  },
  {
   "cell_type": "code",
   "execution_count": 11,
   "id": "dd4c6fbb",
   "metadata": {
    "execution": {
     "iopub.execute_input": "2022-10-18T17:40:12.174392Z",
     "iopub.status.busy": "2022-10-18T17:40:12.173806Z",
     "iopub.status.idle": "2022-10-18T17:40:12.925151Z",
     "shell.execute_reply": "2022-10-18T17:40:12.924183Z"
    },
    "papermill": {
     "duration": 0.761617,
     "end_time": "2022-10-18T17:40:12.927545",
     "exception": false,
     "start_time": "2022-10-18T17:40:12.165928",
     "status": "completed"
    },
    "tags": []
   },
   "outputs": [
    {
     "name": "stderr",
     "output_type": "stream",
     "text": [
      "/opt/conda/lib/python3.7/site-packages/ipykernel_launcher.py:2: UserWarning: Cannot use bqstorage_client if max_results is set, reverting to fetching data with the tabledata.list endpoint.\n",
      "  \n"
     ]
    },
    {
     "data": {
      "text/html": [
       "<div>\n",
       "<style scoped>\n",
       "    .dataframe tbody tr th:only-of-type {\n",
       "        vertical-align: middle;\n",
       "    }\n",
       "\n",
       "    .dataframe tbody tr th {\n",
       "        vertical-align: top;\n",
       "    }\n",
       "\n",
       "    .dataframe thead th {\n",
       "        text-align: right;\n",
       "    }\n",
       "</style>\n",
       "<table border=\"1\" class=\"dataframe\">\n",
       "  <thead>\n",
       "    <tr style=\"text-align: right;\">\n",
       "      <th></th>\n",
       "      <th>title</th>\n",
       "      <th>url</th>\n",
       "      <th>text</th>\n",
       "      <th>dead</th>\n",
       "      <th>by</th>\n",
       "      <th>score</th>\n",
       "      <th>time</th>\n",
       "      <th>timestamp</th>\n",
       "      <th>type</th>\n",
       "      <th>id</th>\n",
       "      <th>parent</th>\n",
       "      <th>descendants</th>\n",
       "      <th>ranking</th>\n",
       "      <th>deleted</th>\n",
       "    </tr>\n",
       "  </thead>\n",
       "  <tbody>\n",
       "    <tr>\n",
       "      <th>0</th>\n",
       "      <td>None</td>\n",
       "      <td>None</td>\n",
       "      <td>&amp;gt; but it did raise some questions for me&lt;p&gt;...</td>\n",
       "      <td>None</td>\n",
       "      <td>MetaWhirledPeas</td>\n",
       "      <td>NaN</td>\n",
       "      <td>1647438077</td>\n",
       "      <td>2022-03-16 13:41:17+00:00</td>\n",
       "      <td>comment</td>\n",
       "      <td>30698687</td>\n",
       "      <td>30698516</td>\n",
       "      <td>NaN</td>\n",
       "      <td>NaN</td>\n",
       "      <td>None</td>\n",
       "    </tr>\n",
       "    <tr>\n",
       "      <th>1</th>\n",
       "      <td>None</td>\n",
       "      <td>None</td>\n",
       "      <td>The proposed combination of jo, curl, and jq l...</td>\n",
       "      <td>None</td>\n",
       "      <td>lucasyvas</td>\n",
       "      <td>NaN</td>\n",
       "      <td>1647438071</td>\n",
       "      <td>2022-03-16 13:41:11+00:00</td>\n",
       "      <td>comment</td>\n",
       "      <td>30698686</td>\n",
       "      <td>30697695</td>\n",
       "      <td>NaN</td>\n",
       "      <td>NaN</td>\n",
       "      <td>None</td>\n",
       "    </tr>\n",
       "    <tr>\n",
       "      <th>2</th>\n",
       "      <td>None</td>\n",
       "      <td>None</td>\n",
       "      <td>Maybe your computing equipment has been hacked...</td>\n",
       "      <td>None</td>\n",
       "      <td>Terry_Roll</td>\n",
       "      <td>NaN</td>\n",
       "      <td>1647438071</td>\n",
       "      <td>2022-03-16 13:41:11+00:00</td>\n",
       "      <td>comment</td>\n",
       "      <td>30698685</td>\n",
       "      <td>30698269</td>\n",
       "      <td>NaN</td>\n",
       "      <td>NaN</td>\n",
       "      <td>None</td>\n",
       "    </tr>\n",
       "    <tr>\n",
       "      <th>3</th>\n",
       "      <td>None</td>\n",
       "      <td>None</td>\n",
       "      <td>the linux community improving? hardly. the fig...</td>\n",
       "      <td>None</td>\n",
       "      <td>rurban</td>\n",
       "      <td>NaN</td>\n",
       "      <td>1647438068</td>\n",
       "      <td>2022-03-16 13:41:08+00:00</td>\n",
       "      <td>comment</td>\n",
       "      <td>30698684</td>\n",
       "      <td>30696924</td>\n",
       "      <td>NaN</td>\n",
       "      <td>NaN</td>\n",
       "      <td>None</td>\n",
       "    </tr>\n",
       "    <tr>\n",
       "      <th>4</th>\n",
       "      <td>None</td>\n",
       "      <td>None</td>\n",
       "      <td>Oof. That&amp;#x27;d be an RTM for me--product not...</td>\n",
       "      <td>None</td>\n",
       "      <td>yrro</td>\n",
       "      <td>NaN</td>\n",
       "      <td>1647438068</td>\n",
       "      <td>2022-03-16 13:41:08+00:00</td>\n",
       "      <td>comment</td>\n",
       "      <td>30698683</td>\n",
       "      <td>30697598</td>\n",
       "      <td>NaN</td>\n",
       "      <td>NaN</td>\n",
       "      <td>None</td>\n",
       "    </tr>\n",
       "  </tbody>\n",
       "</table>\n",
       "</div>"
      ],
      "text/plain": [
       "  title   url                                               text  dead  \\\n",
       "0  None  None  &gt; but it did raise some questions for me<p>...  None   \n",
       "1  None  None  The proposed combination of jo, curl, and jq l...  None   \n",
       "2  None  None  Maybe your computing equipment has been hacked...  None   \n",
       "3  None  None  the linux community improving? hardly. the fig...  None   \n",
       "4  None  None  Oof. That&#x27;d be an RTM for me--product not...  None   \n",
       "\n",
       "                by  score        time                 timestamp     type  \\\n",
       "0  MetaWhirledPeas    NaN  1647438077 2022-03-16 13:41:17+00:00  comment   \n",
       "1        lucasyvas    NaN  1647438071 2022-03-16 13:41:11+00:00  comment   \n",
       "2       Terry_Roll    NaN  1647438071 2022-03-16 13:41:11+00:00  comment   \n",
       "3           rurban    NaN  1647438068 2022-03-16 13:41:08+00:00  comment   \n",
       "4             yrro    NaN  1647438068 2022-03-16 13:41:08+00:00  comment   \n",
       "\n",
       "         id    parent  descendants  ranking deleted  \n",
       "0  30698687  30698516          NaN      NaN    None  \n",
       "1  30698686  30697695          NaN      NaN    None  \n",
       "2  30698685  30698269          NaN      NaN    None  \n",
       "3  30698684  30696924          NaN      NaN    None  \n",
       "4  30698683  30697598          NaN      NaN    None  "
      ]
     },
     "execution_count": 11,
     "metadata": {},
     "output_type": "execute_result"
    }
   ],
   "source": [
    "# first 5 rows in \"full\" table:\n",
    "client.list_rows(table_full, max_results=5).to_dataframe()"
   ]
  },
  {
   "cell_type": "code",
   "execution_count": 12,
   "id": "8b1e8632",
   "metadata": {
    "execution": {
     "iopub.execute_input": "2022-10-18T17:40:12.939446Z",
     "iopub.status.busy": "2022-10-18T17:40:12.938774Z",
     "iopub.status.idle": "2022-10-18T17:40:13.342031Z",
     "shell.execute_reply": "2022-10-18T17:40:13.340969Z"
    },
    "papermill": {
     "duration": 0.41204,
     "end_time": "2022-10-18T17:40:13.344481",
     "exception": false,
     "start_time": "2022-10-18T17:40:12.932441",
     "status": "completed"
    },
    "tags": []
   },
   "outputs": [
    {
     "name": "stderr",
     "output_type": "stream",
     "text": [
      "/opt/conda/lib/python3.7/site-packages/ipykernel_launcher.py:2: UserWarning: Cannot use bqstorage_client if max_results is set, reverting to fetching data with the tabledata.list endpoint.\n",
      "  \n"
     ]
    },
    {
     "data": {
      "text/html": [
       "<div>\n",
       "<style scoped>\n",
       "    .dataframe tbody tr th:only-of-type {\n",
       "        vertical-align: middle;\n",
       "    }\n",
       "\n",
       "    .dataframe tbody tr th {\n",
       "        vertical-align: top;\n",
       "    }\n",
       "\n",
       "    .dataframe thead th {\n",
       "        text-align: right;\n",
       "    }\n",
       "</style>\n",
       "<table border=\"1\" class=\"dataframe\">\n",
       "  <thead>\n",
       "    <tr style=\"text-align: right;\">\n",
       "      <th></th>\n",
       "      <th>title</th>\n",
       "    </tr>\n",
       "  </thead>\n",
       "  <tbody>\n",
       "    <tr>\n",
       "      <th>0</th>\n",
       "      <td>None</td>\n",
       "    </tr>\n",
       "    <tr>\n",
       "      <th>1</th>\n",
       "      <td>None</td>\n",
       "    </tr>\n",
       "    <tr>\n",
       "      <th>2</th>\n",
       "      <td>None</td>\n",
       "    </tr>\n",
       "    <tr>\n",
       "      <th>3</th>\n",
       "      <td>None</td>\n",
       "    </tr>\n",
       "    <tr>\n",
       "      <th>4</th>\n",
       "      <td>None</td>\n",
       "    </tr>\n",
       "  </tbody>\n",
       "</table>\n",
       "</div>"
      ],
      "text/plain": [
       "  title\n",
       "0  None\n",
       "1  None\n",
       "2  None\n",
       "3  None\n",
       "4  None"
      ]
     },
     "execution_count": 12,
     "metadata": {},
     "output_type": "execute_result"
    }
   ],
   "source": [
    "client.list_rows(table_full, max_results=5,\n",
    "                 selected_fields=table_full.schema[:1]).to_dataframe()"
   ]
  },
  {
   "cell_type": "code",
   "execution_count": null,
   "id": "1747cacc",
   "metadata": {
    "papermill": {
     "duration": 0.004651,
     "end_time": "2022-10-18T17:40:13.354298",
     "exception": false,
     "start_time": "2022-10-18T17:40:13.349647",
     "status": "completed"
    },
    "tags": []
   },
   "outputs": [],
   "source": []
  }
 ],
 "metadata": {
  "kernelspec": {
   "display_name": "Python 3",
   "language": "python",
   "name": "python3"
  },
  "language_info": {
   "codemirror_mode": {
    "name": "ipython",
    "version": 3
   },
   "file_extension": ".py",
   "mimetype": "text/x-python",
   "name": "python",
   "nbconvert_exporter": "python",
   "pygments_lexer": "ipython3",
   "version": "3.7.12"
  },
  "papermill": {
   "default_parameters": {},
   "duration": 12.580227,
   "end_time": "2022-10-18T17:40:13.980078",
   "environment_variables": {},
   "exception": null,
   "input_path": "__notebook__.ipynb",
   "output_path": "__notebook__.ipynb",
   "parameters": {},
   "start_time": "2022-10-18T17:40:01.399851",
   "version": "2.3.4"
  }
 },
 "nbformat": 4,
 "nbformat_minor": 5
}
