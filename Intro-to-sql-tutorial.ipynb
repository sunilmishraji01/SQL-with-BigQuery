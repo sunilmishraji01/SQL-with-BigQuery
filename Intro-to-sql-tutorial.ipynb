{
 "cells": [
  {
   "cell_type": "code",
   "execution_count": 1,
   "id": "969b174f",
   "metadata": {
    "_cell_guid": "b1076dfc-b9ad-4769-8c92-a6c4dae69d19",
    "_uuid": "8f2839f25d086af736a60e9eeb907d3b93b6e0e5",
    "execution": {
     "iopub.execute_input": "2022-10-18T19:06:00.611370Z",
     "iopub.status.busy": "2022-10-18T19:06:00.610181Z",
     "iopub.status.idle": "2022-10-18T19:06:00.625131Z",
     "shell.execute_reply": "2022-10-18T19:06:00.623822Z"
    },
    "papermill": {
     "duration": 0.026554,
     "end_time": "2022-10-18T19:06:00.628191",
     "exception": false,
     "start_time": "2022-10-18T19:06:00.601637",
     "status": "completed"
    },
    "tags": []
   },
   "outputs": [],
   "source": [
    "import numpy as np\n",
    "import pandas as pd\n",
    "\n",
    "from google.cloud import bigquery"
   ]
  },
  {
   "cell_type": "markdown",
   "id": "43653851",
   "metadata": {
    "papermill": {
     "duration": 0.004647,
     "end_time": "2022-10-18T19:06:00.638449",
     "exception": false,
     "start_time": "2022-10-18T19:06:00.633802",
     "status": "completed"
    },
    "tags": []
   },
   "source": [
    "# **BigQuery**"
   ]
  },
  {
   "cell_type": "code",
   "execution_count": 2,
   "id": "07e0a6e5",
   "metadata": {
    "execution": {
     "iopub.execute_input": "2022-10-18T19:06:00.651964Z",
     "iopub.status.busy": "2022-10-18T19:06:00.650492Z",
     "iopub.status.idle": "2022-10-18T19:06:00.657737Z",
     "shell.execute_reply": "2022-10-18T19:06:00.656845Z"
    },
    "papermill": {
     "duration": 0.016569,
     "end_time": "2022-10-18T19:06:00.660346",
     "exception": false,
     "start_time": "2022-10-18T19:06:00.643777",
     "status": "completed"
    },
    "tags": []
   },
   "outputs": [
    {
     "name": "stdout",
     "output_type": "stream",
     "text": [
      "Using Kaggle's public dataset BigQuery integration.\n"
     ]
    }
   ],
   "source": [
    "# client object\n",
    "client = bigquery.Client()"
   ]
  },
  {
   "cell_type": "code",
   "execution_count": 3,
   "id": "0854b9c4",
   "metadata": {
    "execution": {
     "iopub.execute_input": "2022-10-18T19:06:00.673263Z",
     "iopub.status.busy": "2022-10-18T19:06:00.672390Z",
     "iopub.status.idle": "2022-10-18T19:06:00.682441Z",
     "shell.execute_reply": "2022-10-18T19:06:00.680914Z"
    },
    "papermill": {
     "duration": 0.01981,
     "end_time": "2022-10-18T19:06:00.685369",
     "exception": false,
     "start_time": "2022-10-18T19:06:00.665559",
     "status": "completed"
    },
    "tags": []
   },
   "outputs": [
    {
     "data": {
      "text/plain": [
       "'2.2.0'"
      ]
     },
     "execution_count": 3,
     "metadata": {},
     "output_type": "execute_result"
    }
   ],
   "source": [
    "# version\n",
    "bigquery.__version__"
   ]
  },
  {
   "cell_type": "code",
   "execution_count": 4,
   "id": "aa497654",
   "metadata": {
    "execution": {
     "iopub.execute_input": "2022-10-18T19:06:00.698501Z",
     "iopub.status.busy": "2022-10-18T19:06:00.698035Z",
     "iopub.status.idle": "2022-10-18T19:06:01.071932Z",
     "shell.execute_reply": "2022-10-18T19:06:01.070304Z"
    },
    "papermill": {
     "duration": 0.38421,
     "end_time": "2022-10-18T19:06:01.075067",
     "exception": false,
     "start_time": "2022-10-18T19:06:00.690857",
     "status": "completed"
    },
    "tags": []
   },
   "outputs": [],
   "source": [
    "# refrence for \"hacker_news \" dataset\n",
    "dataset_ref = client.dataset(\"hacker_news\",project=\"bigquery-public-data\")\n",
    "\n",
    "# Api request - fetch the dataset:\n",
    "dataset = client.get_dataset(dataset_ref)"
   ]
  },
  {
   "cell_type": "code",
   "execution_count": 5,
   "id": "33d819ce",
   "metadata": {
    "execution": {
     "iopub.execute_input": "2022-10-18T19:06:01.088038Z",
     "iopub.status.busy": "2022-10-18T19:06:01.087523Z",
     "iopub.status.idle": "2022-10-18T19:06:01.356455Z",
     "shell.execute_reply": "2022-10-18T19:06:01.354614Z"
    },
    "papermill": {
     "duration": 0.279896,
     "end_time": "2022-10-18T19:06:01.360323",
     "exception": false,
     "start_time": "2022-10-18T19:06:01.080427",
     "status": "completed"
    },
    "tags": []
   },
   "outputs": [
    {
     "name": "stdout",
     "output_type": "stream",
     "text": [
      "comments\n",
      "full\n",
      "full_201510\n",
      "stories\n"
     ]
    }
   ],
   "source": [
    "# dataset is a collection of tables.\n",
    "tables = client.list_tables(dataset)\n",
    "\n",
    "# print name of tables in dataset:\n",
    "for table in tables:\n",
    "    print(table.table_id)"
   ]
  },
  {
   "cell_type": "code",
   "execution_count": 6,
   "id": "432b565b",
   "metadata": {
    "execution": {
     "iopub.execute_input": "2022-10-18T19:06:01.374474Z",
     "iopub.status.busy": "2022-10-18T19:06:01.373989Z",
     "iopub.status.idle": "2022-10-18T19:06:01.702350Z",
     "shell.execute_reply": "2022-10-18T19:06:01.701161Z"
    },
    "papermill": {
     "duration": 0.339062,
     "end_time": "2022-10-18T19:06:01.705524",
     "exception": false,
     "start_time": "2022-10-18T19:06:01.366462",
     "status": "completed"
    },
    "tags": []
   },
   "outputs": [],
   "source": [
    "# refrence for \"full table:\n",
    "table_ref_full = dataset_ref.table(\"full\")\n",
    "\n",
    "# API -reguest - fetch the \"full\" table :\n",
    "table_full = client.get_table(table_ref_full)"
   ]
  },
  {
   "cell_type": "code",
   "execution_count": 7,
   "id": "4409722b",
   "metadata": {
    "execution": {
     "iopub.execute_input": "2022-10-18T19:06:01.719312Z",
     "iopub.status.busy": "2022-10-18T19:06:01.718826Z",
     "iopub.status.idle": "2022-10-18T19:06:01.726519Z",
     "shell.execute_reply": "2022-10-18T19:06:01.725317Z"
    },
    "papermill": {
     "duration": 0.017716,
     "end_time": "2022-10-18T19:06:01.728974",
     "exception": false,
     "start_time": "2022-10-18T19:06:01.711258",
     "status": "completed"
    },
    "tags": []
   },
   "outputs": [
    {
     "data": {
      "text/plain": [
       "'This dataset contains all stories and comments from Hacker News from its launch in 2006.  Each story contains a story id, the author that made the post, when it was written, and the number of points the story received.'"
      ]
     },
     "execution_count": 7,
     "metadata": {},
     "output_type": "execute_result"
    }
   ],
   "source": [
    "# about dataset\n",
    "dataset.description"
   ]
  },
  {
   "cell_type": "code",
   "execution_count": 8,
   "id": "1e17e486",
   "metadata": {
    "execution": {
     "iopub.execute_input": "2022-10-18T19:06:01.742729Z",
     "iopub.status.busy": "2022-10-18T19:06:01.742221Z",
     "iopub.status.idle": "2022-10-18T19:06:01.749229Z",
     "shell.execute_reply": "2022-10-18T19:06:01.747988Z"
    },
    "papermill": {
     "duration": 0.016872,
     "end_time": "2022-10-18T19:06:01.751689",
     "exception": false,
     "start_time": "2022-10-18T19:06:01.734817",
     "status": "completed"
    },
    "tags": []
   },
   "outputs": [
    {
     "data": {
      "text/plain": [
       "'A full daily update of all the stories and comments in Hacker News.'"
      ]
     },
     "execution_count": 8,
     "metadata": {},
     "output_type": "execute_result"
    }
   ],
   "source": [
    "# about \"full\" table :\n",
    "table_full.description"
   ]
  },
  {
   "cell_type": "code",
   "execution_count": 9,
   "id": "1e2d048f",
   "metadata": {
    "execution": {
     "iopub.execute_input": "2022-10-18T19:06:01.764913Z",
     "iopub.status.busy": "2022-10-18T19:06:01.764379Z",
     "iopub.status.idle": "2022-10-18T19:06:01.773332Z",
     "shell.execute_reply": "2022-10-18T19:06:01.771871Z"
    },
    "papermill": {
     "duration": 0.018733,
     "end_time": "2022-10-18T19:06:01.776069",
     "exception": false,
     "start_time": "2022-10-18T19:06:01.757336",
     "status": "completed"
    },
    "tags": []
   },
   "outputs": [
    {
     "data": {
      "text/plain": [
       "[SchemaField('title', 'STRING', 'NULLABLE', 'Story title', (), None),\n",
       " SchemaField('url', 'STRING', 'NULLABLE', 'Story url', (), None),\n",
       " SchemaField('text', 'STRING', 'NULLABLE', 'Story or comment text', (), None),\n",
       " SchemaField('dead', 'BOOLEAN', 'NULLABLE', 'Is dead?', (), None),\n",
       " SchemaField('by', 'STRING', 'NULLABLE', \"The username of the item's author.\", (), None),\n",
       " SchemaField('score', 'INTEGER', 'NULLABLE', 'Story score', (), None),\n",
       " SchemaField('time', 'INTEGER', 'NULLABLE', 'Unix time', (), None),\n",
       " SchemaField('timestamp', 'TIMESTAMP', 'NULLABLE', 'Timestamp for the unix time', (), None),\n",
       " SchemaField('type', 'STRING', 'NULLABLE', 'Type of details (comment, comment_ranking, poll, story, job, pollopt)', (), None),\n",
       " SchemaField('id', 'INTEGER', 'NULLABLE', \"The item's unique id.\", (), None),\n",
       " SchemaField('parent', 'INTEGER', 'NULLABLE', 'Parent comment ID', (), None),\n",
       " SchemaField('descendants', 'INTEGER', 'NULLABLE', 'Number of story or poll descendants', (), None),\n",
       " SchemaField('ranking', 'INTEGER', 'NULLABLE', 'Comment ranking', (), None),\n",
       " SchemaField('deleted', 'BOOLEAN', 'NULLABLE', 'Is deleted?', (), None)]"
      ]
     },
     "execution_count": 9,
     "metadata": {},
     "output_type": "execute_result"
    }
   ],
   "source": [
    "# Each `SchemaField` tells us about all tha column(field) name,type,mode &\n",
    "# description in \"full\" table\n",
    "table_full.schema"
   ]
  },
  {
   "cell_type": "code",
   "execution_count": 10,
   "id": "10ba4b50",
   "metadata": {
    "execution": {
     "iopub.execute_input": "2022-10-18T19:06:01.790008Z",
     "iopub.status.busy": "2022-10-18T19:06:01.789477Z",
     "iopub.status.idle": "2022-10-18T19:06:02.614173Z",
     "shell.execute_reply": "2022-10-18T19:06:02.613196Z"
    },
    "papermill": {
     "duration": 0.834561,
     "end_time": "2022-10-18T19:06:02.616659",
     "exception": false,
     "start_time": "2022-10-18T19:06:01.782098",
     "status": "completed"
    },
    "tags": []
   },
   "outputs": [
    {
     "name": "stderr",
     "output_type": "stream",
     "text": [
      "/opt/conda/lib/python3.7/site-packages/ipykernel_launcher.py:2: UserWarning: Cannot use bqstorage_client if max_results is set, reverting to fetching data with the tabledata.list endpoint.\n",
      "  \n"
     ]
    },
    {
     "data": {
      "text/html": [
       "<div>\n",
       "<style scoped>\n",
       "    .dataframe tbody tr th:only-of-type {\n",
       "        vertical-align: middle;\n",
       "    }\n",
       "\n",
       "    .dataframe tbody tr th {\n",
       "        vertical-align: top;\n",
       "    }\n",
       "\n",
       "    .dataframe thead th {\n",
       "        text-align: right;\n",
       "    }\n",
       "</style>\n",
       "<table border=\"1\" class=\"dataframe\">\n",
       "  <thead>\n",
       "    <tr style=\"text-align: right;\">\n",
       "      <th></th>\n",
       "      <th>title</th>\n",
       "      <th>url</th>\n",
       "      <th>text</th>\n",
       "      <th>dead</th>\n",
       "      <th>by</th>\n",
       "      <th>score</th>\n",
       "      <th>time</th>\n",
       "      <th>timestamp</th>\n",
       "      <th>type</th>\n",
       "      <th>id</th>\n",
       "      <th>parent</th>\n",
       "      <th>descendants</th>\n",
       "      <th>ranking</th>\n",
       "      <th>deleted</th>\n",
       "    </tr>\n",
       "  </thead>\n",
       "  <tbody>\n",
       "    <tr>\n",
       "      <th>0</th>\n",
       "      <td>None</td>\n",
       "      <td>None</td>\n",
       "      <td>Gracias por esto. Entre otras cosas, la traduc...</td>\n",
       "      <td>None</td>\n",
       "      <td>mhartl</td>\n",
       "      <td>NaN</td>\n",
       "      <td>1397782915</td>\n",
       "      <td>2014-04-18 01:01:55+00:00</td>\n",
       "      <td>comment</td>\n",
       "      <td>7607456</td>\n",
       "      <td>7606634</td>\n",
       "      <td>NaN</td>\n",
       "      <td>NaN</td>\n",
       "      <td>None</td>\n",
       "    </tr>\n",
       "    <tr>\n",
       "      <th>1</th>\n",
       "      <td>None</td>\n",
       "      <td>None</td>\n",
       "      <td>Sometimes you have to just leave meanings impl...</td>\n",
       "      <td>None</td>\n",
       "      <td>jes5199</td>\n",
       "      <td>NaN</td>\n",
       "      <td>1397782909</td>\n",
       "      <td>2014-04-18 01:01:49+00:00</td>\n",
       "      <td>comment</td>\n",
       "      <td>7607454</td>\n",
       "      <td>7607280</td>\n",
       "      <td>NaN</td>\n",
       "      <td>NaN</td>\n",
       "      <td>None</td>\n",
       "    </tr>\n",
       "    <tr>\n",
       "      <th>2</th>\n",
       "      <td>None</td>\n",
       "      <td>None</td>\n",
       "      <td>Well as far as I remember from when applying (...</td>\n",
       "      <td>None</td>\n",
       "      <td>alexsb92</td>\n",
       "      <td>NaN</td>\n",
       "      <td>1319262086</td>\n",
       "      <td>2011-10-22 05:41:26+00:00</td>\n",
       "      <td>comment</td>\n",
       "      <td>3142912</td>\n",
       "      <td>3142583</td>\n",
       "      <td>NaN</td>\n",
       "      <td>NaN</td>\n",
       "      <td>None</td>\n",
       "    </tr>\n",
       "    <tr>\n",
       "      <th>3</th>\n",
       "      <td>None</td>\n",
       "      <td>None</td>\n",
       "      <td>Argh, too late as usual.</td>\n",
       "      <td>None</td>\n",
       "      <td>msie</td>\n",
       "      <td>NaN</td>\n",
       "      <td>1397782871</td>\n",
       "      <td>2014-04-18 01:01:11+00:00</td>\n",
       "      <td>comment</td>\n",
       "      <td>7607452</td>\n",
       "      <td>7607376</td>\n",
       "      <td>NaN</td>\n",
       "      <td>NaN</td>\n",
       "      <td>None</td>\n",
       "    </tr>\n",
       "    <tr>\n",
       "      <th>4</th>\n",
       "      <td>None</td>\n",
       "      <td>None</td>\n",
       "      <td>&amp;gt; OTOH the lowest ($20) tier on Linode is p...</td>\n",
       "      <td>None</td>\n",
       "      <td>gtaylor</td>\n",
       "      <td>NaN</td>\n",
       "      <td>1397782879</td>\n",
       "      <td>2014-04-18 01:01:19+00:00</td>\n",
       "      <td>comment</td>\n",
       "      <td>7607453</td>\n",
       "      <td>7605823</td>\n",
       "      <td>NaN</td>\n",
       "      <td>NaN</td>\n",
       "      <td>None</td>\n",
       "    </tr>\n",
       "  </tbody>\n",
       "</table>\n",
       "</div>"
      ],
      "text/plain": [
       "  title   url                                               text  dead  \\\n",
       "0  None  None  Gracias por esto. Entre otras cosas, la traduc...  None   \n",
       "1  None  None  Sometimes you have to just leave meanings impl...  None   \n",
       "2  None  None  Well as far as I remember from when applying (...  None   \n",
       "3  None  None                           Argh, too late as usual.  None   \n",
       "4  None  None  &gt; OTOH the lowest ($20) tier on Linode is p...  None   \n",
       "\n",
       "         by  score        time                 timestamp     type       id  \\\n",
       "0    mhartl    NaN  1397782915 2014-04-18 01:01:55+00:00  comment  7607456   \n",
       "1   jes5199    NaN  1397782909 2014-04-18 01:01:49+00:00  comment  7607454   \n",
       "2  alexsb92    NaN  1319262086 2011-10-22 05:41:26+00:00  comment  3142912   \n",
       "3      msie    NaN  1397782871 2014-04-18 01:01:11+00:00  comment  7607452   \n",
       "4   gtaylor    NaN  1397782879 2014-04-18 01:01:19+00:00  comment  7607453   \n",
       "\n",
       "    parent  descendants  ranking deleted  \n",
       "0  7606634          NaN      NaN    None  \n",
       "1  7607280          NaN      NaN    None  \n",
       "2  3142583          NaN      NaN    None  \n",
       "3  7607376          NaN      NaN    None  \n",
       "4  7605823          NaN      NaN    None  "
      ]
     },
     "execution_count": 10,
     "metadata": {},
     "output_type": "execute_result"
    }
   ],
   "source": [
    "# first 5 rows in \"full\" table:\n",
    "client.list_rows(table_full, max_results=5).to_dataframe()"
   ]
  },
  {
   "cell_type": "code",
   "execution_count": 11,
   "id": "5adbe315",
   "metadata": {
    "execution": {
     "iopub.execute_input": "2022-10-18T19:06:02.631896Z",
     "iopub.status.busy": "2022-10-18T19:06:02.631091Z",
     "iopub.status.idle": "2022-10-18T19:06:03.165230Z",
     "shell.execute_reply": "2022-10-18T19:06:03.163809Z"
    },
    "papermill": {
     "duration": 0.547248,
     "end_time": "2022-10-18T19:06:03.170248",
     "exception": false,
     "start_time": "2022-10-18T19:06:02.623000",
     "status": "completed"
    },
    "tags": []
   },
   "outputs": [
    {
     "name": "stderr",
     "output_type": "stream",
     "text": [
      "/opt/conda/lib/python3.7/site-packages/ipykernel_launcher.py:2: UserWarning: Cannot use bqstorage_client if max_results is set, reverting to fetching data with the tabledata.list endpoint.\n",
      "  \n"
     ]
    },
    {
     "data": {
      "text/html": [
       "<div>\n",
       "<style scoped>\n",
       "    .dataframe tbody tr th:only-of-type {\n",
       "        vertical-align: middle;\n",
       "    }\n",
       "\n",
       "    .dataframe tbody tr th {\n",
       "        vertical-align: top;\n",
       "    }\n",
       "\n",
       "    .dataframe thead th {\n",
       "        text-align: right;\n",
       "    }\n",
       "</style>\n",
       "<table border=\"1\" class=\"dataframe\">\n",
       "  <thead>\n",
       "    <tr style=\"text-align: right;\">\n",
       "      <th></th>\n",
       "      <th>title</th>\n",
       "    </tr>\n",
       "  </thead>\n",
       "  <tbody>\n",
       "    <tr>\n",
       "      <th>0</th>\n",
       "      <td>None</td>\n",
       "    </tr>\n",
       "    <tr>\n",
       "      <th>1</th>\n",
       "      <td>None</td>\n",
       "    </tr>\n",
       "    <tr>\n",
       "      <th>2</th>\n",
       "      <td>None</td>\n",
       "    </tr>\n",
       "    <tr>\n",
       "      <th>3</th>\n",
       "      <td>None</td>\n",
       "    </tr>\n",
       "    <tr>\n",
       "      <th>4</th>\n",
       "      <td>None</td>\n",
       "    </tr>\n",
       "  </tbody>\n",
       "</table>\n",
       "</div>"
      ],
      "text/plain": [
       "  title\n",
       "0  None\n",
       "1  None\n",
       "2  None\n",
       "3  None\n",
       "4  None"
      ]
     },
     "execution_count": 11,
     "metadata": {},
     "output_type": "execute_result"
    }
   ],
   "source": [
    "client.list_rows(table_full, max_results=5,\n",
    "                 selected_fields=table_full.schema[:1]).to_dataframe()"
   ]
  },
  {
   "cell_type": "markdown",
   "id": "ef62b62c",
   "metadata": {
    "papermill": {
     "duration": 0.006839,
     "end_time": "2022-10-18T19:06:03.184337",
     "exception": false,
     "start_time": "2022-10-18T19:06:03.177498",
     "status": "completed"
    },
    "tags": []
   },
   "source": [
    "# **SQL (Structured Query Language)**\n",
    "### **1. Select, From & Where**"
   ]
  },
  {
   "cell_type": "code",
   "execution_count": 12,
   "id": "1be817fb",
   "metadata": {
    "execution": {
     "iopub.execute_input": "2022-10-18T19:06:03.199681Z",
     "iopub.status.busy": "2022-10-18T19:06:03.199186Z",
     "iopub.status.idle": "2022-10-18T19:06:03.204979Z",
     "shell.execute_reply": "2022-10-18T19:06:03.204008Z"
    },
    "papermill": {
     "duration": 0.015909,
     "end_time": "2022-10-18T19:06:03.207128",
     "exception": false,
     "start_time": "2022-10-18T19:06:03.191219",
     "status": "completed"
    },
    "tags": []
   },
   "outputs": [],
   "source": [
    "query_1 = \"\"\"\n",
    "        SELECT text\n",
    "        FROM \"bigquery-public-data.hacker_news.full\"\n",
    "       \"\"\""
   ]
  },
  {
   "cell_type": "code",
   "execution_count": 13,
   "id": "8125af3a",
   "metadata": {
    "execution": {
     "iopub.execute_input": "2022-10-18T19:06:03.223922Z",
     "iopub.status.busy": "2022-10-18T19:06:03.223411Z",
     "iopub.status.idle": "2022-10-18T19:06:04.470696Z",
     "shell.execute_reply": "2022-10-18T19:06:04.469094Z"
    },
    "papermill": {
     "duration": 1.259161,
     "end_time": "2022-10-18T19:06:04.473933",
     "exception": false,
     "start_time": "2022-10-18T19:06:03.214772",
     "status": "completed"
    },
    "tags": []
   },
   "outputs": [],
   "source": [
    "query_job = client.query(query_1)"
   ]
  },
  {
   "cell_type": "code",
   "execution_count": 14,
   "id": "c2ec26cc",
   "metadata": {
    "execution": {
     "iopub.execute_input": "2022-10-18T19:06:04.488553Z",
     "iopub.status.busy": "2022-10-18T19:06:04.488017Z",
     "iopub.status.idle": "2022-10-18T19:06:04.493874Z",
     "shell.execute_reply": "2022-10-18T19:06:04.492543Z"
    },
    "papermill": {
     "duration": 0.016004,
     "end_time": "2022-10-18T19:06:04.496199",
     "exception": false,
     "start_time": "2022-10-18T19:06:04.480195",
     "status": "completed"
    },
    "tags": []
   },
   "outputs": [],
   "source": [
    "#text = query_job.to_dataframe()\n"
   ]
  },
  {
   "cell_type": "code",
   "execution_count": null,
   "id": "03ecab67",
   "metadata": {
    "papermill": {
     "duration": 0.005739,
     "end_time": "2022-10-18T19:06:04.508160",
     "exception": false,
     "start_time": "2022-10-18T19:06:04.502421",
     "status": "completed"
    },
    "tags": []
   },
   "outputs": [],
   "source": []
  },
  {
   "cell_type": "code",
   "execution_count": null,
   "id": "b85893b0",
   "metadata": {
    "papermill": {
     "duration": 0.005625,
     "end_time": "2022-10-18T19:06:04.519990",
     "exception": false,
     "start_time": "2022-10-18T19:06:04.514365",
     "status": "completed"
    },
    "tags": []
   },
   "outputs": [],
   "source": []
  }
 ],
 "metadata": {
  "kernelspec": {
   "display_name": "Python 3",
   "language": "python",
   "name": "python3"
  },
  "language_info": {
   "codemirror_mode": {
    "name": "ipython",
    "version": 3
   },
   "file_extension": ".py",
   "mimetype": "text/x-python",
   "name": "python",
   "nbconvert_exporter": "python",
   "pygments_lexer": "ipython3",
   "version": "3.7.12"
  },
  "papermill": {
   "default_parameters": {},
   "duration": 15.535945,
   "end_time": "2022-10-18T19:06:05.450600",
   "environment_variables": {},
   "exception": null,
   "input_path": "__notebook__.ipynb",
   "output_path": "__notebook__.ipynb",
   "parameters": {},
   "start_time": "2022-10-18T19:05:49.914655",
   "version": "2.3.4"
  }
 },
 "nbformat": 4,
 "nbformat_minor": 5
}
