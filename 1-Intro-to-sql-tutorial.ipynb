{
 "cells": [
  {
   "cell_type": "code",
   "execution_count": 1,
   "id": "246dc121",
   "metadata": {
    "_cell_guid": "b1076dfc-b9ad-4769-8c92-a6c4dae69d19",
    "_uuid": "8f2839f25d086af736a60e9eeb907d3b93b6e0e5",
    "execution": {
     "iopub.execute_input": "2022-10-21T17:53:36.545272Z",
     "iopub.status.busy": "2022-10-21T17:53:36.544905Z",
     "iopub.status.idle": "2022-10-21T17:53:36.552992Z",
     "shell.execute_reply": "2022-10-21T17:53:36.552370Z"
    },
    "papermill": {
     "duration": 0.023943,
     "end_time": "2022-10-21T17:53:36.555000",
     "exception": false,
     "start_time": "2022-10-21T17:53:36.531057",
     "status": "completed"
    },
    "tags": []
   },
   "outputs": [],
   "source": [
    "import numpy as np\n",
    "import pandas as pd\n",
    "import warnings\n",
    "warnings.filterwarnings(\"ignore\")\n",
    "\n",
    "from google.cloud import bigquery"
   ]
  },
  {
   "cell_type": "markdown",
   "id": "b6aef51d",
   "metadata": {
    "papermill": {
     "duration": 0.012246,
     "end_time": "2022-10-21T17:53:36.578937",
     "exception": false,
     "start_time": "2022-10-21T17:53:36.566691",
     "status": "completed"
    },
    "tags": []
   },
   "source": [
    "# **BigQuery**"
   ]
  },
  {
   "cell_type": "code",
   "execution_count": 2,
   "id": "8a6f1248",
   "metadata": {
    "execution": {
     "iopub.execute_input": "2022-10-21T17:53:36.603242Z",
     "iopub.status.busy": "2022-10-21T17:53:36.602659Z",
     "iopub.status.idle": "2022-10-21T17:53:36.611501Z",
     "shell.execute_reply": "2022-10-21T17:53:36.610187Z"
    },
    "papermill": {
     "duration": 0.022939,
     "end_time": "2022-10-21T17:53:36.613259",
     "exception": false,
     "start_time": "2022-10-21T17:53:36.590320",
     "status": "completed"
    },
    "tags": []
   },
   "outputs": [
    {
     "name": "stdout",
     "output_type": "stream",
     "text": [
      "Using Kaggle's public dataset BigQuery integration.\n"
     ]
    },
    {
     "data": {
      "text/plain": [
       "'2.2.0'"
      ]
     },
     "execution_count": 2,
     "metadata": {},
     "output_type": "execute_result"
    }
   ],
   "source": [
    "# client object\n",
    "client = bigquery.Client()\n",
    "\n",
    "# version\n",
    "bigquery.__version__"
   ]
  },
  {
   "cell_type": "code",
   "execution_count": 3,
   "id": "f8449c3a",
   "metadata": {
    "execution": {
     "iopub.execute_input": "2022-10-21T17:53:36.638490Z",
     "iopub.status.busy": "2022-10-21T17:53:36.638124Z",
     "iopub.status.idle": "2022-10-21T17:53:36.650489Z",
     "shell.execute_reply": "2022-10-21T17:53:36.649195Z"
    },
    "papermill": {
     "duration": 0.027515,
     "end_time": "2022-10-21T17:53:36.652718",
     "exception": false,
     "start_time": "2022-10-21T17:53:36.625203",
     "status": "completed"
    },
    "tags": []
   },
   "outputs": [],
   "source": [
    "def about_dataset(dataset_id, project_id=\"bigquery-public-data\"):\n",
    "    \"\"\"\n",
    "    Description of any dataset in BigQuery.\n",
    "    \n",
    "    dataset_id > typr(str)\n",
    "    project_id > type(str)\n",
    "    \"\"\"\n",
    "    # client object\n",
    "    client = bigquery.Client()\n",
    "    # refrence for dataset\n",
    "    dataset_ref = client.dataset(dataset_id,project= project_id)\n",
    "    # Api request - fetch the dataset:\n",
    "    dataset = client.get_dataset(dataset_ref)\n",
    "    # about dataset\n",
    "    print(dataset.description)\n",
    "    \n",
    "\n",
    "def list_table_id(dataset_id, project_id=\"bigquery-public-data\"):\n",
    "    \"\"\"\n",
    "    Return list of table_id in dataset.\n",
    "    \n",
    "    dataset_id > typr(str)\n",
    "    project_id > type(str)\n",
    "    \"\"\"\n",
    "    # client object\n",
    "    client = bigquery.Client()\n",
    "    # refrence for dataset\n",
    "    dataset_ref = client.dataset(dataset_id,project= project_id)\n",
    "    # Api request - fetch the dataset:\n",
    "    dataset = client.get_dataset(dataset_ref)\n",
    "    tables = client.list_tables(dataset)\n",
    "    print(f\"table_name_id in {dataset_id} dataset\\n\")\n",
    "    for table in tables:\n",
    "        print(f\"table_name_id : {table.table_id}\")\n",
    "\n",
    "def about_table(table_id,dataset_id, project_id=\"bigquery-public-data\"):\n",
    "    \"\"\"\n",
    "    Description of table of dataset.\n",
    "    \n",
    "    dataset_id > typr(str)\n",
    "    project_id > type(str)\n",
    "    table_id   >   type(str)\n",
    "    \"\"\"\n",
    "    # client object\n",
    "    client = bigquery.Client()\n",
    "    # refrence for dataset\n",
    "    dataset_ref = client.dataset(dataset_id,project= project_id)\n",
    "    # Api request - fetch the dataset:\n",
    "    dataset = client.get_dataset(dataset_ref)\n",
    "    \n",
    "    table_ref = dataset_ref.table(table_id)\n",
    "    # API -reguest - fetch the table :\n",
    "    table = client.get_table(table_ref)\n",
    "    # about table :\n",
    "    print(table.description)\n",
    "\n",
    "def about_column_oftable(table_id,dataset_id, project_id=\"bigquery-public-data\"):\n",
    "    \"\"\"\n",
    "    Description about column(field) of any table of dataset.\n",
    "    Each `SchemaField` tells us about all tha column(field) name,type,mode & description in table.\n",
    "    \n",
    "    dataset_id > typr(str)\n",
    "    project_id > type(str)\n",
    "    table_id   > type(str)\n",
    "    \"\"\"\n",
    "    # client object\n",
    "    client = bigquery.Client()\n",
    "    # refrence for dataset\n",
    "    dataset_ref = client.dataset(dataset_id,project= project_id)\n",
    "    # Api request - fetch the dataset:\n",
    "    dataset = client.get_dataset(dataset_ref)\n",
    "    \n",
    "    table_ref = dataset_ref.table(table_id)\n",
    "    # API -reguest - fetch the table :\n",
    "    table = client.get_table(table_ref)\n",
    "    # about column of table :\n",
    "    return table.schema\n",
    "    \n",
    "\n",
    "def fetch_table(table_id,dataset_id, project_id=\"bigquery-public-data\"):\n",
    "    \"\"\"\n",
    "    fetch tables of dataset\n",
    "    \n",
    "    dataset_id > typr(str)\n",
    "    project_id > type(str)\n",
    "    table_id   > type(str)\n",
    "    \"\"\"\n",
    "    client = bigquery.Client()\n",
    "    dataset_ref = client.dataset(dataset_id, project = project_id)\n",
    "    dataset = client.get_dataset(dataset_ref)\n",
    "    table_ref = dataset_ref.table(table_id)\n",
    "    table = client.get_table(table_ref)\n",
    "    return table"
   ]
  },
  {
   "cell_type": "code",
   "execution_count": 4,
   "id": "58527991",
   "metadata": {
    "execution": {
     "iopub.execute_input": "2022-10-21T17:53:36.678355Z",
     "iopub.status.busy": "2022-10-21T17:53:36.678013Z",
     "iopub.status.idle": "2022-10-21T17:53:37.089325Z",
     "shell.execute_reply": "2022-10-21T17:53:37.088330Z"
    },
    "papermill": {
     "duration": 0.426551,
     "end_time": "2022-10-21T17:53:37.091301",
     "exception": false,
     "start_time": "2022-10-21T17:53:36.664750",
     "status": "completed"
    },
    "tags": []
   },
   "outputs": [
    {
     "name": "stdout",
     "output_type": "stream",
     "text": [
      "Using Kaggle's public dataset BigQuery integration.\n",
      "OpenAQ is an open-source project to surface live, real-time air quality data from around the world. Their “mission is to enable previously impossible science, impact policy and empower the public to fight air pollution.” The data includes air quality measurements from 5490 locations in 47 countries.\n",
      "\n",
      "Scientists, researchers, developers, and citizens can use this data to understand the quality of air near them currently. The dataset only includes the most current measurement available for the location (no historical data). \n",
      "\n",
      "Dataset Source: openaq.org\n",
      "\n",
      "Category: Science\n",
      "\n",
      "Use: This dataset is publicly available for anyone to use under the following terms provided by the Dataset Source — https://openaq.org/#/about?_k=s3aspo — and is provided \"AS IS\" without any warranty, express or implied, from Google. Google disclaims all liability for any damages, direct or indirect, resulting from the use of the dataset. \n",
      "\n",
      "Update Frequency: Hourly\n"
     ]
    }
   ],
   "source": [
    "about_dataset(\"openaq\")"
   ]
  },
  {
   "cell_type": "code",
   "execution_count": 5,
   "id": "c740025b",
   "metadata": {
    "execution": {
     "iopub.execute_input": "2022-10-21T17:53:37.116505Z",
     "iopub.status.busy": "2022-10-21T17:53:37.116136Z",
     "iopub.status.idle": "2022-10-21T17:53:37.803563Z",
     "shell.execute_reply": "2022-10-21T17:53:37.802716Z"
    },
    "papermill": {
     "duration": 0.70318,
     "end_time": "2022-10-21T17:53:37.806386",
     "exception": false,
     "start_time": "2022-10-21T17:53:37.103206",
     "status": "completed"
    },
    "tags": []
   },
   "outputs": [
    {
     "name": "stdout",
     "output_type": "stream",
     "text": [
      "Using Kaggle's public dataset BigQuery integration.\n",
      "table_name_id in openaq dataset\n",
      "\n",
      "table_name_id : global_air_quality\n"
     ]
    }
   ],
   "source": [
    "list_table_id(\"openaq\")"
   ]
  },
  {
   "cell_type": "code",
   "execution_count": 6,
   "id": "5b055b45",
   "metadata": {
    "execution": {
     "iopub.execute_input": "2022-10-21T17:53:37.831673Z",
     "iopub.status.busy": "2022-10-21T17:53:37.831252Z",
     "iopub.status.idle": "2022-10-21T17:53:38.524608Z",
     "shell.execute_reply": "2022-10-21T17:53:38.523004Z"
    },
    "papermill": {
     "duration": 0.708429,
     "end_time": "2022-10-21T17:53:38.526530",
     "exception": false,
     "start_time": "2022-10-21T17:53:37.818101",
     "status": "completed"
    },
    "scrolled": true,
    "tags": []
   },
   "outputs": [
    {
     "name": "stdout",
     "output_type": "stream",
     "text": [
      "Using Kaggle's public dataset BigQuery integration.\n",
      "None\n"
     ]
    }
   ],
   "source": [
    "about_table(\"global_air_quality\",\"openaq\")"
   ]
  },
  {
   "cell_type": "code",
   "execution_count": 7,
   "id": "4d0fe57e",
   "metadata": {
    "execution": {
     "iopub.execute_input": "2022-10-21T17:53:38.552651Z",
     "iopub.status.busy": "2022-10-21T17:53:38.552337Z",
     "iopub.status.idle": "2022-10-21T17:53:39.217058Z",
     "shell.execute_reply": "2022-10-21T17:53:39.216183Z"
    },
    "papermill": {
     "duration": 0.680079,
     "end_time": "2022-10-21T17:53:39.218874",
     "exception": false,
     "start_time": "2022-10-21T17:53:38.538795",
     "status": "completed"
    },
    "tags": []
   },
   "outputs": [
    {
     "name": "stdout",
     "output_type": "stream",
     "text": [
      "Using Kaggle's public dataset BigQuery integration.\n"
     ]
    },
    {
     "data": {
      "text/plain": [
       "[SchemaField('location', 'STRING', 'NULLABLE', None, (), None),\n",
       " SchemaField('city', 'STRING', 'NULLABLE', None, (), None),\n",
       " SchemaField('country', 'STRING', 'NULLABLE', None, (), None),\n",
       " SchemaField('pollutant', 'STRING', 'NULLABLE', None, (), None),\n",
       " SchemaField('value', 'FLOAT', 'NULLABLE', None, (), None),\n",
       " SchemaField('timestamp', 'TIMESTAMP', 'NULLABLE', None, (), None),\n",
       " SchemaField('unit', 'STRING', 'NULLABLE', None, (), None),\n",
       " SchemaField('source_name', 'STRING', 'NULLABLE', None, (), None),\n",
       " SchemaField('latitude', 'FLOAT', 'NULLABLE', None, (), None),\n",
       " SchemaField('longitude', 'FLOAT', 'NULLABLE', None, (), None),\n",
       " SchemaField('averaged_over_in_hours', 'FLOAT', 'NULLABLE', None, (), None),\n",
       " SchemaField('location_geom', 'GEOGRAPHY', 'NULLABLE', None, (), None)]"
      ]
     },
     "execution_count": 7,
     "metadata": {},
     "output_type": "execute_result"
    }
   ],
   "source": [
    "about_column_oftable(\"global_air_quality\",\"openaq\")"
   ]
  },
  {
   "cell_type": "code",
   "execution_count": 8,
   "id": "510a1cef",
   "metadata": {
    "execution": {
     "iopub.execute_input": "2022-10-21T17:53:39.244218Z",
     "iopub.status.busy": "2022-10-21T17:53:39.243921Z",
     "iopub.status.idle": "2022-10-21T17:53:40.772641Z",
     "shell.execute_reply": "2022-10-21T17:53:40.772000Z"
    },
    "papermill": {
     "duration": 1.543644,
     "end_time": "2022-10-21T17:53:40.774627",
     "exception": false,
     "start_time": "2022-10-21T17:53:39.230983",
     "status": "completed"
    },
    "tags": []
   },
   "outputs": [
    {
     "name": "stdout",
     "output_type": "stream",
     "text": [
      "Using Kaggle's public dataset BigQuery integration.\n"
     ]
    }
   ],
   "source": [
    "table = fetch_table(\"global_air_quality\",\"openaq\")\n",
    "\n",
    "# first 5 rows in \"full\" table:\n",
    "df = client.list_rows(table,max_results=500).to_dataframe()"
   ]
  },
  {
   "cell_type": "code",
   "execution_count": 9,
   "id": "9eb48784",
   "metadata": {
    "execution": {
     "iopub.execute_input": "2022-10-21T17:53:40.803383Z",
     "iopub.status.busy": "2022-10-21T17:53:40.801944Z",
     "iopub.status.idle": "2022-10-21T17:53:40.823576Z",
     "shell.execute_reply": "2022-10-21T17:53:40.822724Z"
    },
    "papermill": {
     "duration": 0.038064,
     "end_time": "2022-10-21T17:53:40.825244",
     "exception": false,
     "start_time": "2022-10-21T17:53:40.787180",
     "status": "completed"
    },
    "tags": []
   },
   "outputs": [
    {
     "data": {
      "text/html": [
       "<div>\n",
       "<style scoped>\n",
       "    .dataframe tbody tr th:only-of-type {\n",
       "        vertical-align: middle;\n",
       "    }\n",
       "\n",
       "    .dataframe tbody tr th {\n",
       "        vertical-align: top;\n",
       "    }\n",
       "\n",
       "    .dataframe thead th {\n",
       "        text-align: right;\n",
       "    }\n",
       "</style>\n",
       "<table border=\"1\" class=\"dataframe\">\n",
       "  <thead>\n",
       "    <tr style=\"text-align: right;\">\n",
       "      <th></th>\n",
       "      <th>location</th>\n",
       "      <th>city</th>\n",
       "      <th>country</th>\n",
       "      <th>pollutant</th>\n",
       "      <th>value</th>\n",
       "      <th>timestamp</th>\n",
       "      <th>unit</th>\n",
       "      <th>source_name</th>\n",
       "      <th>latitude</th>\n",
       "      <th>longitude</th>\n",
       "      <th>averaged_over_in_hours</th>\n",
       "      <th>location_geom</th>\n",
       "    </tr>\n",
       "  </thead>\n",
       "  <tbody>\n",
       "    <tr>\n",
       "      <th>0</th>\n",
       "      <td>Borówiec, ul. Drapałka</td>\n",
       "      <td>Borówiec</td>\n",
       "      <td>PL</td>\n",
       "      <td>bc</td>\n",
       "      <td>0.85217</td>\n",
       "      <td>2022-04-28 07:00:00+00:00</td>\n",
       "      <td>µg/m³</td>\n",
       "      <td>GIOS</td>\n",
       "      <td>1.0</td>\n",
       "      <td>52.276794</td>\n",
       "      <td>17.074114</td>\n",
       "      <td>POINT(52.276794 1)</td>\n",
       "    </tr>\n",
       "    <tr>\n",
       "      <th>1</th>\n",
       "      <td>Kraków, ul. Bulwarowa</td>\n",
       "      <td>Kraków</td>\n",
       "      <td>PL</td>\n",
       "      <td>bc</td>\n",
       "      <td>0.91284</td>\n",
       "      <td>2022-04-27 23:00:00+00:00</td>\n",
       "      <td>µg/m³</td>\n",
       "      <td>GIOS</td>\n",
       "      <td>1.0</td>\n",
       "      <td>50.069308</td>\n",
       "      <td>20.053492</td>\n",
       "      <td>POINT(50.069308 1)</td>\n",
       "    </tr>\n",
       "    <tr>\n",
       "      <th>2</th>\n",
       "      <td>Płock, ul. Reja</td>\n",
       "      <td>Płock</td>\n",
       "      <td>PL</td>\n",
       "      <td>bc</td>\n",
       "      <td>1.41000</td>\n",
       "      <td>2022-03-30 04:00:00+00:00</td>\n",
       "      <td>µg/m³</td>\n",
       "      <td>GIOS</td>\n",
       "      <td>1.0</td>\n",
       "      <td>52.550938</td>\n",
       "      <td>19.709791</td>\n",
       "      <td>POINT(52.550938 1)</td>\n",
       "    </tr>\n",
       "    <tr>\n",
       "      <th>3</th>\n",
       "      <td>Elbląg, ul. Bażyńskiego</td>\n",
       "      <td>Elbląg</td>\n",
       "      <td>PL</td>\n",
       "      <td>bc</td>\n",
       "      <td>0.33607</td>\n",
       "      <td>2022-05-03 13:00:00+00:00</td>\n",
       "      <td>µg/m³</td>\n",
       "      <td>GIOS</td>\n",
       "      <td>1.0</td>\n",
       "      <td>54.167847</td>\n",
       "      <td>19.410942</td>\n",
       "      <td>POINT(54.167847 1)</td>\n",
       "    </tr>\n",
       "    <tr>\n",
       "      <th>4</th>\n",
       "      <td>Piastów, ul. Pułaskiego</td>\n",
       "      <td>Piastów</td>\n",
       "      <td>PL</td>\n",
       "      <td>bc</td>\n",
       "      <td>0.51000</td>\n",
       "      <td>2022-05-11 05:00:00+00:00</td>\n",
       "      <td>µg/m³</td>\n",
       "      <td>GIOS</td>\n",
       "      <td>1.0</td>\n",
       "      <td>52.191728</td>\n",
       "      <td>20.837489</td>\n",
       "      <td>POINT(52.191728 1)</td>\n",
       "    </tr>\n",
       "  </tbody>\n",
       "</table>\n",
       "</div>"
      ],
      "text/plain": [
       "                  location      city country pollutant    value  \\\n",
       "0   Borówiec, ul. Drapałka  Borówiec      PL        bc  0.85217   \n",
       "1    Kraków, ul. Bulwarowa    Kraków      PL        bc  0.91284   \n",
       "2          Płock, ul. Reja     Płock      PL        bc  1.41000   \n",
       "3  Elbląg, ul. Bażyńskiego    Elbląg      PL        bc  0.33607   \n",
       "4  Piastów, ul. Pułaskiego   Piastów      PL        bc  0.51000   \n",
       "\n",
       "                  timestamp   unit source_name  latitude  longitude  \\\n",
       "0 2022-04-28 07:00:00+00:00  µg/m³        GIOS       1.0  52.276794   \n",
       "1 2022-04-27 23:00:00+00:00  µg/m³        GIOS       1.0  50.069308   \n",
       "2 2022-03-30 04:00:00+00:00  µg/m³        GIOS       1.0  52.550938   \n",
       "3 2022-05-03 13:00:00+00:00  µg/m³        GIOS       1.0  54.167847   \n",
       "4 2022-05-11 05:00:00+00:00  µg/m³        GIOS       1.0  52.191728   \n",
       "\n",
       "   averaged_over_in_hours       location_geom  \n",
       "0               17.074114  POINT(52.276794 1)  \n",
       "1               20.053492  POINT(50.069308 1)  \n",
       "2               19.709791  POINT(52.550938 1)  \n",
       "3               19.410942  POINT(54.167847 1)  \n",
       "4               20.837489  POINT(52.191728 1)  "
      ]
     },
     "execution_count": 9,
     "metadata": {},
     "output_type": "execute_result"
    }
   ],
   "source": [
    "df.head()"
   ]
  },
  {
   "cell_type": "code",
   "execution_count": 10,
   "id": "e64de572",
   "metadata": {
    "execution": {
     "iopub.execute_input": "2022-10-21T17:53:40.852826Z",
     "iopub.status.busy": "2022-10-21T17:53:40.851745Z",
     "iopub.status.idle": "2022-10-21T17:53:41.268879Z",
     "shell.execute_reply": "2022-10-21T17:53:41.267990Z"
    },
    "papermill": {
     "duration": 0.432751,
     "end_time": "2022-10-21T17:53:41.270705",
     "exception": false,
     "start_time": "2022-10-21T17:53:40.837954",
     "status": "completed"
    },
    "tags": []
   },
   "outputs": [
    {
     "data": {
      "text/html": [
       "<div>\n",
       "<style scoped>\n",
       "    .dataframe tbody tr th:only-of-type {\n",
       "        vertical-align: middle;\n",
       "    }\n",
       "\n",
       "    .dataframe tbody tr th {\n",
       "        vertical-align: top;\n",
       "    }\n",
       "\n",
       "    .dataframe thead th {\n",
       "        text-align: right;\n",
       "    }\n",
       "</style>\n",
       "<table border=\"1\" class=\"dataframe\">\n",
       "  <thead>\n",
       "    <tr style=\"text-align: right;\">\n",
       "      <th></th>\n",
       "      <th>location</th>\n",
       "    </tr>\n",
       "  </thead>\n",
       "  <tbody>\n",
       "    <tr>\n",
       "      <th>0</th>\n",
       "      <td>Borówiec, ul. Drapałka</td>\n",
       "    </tr>\n",
       "    <tr>\n",
       "      <th>1</th>\n",
       "      <td>Kraków, ul. Bulwarowa</td>\n",
       "    </tr>\n",
       "    <tr>\n",
       "      <th>2</th>\n",
       "      <td>Płock, ul. Reja</td>\n",
       "    </tr>\n",
       "    <tr>\n",
       "      <th>3</th>\n",
       "      <td>Elbląg, ul. Bażyńskiego</td>\n",
       "    </tr>\n",
       "    <tr>\n",
       "      <th>4</th>\n",
       "      <td>Piastów, ul. Pułaskiego</td>\n",
       "    </tr>\n",
       "  </tbody>\n",
       "</table>\n",
       "</div>"
      ],
      "text/plain": [
       "                  location\n",
       "0   Borówiec, ul. Drapałka\n",
       "1    Kraków, ul. Bulwarowa\n",
       "2          Płock, ul. Reja\n",
       "3  Elbląg, ul. Bażyńskiego\n",
       "4  Piastów, ul. Pułaskiego"
      ]
     },
     "execution_count": 10,
     "metadata": {},
     "output_type": "execute_result"
    }
   ],
   "source": [
    "client.list_rows(table, max_results=5,\n",
    "                 selected_fields=table.schema[:1]).to_dataframe()"
   ]
  },
  {
   "cell_type": "code",
   "execution_count": 11,
   "id": "ada142aa",
   "metadata": {
    "execution": {
     "iopub.execute_input": "2022-10-21T17:53:41.298556Z",
     "iopub.status.busy": "2022-10-21T17:53:41.298051Z",
     "iopub.status.idle": "2022-10-21T17:53:41.309188Z",
     "shell.execute_reply": "2022-10-21T17:53:41.307705Z"
    },
    "papermill": {
     "duration": 0.02838,
     "end_time": "2022-10-21T17:53:41.312002",
     "exception": false,
     "start_time": "2022-10-21T17:53:41.283622",
     "status": "completed"
    },
    "tags": []
   },
   "outputs": [
    {
     "data": {
      "text/plain": [
       "Kraków                  21\n",
       "Łódź                    18\n",
       "Rzeszów                 17\n",
       "Płock                   16\n",
       "Zielonka                14\n",
       "                        ..\n",
       "Czerwionka-Leszczyny     3\n",
       "Złoty Potok              3\n",
       "Nakło nad Notecią        3\n",
       "Kalisz                   3\n",
       "Kościerzyna              3\n",
       "Name: city, Length: 64, dtype: int64"
      ]
     },
     "execution_count": 11,
     "metadata": {},
     "output_type": "execute_result"
    }
   ],
   "source": [
    "df.city.value_counts()"
   ]
  },
  {
   "cell_type": "code",
   "execution_count": 12,
   "id": "e8cd5511",
   "metadata": {
    "execution": {
     "iopub.execute_input": "2022-10-21T17:53:41.340086Z",
     "iopub.status.busy": "2022-10-21T17:53:41.339579Z",
     "iopub.status.idle": "2022-10-21T17:53:41.343492Z",
     "shell.execute_reply": "2022-10-21T17:53:41.342592Z"
    },
    "papermill": {
     "duration": 0.020907,
     "end_time": "2022-10-21T17:53:41.345996",
     "exception": false,
     "start_time": "2022-10-21T17:53:41.325089",
     "status": "completed"
    },
    "tags": []
   },
   "outputs": [],
   "source": [
    "# save file\n",
    "#with open(\"openaq_gaq.csv\",\"w\") as file:\n",
    "   # file.write(df.To_csv())"
   ]
  },
  {
   "cell_type": "markdown",
   "id": "3f333ece",
   "metadata": {
    "papermill": {
     "duration": 0.012959,
     "end_time": "2022-10-21T17:53:41.372007",
     "exception": false,
     "start_time": "2022-10-21T17:53:41.359048",
     "status": "completed"
    },
    "tags": []
   },
   "source": [
    "# **SQL (Structured Query Language)**\n",
    "## **1) Select, From & Where**\n",
    "**The foundational compontents for all SQL queries**"
   ]
  },
  {
   "cell_type": "code",
   "execution_count": 13,
   "id": "ce998fd7",
   "metadata": {
    "execution": {
     "iopub.execute_input": "2022-10-21T17:53:41.400309Z",
     "iopub.status.busy": "2022-10-21T17:53:41.399758Z",
     "iopub.status.idle": "2022-10-21T17:54:02.495866Z",
     "shell.execute_reply": "2022-10-21T17:54:02.494699Z"
    },
    "papermill": {
     "duration": 21.112418,
     "end_time": "2022-10-21T17:54:02.497878",
     "exception": false,
     "start_time": "2022-10-21T17:53:41.385460",
     "status": "completed"
    },
    "tags": []
   },
   "outputs": [],
   "source": [
    "query0 = \"\"\"\n",
    "        SELECT city\n",
    "        FROM `bigquery-public-data.openaq.global_air_quality`\n",
    "        WHERE country = 'US'\n",
    "        \"\"\"\n",
    "\n",
    "query0_job = client.query(query0)\n",
    "# API request -fetch data\n",
    "query0_df = query0_job.to_dataframe()"
   ]
  },
  {
   "cell_type": "code",
   "execution_count": 14,
   "id": "bc95e1c2",
   "metadata": {
    "execution": {
     "iopub.execute_input": "2022-10-21T17:54:02.526219Z",
     "iopub.status.busy": "2022-10-21T17:54:02.525633Z",
     "iopub.status.idle": "2022-10-21T17:54:02.532949Z",
     "shell.execute_reply": "2022-10-21T17:54:02.531981Z"
    },
    "papermill": {
     "duration": 0.024383,
     "end_time": "2022-10-21T17:54:02.535344",
     "exception": false,
     "start_time": "2022-10-21T17:54:02.510961",
     "status": "completed"
    },
    "tags": []
   },
   "outputs": [
    {
     "data": {
      "text/html": [
       "<div>\n",
       "<style scoped>\n",
       "    .dataframe tbody tr th:only-of-type {\n",
       "        vertical-align: middle;\n",
       "    }\n",
       "\n",
       "    .dataframe tbody tr th {\n",
       "        vertical-align: top;\n",
       "    }\n",
       "\n",
       "    .dataframe thead th {\n",
       "        text-align: right;\n",
       "    }\n",
       "</style>\n",
       "<table border=\"1\" class=\"dataframe\">\n",
       "  <thead>\n",
       "    <tr style=\"text-align: right;\">\n",
       "      <th></th>\n",
       "      <th>city</th>\n",
       "    </tr>\n",
       "  </thead>\n",
       "  <tbody>\n",
       "    <tr>\n",
       "      <th>0</th>\n",
       "      <td>HOWARD</td>\n",
       "    </tr>\n",
       "    <tr>\n",
       "      <th>1</th>\n",
       "      <td>HOWARD</td>\n",
       "    </tr>\n",
       "  </tbody>\n",
       "</table>\n",
       "</div>"
      ],
      "text/plain": [
       "     city\n",
       "0  HOWARD\n",
       "1  HOWARD"
      ]
     },
     "execution_count": 14,
     "metadata": {},
     "output_type": "execute_result"
    }
   ],
   "source": [
    "query0_df.head(2)"
   ]
  },
  {
   "cell_type": "code",
   "execution_count": 15,
   "id": "089d465b",
   "metadata": {
    "execution": {
     "iopub.execute_input": "2022-10-21T17:54:02.563595Z",
     "iopub.status.busy": "2022-10-21T17:54:02.563117Z",
     "iopub.status.idle": "2022-10-21T17:54:04.401164Z",
     "shell.execute_reply": "2022-10-21T17:54:04.400059Z"
    },
    "papermill": {
     "duration": 1.854864,
     "end_time": "2022-10-21T17:54:04.403501",
     "exception": false,
     "start_time": "2022-10-21T17:54:02.548637",
     "status": "completed"
    },
    "tags": []
   },
   "outputs": [],
   "source": [
    "# save file\n",
    "with open(\"query0.csv\",\"w\") as file:\n",
    "    file.write(query0_df.to_csv())"
   ]
  },
  {
   "cell_type": "code",
   "execution_count": 16,
   "id": "06527bb1",
   "metadata": {
    "execution": {
     "iopub.execute_input": "2022-10-21T17:54:04.432716Z",
     "iopub.status.busy": "2022-10-21T17:54:04.432387Z",
     "iopub.status.idle": "2022-10-21T17:54:14.280984Z",
     "shell.execute_reply": "2022-10-21T17:54:14.279210Z"
    },
    "papermill": {
     "duration": 9.865441,
     "end_time": "2022-10-21T17:54:14.283105",
     "exception": false,
     "start_time": "2022-10-21T17:54:04.417664",
     "status": "completed"
    },
    "tags": []
   },
   "outputs": [],
   "source": [
    "query1 = \"\"\"\n",
    "        SELECT city\n",
    "        FROM `bigquery-public-data.openaq.global_air_quality`\n",
    "        WHERE country = 'IN'\n",
    "        \"\"\"\n",
    "query1_job = client.query(query1)\n",
    "# API request -fetch data\n",
    "query1_df = query1_job.to_dataframe()"
   ]
  },
  {
   "cell_type": "code",
   "execution_count": 17,
   "id": "6f136978",
   "metadata": {
    "execution": {
     "iopub.execute_input": "2022-10-21T17:54:14.311057Z",
     "iopub.status.busy": "2022-10-21T17:54:14.310712Z",
     "iopub.status.idle": "2022-10-21T17:54:14.317870Z",
     "shell.execute_reply": "2022-10-21T17:54:14.316800Z"
    },
    "papermill": {
     "duration": 0.023769,
     "end_time": "2022-10-21T17:54:14.320168",
     "exception": false,
     "start_time": "2022-10-21T17:54:14.296399",
     "status": "completed"
    },
    "tags": []
   },
   "outputs": [
    {
     "data": {
      "text/html": [
       "<div>\n",
       "<style scoped>\n",
       "    .dataframe tbody tr th:only-of-type {\n",
       "        vertical-align: middle;\n",
       "    }\n",
       "\n",
       "    .dataframe tbody tr th {\n",
       "        vertical-align: top;\n",
       "    }\n",
       "\n",
       "    .dataframe thead th {\n",
       "        text-align: right;\n",
       "    }\n",
       "</style>\n",
       "<table border=\"1\" class=\"dataframe\">\n",
       "  <thead>\n",
       "    <tr style=\"text-align: right;\">\n",
       "      <th></th>\n",
       "      <th>city</th>\n",
       "    </tr>\n",
       "  </thead>\n",
       "  <tbody>\n",
       "    <tr>\n",
       "      <th>0</th>\n",
       "      <td>Tirupati</td>\n",
       "    </tr>\n",
       "    <tr>\n",
       "      <th>1</th>\n",
       "      <td>Indore</td>\n",
       "    </tr>\n",
       "  </tbody>\n",
       "</table>\n",
       "</div>"
      ],
      "text/plain": [
       "       city\n",
       "0  Tirupati\n",
       "1    Indore"
      ]
     },
     "execution_count": 17,
     "metadata": {},
     "output_type": "execute_result"
    }
   ],
   "source": [
    "query1_df.head(2)"
   ]
  },
  {
   "cell_type": "code",
   "execution_count": 18,
   "id": "772f86d1",
   "metadata": {
    "execution": {
     "iopub.execute_input": "2022-10-21T17:54:14.349019Z",
     "iopub.status.busy": "2022-10-21T17:54:14.348464Z",
     "iopub.status.idle": "2022-10-21T17:54:15.214840Z",
     "shell.execute_reply": "2022-10-21T17:54:15.213681Z"
    },
    "papermill": {
     "duration": 0.883504,
     "end_time": "2022-10-21T17:54:15.217029",
     "exception": false,
     "start_time": "2022-10-21T17:54:14.333525",
     "status": "completed"
    },
    "tags": []
   },
   "outputs": [],
   "source": [
    "# save file\n",
    "with open(\"query1.csv\",\"w\") as file:\n",
    "    file.write(query1_df.to_csv())"
   ]
  },
  {
   "cell_type": "code",
   "execution_count": 19,
   "id": "898f83f0",
   "metadata": {
    "execution": {
     "iopub.execute_input": "2022-10-21T17:54:15.244097Z",
     "iopub.status.busy": "2022-10-21T17:54:15.243791Z",
     "iopub.status.idle": "2022-10-21T17:54:38.897614Z",
     "shell.execute_reply": "2022-10-21T17:54:38.896359Z"
    },
    "papermill": {
     "duration": 23.669924,
     "end_time": "2022-10-21T17:54:38.899933",
     "exception": false,
     "start_time": "2022-10-21T17:54:15.230009",
     "status": "completed"
    },
    "tags": []
   },
   "outputs": [],
   "source": [
    "query2 = \"\"\" \n",
    "          SELECT city, country, value\n",
    "          FROM `bigquery-public-data.openaq.global_air_quality`\n",
    "          WHERE country = \"IN\"\n",
    "          \n",
    "          \"\"\"\n",
    "query2_job = client.query(query2)\n",
    "# API request -fetch data\n",
    "query2_df = query2_job.to_dataframe()"
   ]
  },
  {
   "cell_type": "code",
   "execution_count": 20,
   "id": "073418a6",
   "metadata": {
    "execution": {
     "iopub.execute_input": "2022-10-21T17:54:38.929333Z",
     "iopub.status.busy": "2022-10-21T17:54:38.928998Z",
     "iopub.status.idle": "2022-10-21T17:54:38.939982Z",
     "shell.execute_reply": "2022-10-21T17:54:38.938998Z"
    },
    "papermill": {
     "duration": 0.027454,
     "end_time": "2022-10-21T17:54:38.942053",
     "exception": false,
     "start_time": "2022-10-21T17:54:38.914599",
     "status": "completed"
    },
    "tags": []
   },
   "outputs": [
    {
     "data": {
      "text/html": [
       "<div>\n",
       "<style scoped>\n",
       "    .dataframe tbody tr th:only-of-type {\n",
       "        vertical-align: middle;\n",
       "    }\n",
       "\n",
       "    .dataframe tbody tr th {\n",
       "        vertical-align: top;\n",
       "    }\n",
       "\n",
       "    .dataframe thead th {\n",
       "        text-align: right;\n",
       "    }\n",
       "</style>\n",
       "<table border=\"1\" class=\"dataframe\">\n",
       "  <thead>\n",
       "    <tr style=\"text-align: right;\">\n",
       "      <th></th>\n",
       "      <th>city</th>\n",
       "      <th>country</th>\n",
       "      <th>value</th>\n",
       "    </tr>\n",
       "  </thead>\n",
       "  <tbody>\n",
       "    <tr>\n",
       "      <th>0</th>\n",
       "      <td>Ambala</td>\n",
       "      <td>IN</td>\n",
       "      <td>490.0</td>\n",
       "    </tr>\n",
       "    <tr>\n",
       "      <th>1</th>\n",
       "      <td>Srinagar</td>\n",
       "      <td>IN</td>\n",
       "      <td>0.0</td>\n",
       "    </tr>\n",
       "  </tbody>\n",
       "</table>\n",
       "</div>"
      ],
      "text/plain": [
       "       city country  value\n",
       "0    Ambala      IN  490.0\n",
       "1  Srinagar      IN    0.0"
      ]
     },
     "execution_count": 20,
     "metadata": {},
     "output_type": "execute_result"
    }
   ],
   "source": [
    "query2_df.head(2)"
   ]
  },
  {
   "cell_type": "code",
   "execution_count": 21,
   "id": "3acbfda6",
   "metadata": {
    "execution": {
     "iopub.execute_input": "2022-10-21T17:54:38.971042Z",
     "iopub.status.busy": "2022-10-21T17:54:38.970608Z",
     "iopub.status.idle": "2022-10-21T17:54:40.308908Z",
     "shell.execute_reply": "2022-10-21T17:54:40.307572Z"
    },
    "papermill": {
     "duration": 1.355479,
     "end_time": "2022-10-21T17:54:40.311762",
     "exception": false,
     "start_time": "2022-10-21T17:54:38.956283",
     "status": "completed"
    },
    "tags": []
   },
   "outputs": [],
   "source": [
    "# save file\n",
    "with open(\"query2.csv\",\"w\") as file:\n",
    "    file.write(query2_df.to_csv())"
   ]
  },
  {
   "cell_type": "code",
   "execution_count": 22,
   "id": "79143673",
   "metadata": {
    "execution": {
     "iopub.execute_input": "2022-10-21T17:54:40.341476Z",
     "iopub.status.busy": "2022-10-21T17:54:40.341064Z",
     "iopub.status.idle": "2022-10-21T17:56:10.805943Z",
     "shell.execute_reply": "2022-10-21T17:56:10.804713Z"
    },
    "papermill": {
     "duration": 90.482163,
     "end_time": "2022-10-21T17:56:10.807986",
     "exception": false,
     "start_time": "2022-10-21T17:54:40.325823",
     "status": "completed"
    },
    "tags": []
   },
   "outputs": [],
   "source": [
    "query3 = \"\"\"\n",
    "          SELECT *\n",
    "          FROM `bigquery-public-data.openaq.global_air_quality`\n",
    "          WHERE country = \"IN\"\n",
    "          \"\"\"\n",
    "query3_job = client.query(query3)\n",
    "# API request -fetch data\n",
    "query3_df = query3_job.to_dataframe()"
   ]
  },
  {
   "cell_type": "code",
   "execution_count": 23,
   "id": "791ea475",
   "metadata": {
    "execution": {
     "iopub.execute_input": "2022-10-21T17:56:10.835840Z",
     "iopub.status.busy": "2022-10-21T17:56:10.835550Z",
     "iopub.status.idle": "2022-10-21T17:56:10.850512Z",
     "shell.execute_reply": "2022-10-21T17:56:10.848836Z"
    },
    "papermill": {
     "duration": 0.031579,
     "end_time": "2022-10-21T17:56:10.853101",
     "exception": false,
     "start_time": "2022-10-21T17:56:10.821522",
     "status": "completed"
    },
    "tags": []
   },
   "outputs": [
    {
     "data": {
      "text/html": [
       "<div>\n",
       "<style scoped>\n",
       "    .dataframe tbody tr th:only-of-type {\n",
       "        vertical-align: middle;\n",
       "    }\n",
       "\n",
       "    .dataframe tbody tr th {\n",
       "        vertical-align: top;\n",
       "    }\n",
       "\n",
       "    .dataframe thead th {\n",
       "        text-align: right;\n",
       "    }\n",
       "</style>\n",
       "<table border=\"1\" class=\"dataframe\">\n",
       "  <thead>\n",
       "    <tr style=\"text-align: right;\">\n",
       "      <th></th>\n",
       "      <th>location</th>\n",
       "      <th>city</th>\n",
       "      <th>country</th>\n",
       "      <th>pollutant</th>\n",
       "      <th>value</th>\n",
       "      <th>timestamp</th>\n",
       "      <th>unit</th>\n",
       "      <th>source_name</th>\n",
       "      <th>latitude</th>\n",
       "      <th>longitude</th>\n",
       "      <th>averaged_over_in_hours</th>\n",
       "      <th>location_geom</th>\n",
       "    </tr>\n",
       "  </thead>\n",
       "  <tbody>\n",
       "    <tr>\n",
       "      <th>0</th>\n",
       "      <td>Patti Mehar, Ambala - HSPCB</td>\n",
       "      <td>Ambala</td>\n",
       "      <td>IN</td>\n",
       "      <td>co</td>\n",
       "      <td>490.0</td>\n",
       "      <td>2022-05-15 01:45:00+00:00</td>\n",
       "      <td>µg/m³</td>\n",
       "      <td>caaqm</td>\n",
       "      <td>0.25</td>\n",
       "      <td>30.379589</td>\n",
       "      <td>76.778328</td>\n",
       "      <td>POINT(30.379589 0.25)</td>\n",
       "    </tr>\n",
       "    <tr>\n",
       "      <th>1</th>\n",
       "      <td>Rajbagh, Srinagar - JKSPCB</td>\n",
       "      <td>Srinagar</td>\n",
       "      <td>IN</td>\n",
       "      <td>co</td>\n",
       "      <td>0.0</td>\n",
       "      <td>2022-05-04 15:15:00+00:00</td>\n",
       "      <td>µg/m³</td>\n",
       "      <td>caaqm</td>\n",
       "      <td>0.25</td>\n",
       "      <td>34.066206</td>\n",
       "      <td>74.819820</td>\n",
       "      <td>POINT(34.066206 0.25)</td>\n",
       "    </tr>\n",
       "  </tbody>\n",
       "</table>\n",
       "</div>"
      ],
      "text/plain": [
       "                      location      city country pollutant  value  \\\n",
       "0  Patti Mehar, Ambala - HSPCB    Ambala      IN        co  490.0   \n",
       "1   Rajbagh, Srinagar - JKSPCB  Srinagar      IN        co    0.0   \n",
       "\n",
       "                  timestamp   unit source_name  latitude  longitude  \\\n",
       "0 2022-05-15 01:45:00+00:00  µg/m³       caaqm      0.25  30.379589   \n",
       "1 2022-05-04 15:15:00+00:00  µg/m³       caaqm      0.25  34.066206   \n",
       "\n",
       "   averaged_over_in_hours          location_geom  \n",
       "0               76.778328  POINT(30.379589 0.25)  \n",
       "1               74.819820  POINT(34.066206 0.25)  "
      ]
     },
     "execution_count": 23,
     "metadata": {},
     "output_type": "execute_result"
    }
   ],
   "source": [
    "query3_df.head(2)"
   ]
  },
  {
   "cell_type": "code",
   "execution_count": 24,
   "id": "575f15e9",
   "metadata": {
    "execution": {
     "iopub.execute_input": "2022-10-21T17:56:10.883217Z",
     "iopub.status.busy": "2022-10-21T17:56:10.882136Z",
     "iopub.status.idle": "2022-10-21T17:56:19.049360Z",
     "shell.execute_reply": "2022-10-21T17:56:19.047689Z"
    },
    "papermill": {
     "duration": 8.185261,
     "end_time": "2022-10-21T17:56:19.051997",
     "exception": false,
     "start_time": "2022-10-21T17:56:10.866736",
     "status": "completed"
    },
    "tags": []
   },
   "outputs": [],
   "source": [
    "# save file\n",
    "with open(\"query3.csv\",\"w\") as file:\n",
    "    file.write(query3_df.to_csv())"
   ]
  },
  {
   "cell_type": "code",
   "execution_count": 25,
   "id": "fb568034",
   "metadata": {
    "execution": {
     "iopub.execute_input": "2022-10-21T17:56:19.081809Z",
     "iopub.status.busy": "2022-10-21T17:56:19.081485Z",
     "iopub.status.idle": "2022-10-21T17:56:19.801334Z",
     "shell.execute_reply": "2022-10-21T17:56:19.800489Z"
    },
    "papermill": {
     "duration": 0.737418,
     "end_time": "2022-10-21T17:56:19.803767",
     "exception": false,
     "start_time": "2022-10-21T17:56:19.066349",
     "status": "completed"
    },
    "tags": []
   },
   "outputs": [
    {
     "name": "stdout",
     "output_type": "stream",
     "text": [
      "Using Kaggle's public dataset BigQuery integration.\n",
      "table_name_id in hacker_news dataset\n",
      "\n",
      "table_name_id : comments\n",
      "table_name_id : full\n",
      "table_name_id : full_201510\n",
      "table_name_id : stories\n"
     ]
    }
   ],
   "source": [
    "list_table_id(\"hacker_news\")"
   ]
  },
  {
   "cell_type": "code",
   "execution_count": 26,
   "id": "c72d0806",
   "metadata": {
    "execution": {
     "iopub.execute_input": "2022-10-21T17:56:19.832645Z",
     "iopub.status.busy": "2022-10-21T17:56:19.832307Z",
     "iopub.status.idle": "2022-10-21T17:56:20.629672Z",
     "shell.execute_reply": "2022-10-21T17:56:20.628694Z"
    },
    "papermill": {
     "duration": 0.814177,
     "end_time": "2022-10-21T17:56:20.631821",
     "exception": false,
     "start_time": "2022-10-21T17:56:19.817644",
     "status": "completed"
    },
    "tags": []
   },
   "outputs": [
    {
     "name": "stdout",
     "output_type": "stream",
     "text": [
      "Using Kaggle's public dataset BigQuery integration.\n"
     ]
    },
    {
     "data": {
      "text/plain": [
       "[SchemaField('title', 'STRING', 'NULLABLE', 'Story title', (), None),\n",
       " SchemaField('url', 'STRING', 'NULLABLE', 'Story url', (), None),\n",
       " SchemaField('text', 'STRING', 'NULLABLE', 'Story or comment text', (), None),\n",
       " SchemaField('dead', 'BOOLEAN', 'NULLABLE', 'Is dead?', (), None),\n",
       " SchemaField('by', 'STRING', 'NULLABLE', \"The username of the item's author.\", (), None),\n",
       " SchemaField('score', 'INTEGER', 'NULLABLE', 'Story score', (), None),\n",
       " SchemaField('time', 'INTEGER', 'NULLABLE', 'Unix time', (), None),\n",
       " SchemaField('timestamp', 'TIMESTAMP', 'NULLABLE', 'Timestamp for the unix time', (), None),\n",
       " SchemaField('type', 'STRING', 'NULLABLE', 'Type of details (comment, comment_ranking, poll, story, job, pollopt)', (), None),\n",
       " SchemaField('id', 'INTEGER', 'NULLABLE', \"The item's unique id.\", (), None),\n",
       " SchemaField('parent', 'INTEGER', 'NULLABLE', 'Parent comment ID', (), None),\n",
       " SchemaField('descendants', 'INTEGER', 'NULLABLE', 'Number of story or poll descendants', (), None),\n",
       " SchemaField('ranking', 'INTEGER', 'NULLABLE', 'Comment ranking', (), None),\n",
       " SchemaField('deleted', 'BOOLEAN', 'NULLABLE', 'Is deleted?', (), None)]"
      ]
     },
     "execution_count": 26,
     "metadata": {},
     "output_type": "execute_result"
    }
   ],
   "source": [
    "about_column_oftable(\"full\",\"hacker_news\")"
   ]
  },
  {
   "cell_type": "code",
   "execution_count": 27,
   "id": "700cc117",
   "metadata": {
    "execution": {
     "iopub.execute_input": "2022-10-21T17:56:20.661801Z",
     "iopub.status.busy": "2022-10-21T17:56:20.661448Z",
     "iopub.status.idle": "2022-10-21T17:56:21.100888Z",
     "shell.execute_reply": "2022-10-21T17:56:21.099626Z"
    },
    "papermill": {
     "duration": 0.457443,
     "end_time": "2022-10-21T17:56:21.103206",
     "exception": false,
     "start_time": "2022-10-21T17:56:20.645763",
     "status": "completed"
    },
    "tags": []
   },
   "outputs": [],
   "source": [
    "# `hacker_news` is a very large dataset\n",
    "query4 = \"\"\"\n",
    "         SELECT title, score\n",
    "         FROM `bigquery-public-data.hacker_news.full`\n",
    "          WHERE type = \"job\"\n",
    "         \"\"\"\n",
    "# create a `QueryJobConfig` object to estimates size of query `(dry_run=True)` without running it:\n",
    "dry_run_config = bigquery.QueryJobConfig(dry_run=True)\n",
    "query4_dry_run_config_job = client.query(query4,job_config=dry_run_config)"
   ]
  },
  {
   "cell_type": "code",
   "execution_count": 28,
   "id": "4831882d",
   "metadata": {
    "execution": {
     "iopub.execute_input": "2022-10-21T17:56:21.133204Z",
     "iopub.status.busy": "2022-10-21T17:56:21.132699Z",
     "iopub.status.idle": "2022-10-21T17:56:21.137096Z",
     "shell.execute_reply": "2022-10-21T17:56:21.136413Z"
    },
    "papermill": {
     "duration": 0.021132,
     "end_time": "2022-10-21T17:56:21.138787",
     "exception": false,
     "start_time": "2022-10-21T17:56:21.117655",
     "status": "completed"
    },
    "tags": []
   },
   "outputs": [
    {
     "name": "stdout",
     "output_type": "stream",
     "text": [
      "query will process 548.784085 MB \n"
     ]
    }
   ],
   "source": [
    "print(f\"query will process {query4_dry_run_config_job.total_bytes_processed/1e+6} MB \")"
   ]
  },
  {
   "cell_type": "code",
   "execution_count": 29,
   "id": "6fa8b8bb",
   "metadata": {
    "execution": {
     "iopub.execute_input": "2022-10-21T17:56:21.168229Z",
     "iopub.status.busy": "2022-10-21T17:56:21.167886Z",
     "iopub.status.idle": "2022-10-21T17:56:23.214695Z",
     "shell.execute_reply": "2022-10-21T17:56:23.213511Z"
    },
    "papermill": {
     "duration": 2.064469,
     "end_time": "2022-10-21T17:56:23.217141",
     "exception": false,
     "start_time": "2022-10-21T17:56:21.152672",
     "status": "completed"
    },
    "tags": []
   },
   "outputs": [],
   "source": [
    "# limit how much data you are willing to scan: example(1GB)\n",
    "one_GB = 1000*1000*1000\n",
    "limit_config = bigquery.QueryJobConfig(maximum_bytes_billed=one_GB)\n",
    "query4_limit_config_job = client.query(query4,job_config=limit_config)\n",
    "# API- request - fetch data\n",
    "query4_df = query4_limit_config_job.to_dataframe()"
   ]
  },
  {
   "cell_type": "code",
   "execution_count": 30,
   "id": "c1b3ab15",
   "metadata": {
    "execution": {
     "iopub.execute_input": "2022-10-21T17:56:23.247884Z",
     "iopub.status.busy": "2022-10-21T17:56:23.247036Z",
     "iopub.status.idle": "2022-10-21T17:56:23.256908Z",
     "shell.execute_reply": "2022-10-21T17:56:23.255892Z"
    },
    "papermill": {
     "duration": 0.027045,
     "end_time": "2022-10-21T17:56:23.259416",
     "exception": false,
     "start_time": "2022-10-21T17:56:23.232371",
     "status": "completed"
    },
    "tags": []
   },
   "outputs": [
    {
     "data": {
      "text/html": [
       "<div>\n",
       "<style scoped>\n",
       "    .dataframe tbody tr th:only-of-type {\n",
       "        vertical-align: middle;\n",
       "    }\n",
       "\n",
       "    .dataframe tbody tr th {\n",
       "        vertical-align: top;\n",
       "    }\n",
       "\n",
       "    .dataframe thead th {\n",
       "        text-align: right;\n",
       "    }\n",
       "</style>\n",
       "<table border=\"1\" class=\"dataframe\">\n",
       "  <thead>\n",
       "    <tr style=\"text-align: right;\">\n",
       "      <th></th>\n",
       "      <th>title</th>\n",
       "      <th>score</th>\n",
       "    </tr>\n",
       "  </thead>\n",
       "  <tbody>\n",
       "    <tr>\n",
       "      <th>0</th>\n",
       "      <td>Yoshi Engineering is hiring</td>\n",
       "      <td>1.0</td>\n",
       "    </tr>\n",
       "    <tr>\n",
       "      <th>1</th>\n",
       "      <td>Recent YC Grad looking for a data dev to help ...</td>\n",
       "      <td>1.0</td>\n",
       "    </tr>\n",
       "  </tbody>\n",
       "</table>\n",
       "</div>"
      ],
      "text/plain": [
       "                                               title  score\n",
       "0                        Yoshi Engineering is hiring    1.0\n",
       "1  Recent YC Grad looking for a data dev to help ...    1.0"
      ]
     },
     "execution_count": 30,
     "metadata": {},
     "output_type": "execute_result"
    }
   ],
   "source": [
    "query4_df.head(2)"
   ]
  },
  {
   "cell_type": "code",
   "execution_count": 31,
   "id": "448016db",
   "metadata": {
    "execution": {
     "iopub.execute_input": "2022-10-21T17:56:23.289380Z",
     "iopub.status.busy": "2022-10-21T17:56:23.289044Z",
     "iopub.status.idle": "2022-10-21T17:56:23.332871Z",
     "shell.execute_reply": "2022-10-21T17:56:23.331531Z"
    },
    "papermill": {
     "duration": 0.061467,
     "end_time": "2022-10-21T17:56:23.335093",
     "exception": false,
     "start_time": "2022-10-21T17:56:23.273626",
     "status": "completed"
    },
    "tags": []
   },
   "outputs": [],
   "source": [
    "with open(\"query4.csv\",\"w\") as file:\n",
    "    file.write(query4_df.to_csv())"
   ]
  },
  {
   "cell_type": "markdown",
   "id": "3b1d0b3e",
   "metadata": {
    "papermill": {
     "duration": 0.013989,
     "end_time": "2022-10-21T17:56:23.363493",
     "exception": false,
     "start_time": "2022-10-21T17:56:23.349504",
     "status": "completed"
    },
    "tags": []
   },
   "source": [
    "## **2) Group By, Having & Count**\n",
    "**Get more interesting insights directly from your SQL queries**"
   ]
  },
  {
   "cell_type": "code",
   "execution_count": 32,
   "id": "4d694a34",
   "metadata": {
    "execution": {
     "iopub.execute_input": "2022-10-21T17:56:23.394075Z",
     "iopub.status.busy": "2022-10-21T17:56:23.393642Z",
     "iopub.status.idle": "2022-10-21T17:56:24.484950Z",
     "shell.execute_reply": "2022-10-21T17:56:24.483837Z"
    },
    "papermill": {
     "duration": 1.109174,
     "end_time": "2022-10-21T17:56:24.487031",
     "exception": false,
     "start_time": "2022-10-21T17:56:23.377857",
     "status": "completed"
    },
    "tags": []
   },
   "outputs": [],
   "source": [
    "# count - Total id's in full table\n",
    "query5 = \"\"\"\n",
    "         SELECT COUNT(id)\n",
    "         FROM `bigquery-public-data.hacker_news.full`\n",
    "        \n",
    "         \"\"\"\n",
    "query5_job = client.query(query5)\n",
    "query5_df = query5_job.to_dataframe()"
   ]
  },
  {
   "cell_type": "code",
   "execution_count": 33,
   "id": "286c517e",
   "metadata": {
    "execution": {
     "iopub.execute_input": "2022-10-21T17:56:24.520777Z",
     "iopub.status.busy": "2022-10-21T17:56:24.520471Z",
     "iopub.status.idle": "2022-10-21T17:56:24.526800Z",
     "shell.execute_reply": "2022-10-21T17:56:24.526192Z"
    },
    "papermill": {
     "duration": 0.025634,
     "end_time": "2022-10-21T17:56:24.528383",
     "exception": false,
     "start_time": "2022-10-21T17:56:24.502749",
     "status": "completed"
    },
    "tags": []
   },
   "outputs": [
    {
     "data": {
      "text/html": [
       "<div>\n",
       "<style scoped>\n",
       "    .dataframe tbody tr th:only-of-type {\n",
       "        vertical-align: middle;\n",
       "    }\n",
       "\n",
       "    .dataframe tbody tr th {\n",
       "        vertical-align: top;\n",
       "    }\n",
       "\n",
       "    .dataframe thead th {\n",
       "        text-align: right;\n",
       "    }\n",
       "</style>\n",
       "<table border=\"1\" class=\"dataframe\">\n",
       "  <thead>\n",
       "    <tr style=\"text-align: right;\">\n",
       "      <th></th>\n",
       "      <th>f0_</th>\n",
       "    </tr>\n",
       "  </thead>\n",
       "  <tbody>\n",
       "    <tr>\n",
       "      <th>0</th>\n",
       "      <td>33272432</td>\n",
       "    </tr>\n",
       "  </tbody>\n",
       "</table>\n",
       "</div>"
      ],
      "text/plain": [
       "        f0_\n",
       "0  33272432"
      ]
     },
     "execution_count": 33,
     "metadata": {},
     "output_type": "execute_result"
    }
   ],
   "source": [
    "query5_df"
   ]
  },
  {
   "cell_type": "code",
   "execution_count": 34,
   "id": "8465fef5",
   "metadata": {
    "execution": {
     "iopub.execute_input": "2022-10-21T17:56:24.559494Z",
     "iopub.status.busy": "2022-10-21T17:56:24.558814Z",
     "iopub.status.idle": "2022-10-21T17:56:25.349344Z",
     "shell.execute_reply": "2022-10-21T17:56:25.348297Z"
    },
    "papermill": {
     "duration": 0.810496,
     "end_time": "2022-10-21T17:56:25.353045",
     "exception": false,
     "start_time": "2022-10-21T17:56:24.542549",
     "status": "completed"
    },
    "tags": []
   },
   "outputs": [
    {
     "name": "stdout",
     "output_type": "stream",
     "text": [
      "Using Kaggle's public dataset BigQuery integration.\n"
     ]
    },
    {
     "data": {
      "text/plain": [
       "[SchemaField('location', 'STRING', 'NULLABLE', None, (), None),\n",
       " SchemaField('city', 'STRING', 'NULLABLE', None, (), None),\n",
       " SchemaField('country', 'STRING', 'NULLABLE', None, (), None),\n",
       " SchemaField('pollutant', 'STRING', 'NULLABLE', None, (), None),\n",
       " SchemaField('value', 'FLOAT', 'NULLABLE', None, (), None),\n",
       " SchemaField('timestamp', 'TIMESTAMP', 'NULLABLE', None, (), None),\n",
       " SchemaField('unit', 'STRING', 'NULLABLE', None, (), None),\n",
       " SchemaField('source_name', 'STRING', 'NULLABLE', None, (), None),\n",
       " SchemaField('latitude', 'FLOAT', 'NULLABLE', None, (), None),\n",
       " SchemaField('longitude', 'FLOAT', 'NULLABLE', None, (), None),\n",
       " SchemaField('averaged_over_in_hours', 'FLOAT', 'NULLABLE', None, (), None),\n",
       " SchemaField('location_geom', 'GEOGRAPHY', 'NULLABLE', None, (), None)]"
      ]
     },
     "execution_count": 34,
     "metadata": {},
     "output_type": "execute_result"
    }
   ],
   "source": [
    "about_column_oftable(\"global_air_quality\",\"openaq\")"
   ]
  },
  {
   "cell_type": "code",
   "execution_count": 35,
   "id": "4431cbee",
   "metadata": {
    "execution": {
     "iopub.execute_input": "2022-10-21T17:56:25.392717Z",
     "iopub.status.busy": "2022-10-21T17:56:25.391956Z",
     "iopub.status.idle": "2022-10-21T17:56:26.816222Z",
     "shell.execute_reply": "2022-10-21T17:56:26.815096Z"
    },
    "papermill": {
     "duration": 1.446166,
     "end_time": "2022-10-21T17:56:26.818499",
     "exception": false,
     "start_time": "2022-10-21T17:56:25.372333",
     "status": "completed"
    },
    "tags": []
   },
   "outputs": [],
   "source": [
    "# GROUP BY - How many cities in each country.\n",
    "query6 = \"\"\"\n",
    "         SELECT country,COUNT(city)\n",
    "         FROM `bigquery-public-data.openaq.global_air_quality`\n",
    "         GROUP BY country\n",
    "         \"\"\"\n",
    "query6_job = client.query(query6)\n",
    "query6_df = query6_job.to_dataframe()"
   ]
  },
  {
   "cell_type": "code",
   "execution_count": 36,
   "id": "b8bd9b3a",
   "metadata": {
    "execution": {
     "iopub.execute_input": "2022-10-21T17:56:26.849670Z",
     "iopub.status.busy": "2022-10-21T17:56:26.849349Z",
     "iopub.status.idle": "2022-10-21T17:56:26.859729Z",
     "shell.execute_reply": "2022-10-21T17:56:26.858386Z"
    },
    "papermill": {
     "duration": 0.029046,
     "end_time": "2022-10-21T17:56:26.861862",
     "exception": false,
     "start_time": "2022-10-21T17:56:26.832816",
     "status": "completed"
    },
    "tags": []
   },
   "outputs": [
    {
     "data": {
      "text/html": [
       "<div>\n",
       "<style scoped>\n",
       "    .dataframe tbody tr th:only-of-type {\n",
       "        vertical-align: middle;\n",
       "    }\n",
       "\n",
       "    .dataframe tbody tr th {\n",
       "        vertical-align: top;\n",
       "    }\n",
       "\n",
       "    .dataframe thead th {\n",
       "        text-align: right;\n",
       "    }\n",
       "</style>\n",
       "<table border=\"1\" class=\"dataframe\">\n",
       "  <thead>\n",
       "    <tr style=\"text-align: right;\">\n",
       "      <th></th>\n",
       "      <th>country</th>\n",
       "      <th>f0_</th>\n",
       "    </tr>\n",
       "  </thead>\n",
       "  <tbody>\n",
       "    <tr>\n",
       "      <th>0</th>\n",
       "      <td>PL</td>\n",
       "      <td>341984</td>\n",
       "    </tr>\n",
       "    <tr>\n",
       "      <th>1</th>\n",
       "      <td>US</td>\n",
       "      <td>1421351</td>\n",
       "    </tr>\n",
       "  </tbody>\n",
       "</table>\n",
       "</div>"
      ],
      "text/plain": [
       "  country      f0_\n",
       "0      PL   341984\n",
       "1      US  1421351"
      ]
     },
     "execution_count": 36,
     "metadata": {},
     "output_type": "execute_result"
    }
   ],
   "source": [
    "query6_df.head(2)"
   ]
  },
  {
   "cell_type": "code",
   "execution_count": 37,
   "id": "81f53441",
   "metadata": {
    "execution": {
     "iopub.execute_input": "2022-10-21T17:56:26.893968Z",
     "iopub.status.busy": "2022-10-21T17:56:26.893081Z",
     "iopub.status.idle": "2022-10-21T17:56:26.901464Z",
     "shell.execute_reply": "2022-10-21T17:56:26.900509Z"
    },
    "papermill": {
     "duration": 0.026055,
     "end_time": "2022-10-21T17:56:26.903487",
     "exception": false,
     "start_time": "2022-10-21T17:56:26.877432",
     "status": "completed"
    },
    "tags": []
   },
   "outputs": [
    {
     "data": {
      "text/html": [
       "<div>\n",
       "<style scoped>\n",
       "    .dataframe tbody tr th:only-of-type {\n",
       "        vertical-align: middle;\n",
       "    }\n",
       "\n",
       "    .dataframe tbody tr th {\n",
       "        vertical-align: top;\n",
       "    }\n",
       "\n",
       "    .dataframe thead th {\n",
       "        text-align: right;\n",
       "    }\n",
       "</style>\n",
       "<table border=\"1\" class=\"dataframe\">\n",
       "  <thead>\n",
       "    <tr style=\"text-align: right;\">\n",
       "      <th></th>\n",
       "      <th>country</th>\n",
       "      <th>f0_</th>\n",
       "    </tr>\n",
       "  </thead>\n",
       "  <tbody>\n",
       "    <tr>\n",
       "      <th>42</th>\n",
       "      <td>IN</td>\n",
       "      <td>770712</td>\n",
       "    </tr>\n",
       "  </tbody>\n",
       "</table>\n",
       "</div>"
      ],
      "text/plain": [
       "   country     f0_\n",
       "42      IN  770712"
      ]
     },
     "execution_count": 37,
     "metadata": {},
     "output_type": "execute_result"
    }
   ],
   "source": [
    "query6_df[query6_df.country == \"IN\"]"
   ]
  },
  {
   "cell_type": "code",
   "execution_count": 38,
   "id": "5abd9891",
   "metadata": {
    "execution": {
     "iopub.execute_input": "2022-10-21T17:56:26.934274Z",
     "iopub.status.busy": "2022-10-21T17:56:26.933336Z",
     "iopub.status.idle": "2022-10-21T17:56:28.146512Z",
     "shell.execute_reply": "2022-10-21T17:56:28.145001Z"
    },
    "papermill": {
     "duration": 1.230836,
     "end_time": "2022-10-21T17:56:28.148898",
     "exception": false,
     "start_time": "2022-10-21T17:56:26.918062",
     "status": "completed"
    },
    "tags": []
   },
   "outputs": [],
   "source": [
    "# HAVING - its used in combination with GROUP BY to \n",
    "# ignore groups that don't meet certain criteria.\n",
    "query7 = \"\"\"\n",
    "         SELECT country,COUNT(city)\n",
    "         FROM `bigquery-public-data.openaq.global_air_quality`\n",
    "         GROUP BY country\n",
    "         HAVING COUNT(city)>50\n",
    "         \"\"\"\n",
    "query7_job = client.query(query7)\n",
    "query7_df = query7_job.to_dataframe()"
   ]
  },
  {
   "cell_type": "code",
   "execution_count": 39,
   "id": "9528df81",
   "metadata": {
    "execution": {
     "iopub.execute_input": "2022-10-21T17:56:28.186934Z",
     "iopub.status.busy": "2022-10-21T17:56:28.186226Z",
     "iopub.status.idle": "2022-10-21T17:56:28.194112Z",
     "shell.execute_reply": "2022-10-21T17:56:28.193064Z"
    },
    "papermill": {
     "duration": 0.030322,
     "end_time": "2022-10-21T17:56:28.196076",
     "exception": false,
     "start_time": "2022-10-21T17:56:28.165754",
     "status": "completed"
    },
    "tags": []
   },
   "outputs": [
    {
     "data": {
      "text/html": [
       "<div>\n",
       "<style scoped>\n",
       "    .dataframe tbody tr th:only-of-type {\n",
       "        vertical-align: middle;\n",
       "    }\n",
       "\n",
       "    .dataframe tbody tr th {\n",
       "        vertical-align: top;\n",
       "    }\n",
       "\n",
       "    .dataframe thead th {\n",
       "        text-align: right;\n",
       "    }\n",
       "</style>\n",
       "<table border=\"1\" class=\"dataframe\">\n",
       "  <thead>\n",
       "    <tr style=\"text-align: right;\">\n",
       "      <th></th>\n",
       "      <th>country</th>\n",
       "      <th>f0_</th>\n",
       "    </tr>\n",
       "  </thead>\n",
       "  <tbody>\n",
       "    <tr>\n",
       "      <th>97</th>\n",
       "      <td>KZ</td>\n",
       "      <td>102</td>\n",
       "    </tr>\n",
       "    <tr>\n",
       "      <th>98</th>\n",
       "      <td>CS</td>\n",
       "      <td>59</td>\n",
       "    </tr>\n",
       "  </tbody>\n",
       "</table>\n",
       "</div>"
      ],
      "text/plain": [
       "   country  f0_\n",
       "97      KZ  102\n",
       "98      CS   59"
      ]
     },
     "execution_count": 39,
     "metadata": {},
     "output_type": "execute_result"
    }
   ],
   "source": [
    "query7_df.tail(2)"
   ]
  },
  {
   "cell_type": "code",
   "execution_count": 40,
   "id": "7e0c4767",
   "metadata": {
    "execution": {
     "iopub.execute_input": "2022-10-21T17:56:28.233813Z",
     "iopub.status.busy": "2022-10-21T17:56:28.233521Z",
     "iopub.status.idle": "2022-10-21T17:56:29.376769Z",
     "shell.execute_reply": "2022-10-21T17:56:29.375474Z"
    },
    "papermill": {
     "duration": 1.162255,
     "end_time": "2022-10-21T17:56:29.379002",
     "exception": false,
     "start_time": "2022-10-21T17:56:28.216747",
     "status": "completed"
    },
    "tags": []
   },
   "outputs": [],
   "source": [
    "# Aliasing and improved readability and faster\n",
    "# `COUNT(1)` - faster than previous(use if unsure what to put inside`COUNT()`)\n",
    "# `AS NumCity` - alias `f0_` column to `NumCity`\n",
    "query8 = \"\"\"\n",
    "         SELECT country,COUNT(1) AS NumCity\n",
    "         FROM `bigquery-public-data.openaq.global_air_quality`\n",
    "         GROUP BY country\n",
    "         HAVING COUNT(1)>50\n",
    "         \"\"\"\n",
    "query8_job = client.query(query8)\n",
    "query8_df = query8_job.to_dataframe()"
   ]
  },
  {
   "cell_type": "code",
   "execution_count": 41,
   "id": "f265fec2",
   "metadata": {
    "execution": {
     "iopub.execute_input": "2022-10-21T17:56:29.411471Z",
     "iopub.status.busy": "2022-10-21T17:56:29.410118Z",
     "iopub.status.idle": "2022-10-21T17:56:29.420045Z",
     "shell.execute_reply": "2022-10-21T17:56:29.418740Z"
    },
    "papermill": {
     "duration": 0.028542,
     "end_time": "2022-10-21T17:56:29.422508",
     "exception": false,
     "start_time": "2022-10-21T17:56:29.393966",
     "status": "completed"
    },
    "tags": []
   },
   "outputs": [
    {
     "data": {
      "text/html": [
       "<div>\n",
       "<style scoped>\n",
       "    .dataframe tbody tr th:only-of-type {\n",
       "        vertical-align: middle;\n",
       "    }\n",
       "\n",
       "    .dataframe tbody tr th {\n",
       "        vertical-align: top;\n",
       "    }\n",
       "\n",
       "    .dataframe thead th {\n",
       "        text-align: right;\n",
       "    }\n",
       "</style>\n",
       "<table border=\"1\" class=\"dataframe\">\n",
       "  <thead>\n",
       "    <tr style=\"text-align: right;\">\n",
       "      <th></th>\n",
       "      <th>country</th>\n",
       "      <th>NumCity</th>\n",
       "    </tr>\n",
       "  </thead>\n",
       "  <tbody>\n",
       "    <tr>\n",
       "      <th>0</th>\n",
       "      <td>PL</td>\n",
       "      <td>341984</td>\n",
       "    </tr>\n",
       "    <tr>\n",
       "      <th>1</th>\n",
       "      <td>US</td>\n",
       "      <td>1421351</td>\n",
       "    </tr>\n",
       "    <tr>\n",
       "      <th>2</th>\n",
       "      <td>ME</td>\n",
       "      <td>13466</td>\n",
       "    </tr>\n",
       "    <tr>\n",
       "      <th>3</th>\n",
       "      <td>AD</td>\n",
       "      <td>2920</td>\n",
       "    </tr>\n",
       "    <tr>\n",
       "      <th>4</th>\n",
       "      <td>CN</td>\n",
       "      <td>13681</td>\n",
       "    </tr>\n",
       "  </tbody>\n",
       "</table>\n",
       "</div>"
      ],
      "text/plain": [
       "  country  NumCity\n",
       "0      PL   341984\n",
       "1      US  1421351\n",
       "2      ME    13466\n",
       "3      AD     2920\n",
       "4      CN    13681"
      ]
     },
     "execution_count": 41,
     "metadata": {},
     "output_type": "execute_result"
    }
   ],
   "source": [
    "query8_df.head()"
   ]
  },
  {
   "cell_type": "markdown",
   "id": "8ad712d2",
   "metadata": {
    "execution": {
     "iopub.execute_input": "2022-10-21T13:52:38.165932Z",
     "iopub.status.busy": "2022-10-21T13:52:38.164650Z",
     "iopub.status.idle": "2022-10-21T13:52:38.171449Z",
     "shell.execute_reply": "2022-10-21T13:52:38.170191Z",
     "shell.execute_reply.started": "2022-10-21T13:52:38.165882Z"
    },
    "papermill": {
     "duration": 0.01457,
     "end_time": "2022-10-21T17:56:29.452007",
     "exception": false,
     "start_time": "2022-10-21T17:56:29.437437",
     "status": "completed"
    },
    "tags": []
   },
   "source": [
    "## **3) Order By**\n",
    "**Order your results to focus on the most important data for your use case.**"
   ]
  },
  {
   "cell_type": "code",
   "execution_count": 42,
   "id": "7373e3d1",
   "metadata": {
    "execution": {
     "iopub.execute_input": "2022-10-21T17:56:29.483679Z",
     "iopub.status.busy": "2022-10-21T17:56:29.483374Z",
     "iopub.status.idle": "2022-10-21T17:56:29.888554Z",
     "shell.execute_reply": "2022-10-21T17:56:29.886903Z"
    },
    "papermill": {
     "duration": 0.424644,
     "end_time": "2022-10-21T17:56:29.891502",
     "exception": false,
     "start_time": "2022-10-21T17:56:29.466858",
     "status": "completed"
    },
    "tags": []
   },
   "outputs": [
    {
     "name": "stdout",
     "output_type": "stream",
     "text": [
      "Using Kaggle's public dataset BigQuery integration.\n",
      "None\n"
     ]
    }
   ],
   "source": [
    "about_dataset(\"nhtsa_traffic_fatalities\")"
   ]
  },
  {
   "cell_type": "code",
   "execution_count": 43,
   "id": "4722c9a6",
   "metadata": {
    "execution": {
     "iopub.execute_input": "2022-10-21T17:56:29.924657Z",
     "iopub.status.busy": "2022-10-21T17:56:29.924276Z",
     "iopub.status.idle": "2022-10-21T17:56:31.172040Z",
     "shell.execute_reply": "2022-10-21T17:56:31.171186Z"
    },
    "papermill": {
     "duration": 1.267185,
     "end_time": "2022-10-21T17:56:31.174077",
     "exception": false,
     "start_time": "2022-10-21T17:56:29.906892",
     "status": "completed"
    },
    "tags": []
   },
   "outputs": [
    {
     "name": "stdout",
     "output_type": "stream",
     "text": [
      "Using Kaggle's public dataset BigQuery integration.\n",
      "table_name_id in nhtsa_traffic_fatalities dataset\n",
      "\n",
      "table_name_id :  accident_2015\n",
      "table_name_id :  accident_2016\n",
      "table_name_id :  accident_2017\n",
      "table_name_id :  accident_2018\n",
      "table_name_id :  accident_2019\n",
      "table_name_id :  accident_2020\n",
      "table_name_id :  cevent_2015\n",
      "table_name_id :  cevent_2016\n",
      "table_name_id :  cevent_2017\n",
      "table_name_id :  cevent_2018\n",
      "table_name_id :  cevent_2019\n",
      "table_name_id :  cevent_2020\n",
      "table_name_id :  damage_2015\n",
      "table_name_id :  damage_2016\n",
      "table_name_id :  damage_2017\n",
      "table_name_id :  damage_2018\n",
      "table_name_id :  damage_2019\n",
      "table_name_id :  damage_2020\n",
      "table_name_id :  distract_2015\n",
      "table_name_id :  distract_2016\n",
      "table_name_id :  distract_2017\n",
      "table_name_id :  distract_2018\n",
      "table_name_id :  distract_2019\n",
      "table_name_id :  distract_2020\n",
      "table_name_id :  drimpair_2015\n",
      "table_name_id :  drimpair_2016\n",
      "table_name_id :  drimpair_2017\n",
      "table_name_id :  drimpair_2018\n",
      "table_name_id :  drimpair_2019\n",
      "table_name_id :  drimpair_2020\n",
      "table_name_id :  factor_2015\n",
      "table_name_id :  factor_2016\n",
      "table_name_id :  factor_2017\n",
      "table_name_id :  factor_2018\n",
      "table_name_id :  factor_2019\n",
      "table_name_id :  factor_2020\n",
      "table_name_id :  maneuver_2015\n",
      "table_name_id :  maneuver_2016\n",
      "table_name_id :  maneuver_2017\n",
      "table_name_id :  maneuver_2018\n",
      "table_name_id :  maneuver_2019\n",
      "table_name_id :  maneuver_2020\n",
      "table_name_id :  nmcrash_2015\n",
      "table_name_id :  nmcrash_2016\n",
      "table_name_id :  nmcrash_2017\n",
      "table_name_id :  nmcrash_2018\n",
      "table_name_id :  nmcrash_2019\n",
      "table_name_id :  nmcrash_2020\n",
      "table_name_id :  nmimpair_2015\n",
      "table_name_id :  nmimpair_2016\n",
      "table_name_id :  nmimpair_2017\n",
      "table_name_id :  nmimpair_2018\n",
      "table_name_id :  nmimpair_2019\n",
      "table_name_id :  nmimpair_2020\n",
      "table_name_id :  nmprior_2015\n",
      "table_name_id :  nmprior_2016\n",
      "table_name_id :  nmprior_2017\n",
      "table_name_id :  nmprior_2018\n",
      "table_name_id :  nmprior_2019\n",
      "table_name_id :  nmprior_2020\n",
      "table_name_id :  parkwork_2015\n",
      "table_name_id :  parkwork_2016\n",
      "table_name_id :  parkwork_2017\n",
      "table_name_id :  parkwork_2018\n",
      "table_name_id :  parkwork_2019\n",
      "table_name_id :  parkwork_2020\n",
      "table_name_id :  pbtype_2015\n",
      "table_name_id :  pbtype_2016\n",
      "table_name_id :  pbtype_2017\n",
      "table_name_id :  pbtype_2018\n",
      "table_name_id :  pbtype_2019\n",
      "table_name_id :  pbtype_2020\n",
      "table_name_id :  safetyeq_2015\n",
      "table_name_id :  safetyeq_2016\n",
      "table_name_id :  safetyeq_2017\n",
      "table_name_id :  safetyeq_2018\n",
      "table_name_id :  safetyeq_2019\n",
      "table_name_id :  safetyeq_2020\n",
      "table_name_id :  vevent_2015\n",
      "table_name_id :  vevent_2016\n",
      "table_name_id :  vevent_2017\n",
      "table_name_id :  vevent_2018\n",
      "table_name_id :  vevent_2019\n",
      "table_name_id :  vevent_2020\n",
      "table_name_id :  vindecode_2015\n",
      "table_name_id :  violatn_2015\n",
      "table_name_id :  violatn_2016\n",
      "table_name_id :  violatn_2017\n",
      "table_name_id :  violatn_2018\n",
      "table_name_id :  violatn_2019\n",
      "table_name_id :  violatn_2020\n",
      "table_name_id :  vision_2015\n",
      "table_name_id :  vision_2016\n",
      "table_name_id :  vision_2017\n",
      "table_name_id :  vision_2018\n",
      "table_name_id :  vision_2019\n",
      "table_name_id :  vision_2020\n",
      "table_name_id :  vsoe_2015\n",
      "table_name_id :  vsoe_2016\n",
      "table_name_id :  vsoe_2017\n",
      "table_name_id :  vsoe_2018\n",
      "table_name_id :  vsoe_2019\n",
      "table_name_id :  vsoe_2020\n",
      "table_name_id : accident_2015\n",
      "table_name_id : accident_2016\n",
      "table_name_id : cevent_2015\n",
      "table_name_id : cevent_2016\n",
      "table_name_id : damage_2015\n",
      "table_name_id : damage_2016\n",
      "table_name_id : distract_2015\n",
      "table_name_id : distract_2016\n",
      "table_name_id : drimpair_2015\n",
      "table_name_id : drimpair_2016\n",
      "table_name_id : factor_2015\n",
      "table_name_id : factor_2016\n",
      "table_name_id : maneuver_2015\n",
      "table_name_id : maneuver_2016\n",
      "table_name_id : nmcrash_2015\n",
      "table_name_id : nmcrash_2016\n",
      "table_name_id : nmimpair_2015\n",
      "table_name_id : nmimpair_2016\n",
      "table_name_id : nmprior_2015\n",
      "table_name_id : nmprior_2016\n",
      "table_name_id : parkwork_2015\n",
      "table_name_id : parkwork_2016\n",
      "table_name_id : pbtype_2015\n",
      "table_name_id : pbtype_2016\n",
      "table_name_id : person_2015\n",
      "table_name_id : person_2016\n",
      "table_name_id : safetyeq_2015\n",
      "table_name_id : safetyeq_2016\n",
      "table_name_id : vehicle_2015\n",
      "table_name_id : vehicle_2016\n",
      "table_name_id : vevent_2015\n",
      "table_name_id : vevent_2016\n",
      "table_name_id : vindecode_2015\n",
      "table_name_id : vindecode_2016\n",
      "table_name_id : violatn_2015\n",
      "table_name_id : violatn_2016\n",
      "table_name_id : vision_2015\n",
      "table_name_id : vision_2016\n",
      "table_name_id : vsoe_2015\n",
      "table_name_id : vsoe_2016\n"
     ]
    }
   ],
   "source": [
    "list_table_id(\"nhtsa_traffic_fatalities\")"
   ]
  },
  {
   "cell_type": "code",
   "execution_count": 44,
   "id": "620d1870",
   "metadata": {
    "execution": {
     "iopub.execute_input": "2022-10-21T17:56:31.206259Z",
     "iopub.status.busy": "2022-10-21T17:56:31.205935Z",
     "iopub.status.idle": "2022-10-21T17:56:31.886009Z",
     "shell.execute_reply": "2022-10-21T17:56:31.884590Z"
    },
    "papermill": {
     "duration": 0.698718,
     "end_time": "2022-10-21T17:56:31.888298",
     "exception": false,
     "start_time": "2022-10-21T17:56:31.189580",
     "status": "completed"
    },
    "tags": []
   },
   "outputs": [
    {
     "name": "stdout",
     "output_type": "stream",
     "text": [
      "Using Kaggle's public dataset BigQuery integration.\n",
      "This data file contains information about crash characteristics\n",
      "and environmental conditions at the time of the crash. There is one record per crash.\n"
     ]
    }
   ],
   "source": [
    "about_table(\"accident_2015\",\"nhtsa_traffic_fatalities\")"
   ]
  },
  {
   "cell_type": "code",
   "execution_count": 45,
   "id": "9240f0e9",
   "metadata": {
    "execution": {
     "iopub.execute_input": "2022-10-21T17:56:31.921016Z",
     "iopub.status.busy": "2022-10-21T17:56:31.920674Z",
     "iopub.status.idle": "2022-10-21T17:56:33.129610Z",
     "shell.execute_reply": "2022-10-21T17:56:33.128938Z"
    },
    "papermill": {
     "duration": 1.227889,
     "end_time": "2022-10-21T17:56:33.131720",
     "exception": false,
     "start_time": "2022-10-21T17:56:31.903831",
     "status": "completed"
    },
    "tags": []
   },
   "outputs": [
    {
     "name": "stdout",
     "output_type": "stream",
     "text": [
      "Using Kaggle's public dataset BigQuery integration.\n"
     ]
    }
   ],
   "source": [
    "table_accident_2015 = fetch_table(\"accident_2015\",\"nhtsa_traffic_fatalities\")\n",
    "table_accident_2015_df= client.list_rows(table_accident_2015,max_results=50).to_dataframe()"
   ]
  },
  {
   "cell_type": "code",
   "execution_count": 46,
   "id": "0a709bab",
   "metadata": {
    "execution": {
     "iopub.execute_input": "2022-10-21T17:56:33.164283Z",
     "iopub.status.busy": "2022-10-21T17:56:33.163312Z",
     "iopub.status.idle": "2022-10-21T17:56:33.181713Z",
     "shell.execute_reply": "2022-10-21T17:56:33.180888Z"
    },
    "papermill": {
     "duration": 0.036971,
     "end_time": "2022-10-21T17:56:33.184093",
     "exception": false,
     "start_time": "2022-10-21T17:56:33.147122",
     "status": "completed"
    },
    "tags": []
   },
   "outputs": [
    {
     "name": "stdout",
     "output_type": "stream",
     "text": [
      "<class 'pandas.core.frame.DataFrame'>\n",
      "RangeIndex: 50 entries, 0 to 49\n",
      "Data columns (total 70 columns):\n",
      " #   Column                                                       Non-Null Count  Dtype              \n",
      "---  ------                                                       --------------  -----              \n",
      " 0   state_number                                                 50 non-null     int64              \n",
      " 1   state_name                                                   50 non-null     object             \n",
      " 2   consecutive_number                                           50 non-null     int64              \n",
      " 3   number_of_vehicle_forms_submitted_all                        50 non-null     int64              \n",
      " 4   number_of_motor_vehicles_in_transport_mvit                   50 non-null     int64              \n",
      " 5   number_of_parked_working_vehicles                            50 non-null     int64              \n",
      " 6   number_of_forms_submitted_for_persons_not_in_motor_vehicles  50 non-null     int64              \n",
      " 7   number_of_persons_not_in_motor_vehicles_in_transport_mvit    50 non-null     int64              \n",
      " 8   number_of_persons_in_motor_vehicles_in_transport_mvit        50 non-null     int64              \n",
      " 9   number_of_forms_submitted_for_persons_in_motor_vehicles      50 non-null     int64              \n",
      " 10  county                                                       50 non-null     int64              \n",
      " 11  city                                                         50 non-null     int64              \n",
      " 12  day_of_crash                                                 50 non-null     int64              \n",
      " 13  month_of_crash                                               50 non-null     int64              \n",
      " 14  year_of_crash                                                50 non-null     int64              \n",
      " 15  day_of_week                                                  50 non-null     int64              \n",
      " 16  hour_of_crash                                                50 non-null     int64              \n",
      " 17  minute_of_crash                                              50 non-null     int64              \n",
      " 18  national_highway_system                                      50 non-null     int64              \n",
      " 19  land_use                                                     50 non-null     int64              \n",
      " 20  land_use_name                                                50 non-null     object             \n",
      " 21  functional_system                                            50 non-null     int64              \n",
      " 22  functional_system_name                                       50 non-null     object             \n",
      " 23  ownership                                                    50 non-null     int64              \n",
      " 24  ownership_name                                               50 non-null     object             \n",
      " 25  route_signing                                                50 non-null     int64              \n",
      " 26  route_signing_name                                           50 non-null     object             \n",
      " 27  trafficway_identifier                                        50 non-null     object             \n",
      " 28  trafficway_identifier_2                                      50 non-null     object             \n",
      " 29  milepoint                                                    50 non-null     int64              \n",
      " 30  latitude                                                     50 non-null     float64            \n",
      " 31  longitude                                                    50 non-null     float64            \n",
      " 32  special_jurisdiction                                         50 non-null     int64              \n",
      " 33  special_jurisdiction_name                                    50 non-null     object             \n",
      " 34  first_harmful_event                                          50 non-null     int64              \n",
      " 35  first_harmful_event_name                                     50 non-null     object             \n",
      " 36  manner_of_collision                                          50 non-null     int64              \n",
      " 37  manner_of_collision_name                                     50 non-null     object             \n",
      " 38  relation_to_junction_within_interchange_area                 50 non-null     object             \n",
      " 39  relation_to_junction_specific_location                       50 non-null     int64              \n",
      " 40  relation_to_junction_specific_location_name                  50 non-null     object             \n",
      " 41  type_of_intersection                                         50 non-null     object             \n",
      " 42  work_zone                                                    50 non-null     object             \n",
      " 43  relation_to_trafficway                                       50 non-null     int64              \n",
      " 44  relation_to_trafficway_name                                  50 non-null     object             \n",
      " 45  light_condition                                              50 non-null     int64              \n",
      " 46  light_condition_name                                         50 non-null     object             \n",
      " 47  atmospheric_conditions_1                                     50 non-null     int64              \n",
      " 48  atmospheric_conditions_1_name                                50 non-null     object             \n",
      " 49  atmospheric_conditions_2                                     50 non-null     int64              \n",
      " 50  atmospheric_conditions_2_name                                50 non-null     object             \n",
      " 51  atmospheric_conditions                                       50 non-null     int64              \n",
      " 52  atmospheric_conditions_name                                  50 non-null     object             \n",
      " 53  school_bus_related                                           50 non-null     object             \n",
      " 54  rail_grade_crossing_identifier                               50 non-null     object             \n",
      " 55  hour_of_notification                                         50 non-null     int64              \n",
      " 56  minute_of_notification                                       50 non-null     int64              \n",
      " 57  hour_of_arrival_at_scene                                     50 non-null     int64              \n",
      " 58  minute_of_arrival_at_scene                                   50 non-null     int64              \n",
      " 59  hour_of_ems_arrival_at_hospital                              50 non-null     int64              \n",
      " 60  minute_of_ems_arrival_at_hospital                            50 non-null     int64              \n",
      " 61  related_factors_crash_level_1                                50 non-null     int64              \n",
      " 62  related_factors_crash_level_1_name                           50 non-null     object             \n",
      " 63  related_factors_crash_level_2                                50 non-null     int64              \n",
      " 64  related_factors_crash_level_2_name                           50 non-null     object             \n",
      " 65  related_factors_crash_level_3                                50 non-null     int64              \n",
      " 66  related_factors_crash_level_3_name                           50 non-null     object             \n",
      " 67  number_of_fatalities                                         50 non-null     int64              \n",
      " 68  number_of_drunk_drivers                                      50 non-null     int64              \n",
      " 69  timestamp_of_crash                                           50 non-null     datetime64[ns, UTC]\n",
      "dtypes: datetime64[ns, UTC](1), float64(2), int64(43), object(24)\n",
      "memory usage: 27.5+ KB\n"
     ]
    }
   ],
   "source": [
    "table_accident_2015_df.info()"
   ]
  },
  {
   "cell_type": "code",
   "execution_count": 47,
   "id": "e060f025",
   "metadata": {
    "execution": {
     "iopub.execute_input": "2022-10-21T17:56:33.217671Z",
     "iopub.status.busy": "2022-10-21T17:56:33.217335Z",
     "iopub.status.idle": "2022-10-21T17:56:33.222386Z",
     "shell.execute_reply": "2022-10-21T17:56:33.221232Z"
    },
    "papermill": {
     "duration": 0.024871,
     "end_time": "2022-10-21T17:56:33.225000",
     "exception": false,
     "start_time": "2022-10-21T17:56:33.200129",
     "status": "completed"
    },
    "tags": []
   },
   "outputs": [],
   "source": [
    "#about_table_column(\"accident_2015\",\"nhtsa_traffic_fatalities\")"
   ]
  },
  {
   "cell_type": "code",
   "execution_count": 48,
   "id": "68c8c1f8",
   "metadata": {
    "execution": {
     "iopub.execute_input": "2022-10-21T17:56:33.258668Z",
     "iopub.status.busy": "2022-10-21T17:56:33.258315Z",
     "iopub.status.idle": "2022-10-21T17:56:34.497973Z",
     "shell.execute_reply": "2022-10-21T17:56:34.496689Z"
    },
    "papermill": {
     "duration": 1.259618,
     "end_time": "2022-10-21T17:56:34.500737",
     "exception": false,
     "start_time": "2022-10-21T17:56:33.241119",
     "status": "completed"
    },
    "tags": []
   },
   "outputs": [],
   "source": [
    "# total_Accident city wise\n",
    "query9 = \"\"\"\n",
    "         SELECT city,COUNT(consecutive_number) AS Total_accidents\n",
    "         FROM `bigquery-public-data.nhtsa_traffic_fatalities.accident_2015`\n",
    "         GROUP BY city\n",
    "         HAVING Total_accidents>100\n",
    "         ORDER BY Total_accidents\n",
    "         #limit 5\n",
    "         \"\"\"\n",
    "# limit peocess data to be 1GB\n",
    "limit_config = bigquery.QueryJobConfig(maximum_bytes_billed=10**9)\n",
    "query9_job = client.query(query9,job_config=limit_config)\n",
    "# API request - fetch data\n",
    "query9_job_df = query9_job.to_dataframe()"
   ]
  },
  {
   "cell_type": "code",
   "execution_count": 49,
   "id": "78dffb56",
   "metadata": {
    "execution": {
     "iopub.execute_input": "2022-10-21T17:56:34.533275Z",
     "iopub.status.busy": "2022-10-21T17:56:34.532912Z",
     "iopub.status.idle": "2022-10-21T17:56:34.542662Z",
     "shell.execute_reply": "2022-10-21T17:56:34.541053Z"
    },
    "papermill": {
     "duration": 0.028822,
     "end_time": "2022-10-21T17:56:34.545035",
     "exception": false,
     "start_time": "2022-10-21T17:56:34.516213",
     "status": "completed"
    },
    "tags": []
   },
   "outputs": [
    {
     "data": {
      "text/html": [
       "<div>\n",
       "<style scoped>\n",
       "    .dataframe tbody tr th:only-of-type {\n",
       "        vertical-align: middle;\n",
       "    }\n",
       "\n",
       "    .dataframe tbody tr th {\n",
       "        vertical-align: top;\n",
       "    }\n",
       "\n",
       "    .dataframe thead th {\n",
       "        text-align: right;\n",
       "    }\n",
       "</style>\n",
       "<table border=\"1\" class=\"dataframe\">\n",
       "  <thead>\n",
       "    <tr style=\"text-align: right;\">\n",
       "      <th></th>\n",
       "      <th>city</th>\n",
       "      <th>Total_accidents</th>\n",
       "    </tr>\n",
       "  </thead>\n",
       "  <tbody>\n",
       "    <tr>\n",
       "      <th>0</th>\n",
       "      <td>3260</td>\n",
       "      <td>101</td>\n",
       "    </tr>\n",
       "    <tr>\n",
       "      <th>1</th>\n",
       "      <td>1620</td>\n",
       "      <td>106</td>\n",
       "    </tr>\n",
       "    <tr>\n",
       "      <th>2</th>\n",
       "      <td>2090</td>\n",
       "      <td>107</td>\n",
       "    </tr>\n",
       "    <tr>\n",
       "      <th>3</th>\n",
       "      <td>330</td>\n",
       "      <td>128</td>\n",
       "    </tr>\n",
       "    <tr>\n",
       "      <th>4</th>\n",
       "      <td>1260</td>\n",
       "      <td>131</td>\n",
       "    </tr>\n",
       "  </tbody>\n",
       "</table>\n",
       "</div>"
      ],
      "text/plain": [
       "   city  Total_accidents\n",
       "0  3260              101\n",
       "1  1620              106\n",
       "2  2090              107\n",
       "3   330              128\n",
       "4  1260              131"
      ]
     },
     "execution_count": 49,
     "metadata": {},
     "output_type": "execute_result"
    }
   ],
   "source": [
    "query9_job_df.head()"
   ]
  },
  {
   "cell_type": "code",
   "execution_count": 50,
   "id": "af94c759",
   "metadata": {
    "execution": {
     "iopub.execute_input": "2022-10-21T17:56:34.579464Z",
     "iopub.status.busy": "2022-10-21T17:56:34.578303Z",
     "iopub.status.idle": "2022-10-21T17:56:35.860208Z",
     "shell.execute_reply": "2022-10-21T17:56:35.859550Z"
    },
    "papermill": {
     "duration": 1.301484,
     "end_time": "2022-10-21T17:56:35.862176",
     "exception": false,
     "start_time": "2022-10-21T17:56:34.560692",
     "status": "completed"
    },
    "tags": []
   },
   "outputs": [],
   "source": [
    "# total_accident month wise\n",
    "query10 = \"\"\"\n",
    "         SELECT COUNT(consecutive_number) AS Total_accidents,\n",
    "         EXTRACT(MONTH  from timestamp_of_crash) AS month_of_year2015\n",
    "         FROM `bigquery-public-data.nhtsa_traffic_fatalities.accident_2015`\n",
    "         GROUP BY month_of_year2015\n",
    "         ORDER BY Total_accidents DESC\n",
    "         \"\"\"\n",
    "# limit peocess data to be 1GB\n",
    "limit_config = bigquery.QueryJobConfig(maximum_bytes_billed=10**9)\n",
    "query10_job = client.query(query10,job_config=limit_config)\n",
    "# API request - fetch data\n",
    "query10_job_df = query10_job.to_dataframe()"
   ]
  },
  {
   "cell_type": "code",
   "execution_count": 51,
   "id": "28df64b3",
   "metadata": {
    "execution": {
     "iopub.execute_input": "2022-10-21T17:56:35.896679Z",
     "iopub.status.busy": "2022-10-21T17:56:35.896354Z",
     "iopub.status.idle": "2022-10-21T17:56:35.905551Z",
     "shell.execute_reply": "2022-10-21T17:56:35.904436Z"
    },
    "papermill": {
     "duration": 0.028334,
     "end_time": "2022-10-21T17:56:35.907544",
     "exception": false,
     "start_time": "2022-10-21T17:56:35.879210",
     "status": "completed"
    },
    "tags": []
   },
   "outputs": [
    {
     "data": {
      "text/html": [
       "<div>\n",
       "<style scoped>\n",
       "    .dataframe tbody tr th:only-of-type {\n",
       "        vertical-align: middle;\n",
       "    }\n",
       "\n",
       "    .dataframe tbody tr th {\n",
       "        vertical-align: top;\n",
       "    }\n",
       "\n",
       "    .dataframe thead th {\n",
       "        text-align: right;\n",
       "    }\n",
       "</style>\n",
       "<table border=\"1\" class=\"dataframe\">\n",
       "  <thead>\n",
       "    <tr style=\"text-align: right;\">\n",
       "      <th></th>\n",
       "      <th>Total_accidents</th>\n",
       "      <th>month_of_year2015</th>\n",
       "    </tr>\n",
       "  </thead>\n",
       "  <tbody>\n",
       "    <tr>\n",
       "      <th>0</th>\n",
       "      <td>3070</td>\n",
       "      <td>10</td>\n",
       "    </tr>\n",
       "    <tr>\n",
       "      <th>1</th>\n",
       "      <td>3049</td>\n",
       "      <td>8</td>\n",
       "    </tr>\n",
       "    <tr>\n",
       "      <th>2</th>\n",
       "      <td>3021</td>\n",
       "      <td>7</td>\n",
       "    </tr>\n",
       "    <tr>\n",
       "      <th>3</th>\n",
       "      <td>2904</td>\n",
       "      <td>9</td>\n",
       "    </tr>\n",
       "    <tr>\n",
       "      <th>4</th>\n",
       "      <td>2869</td>\n",
       "      <td>5</td>\n",
       "    </tr>\n",
       "    <tr>\n",
       "      <th>5</th>\n",
       "      <td>2861</td>\n",
       "      <td>12</td>\n",
       "    </tr>\n",
       "    <tr>\n",
       "      <th>6</th>\n",
       "      <td>2790</td>\n",
       "      <td>6</td>\n",
       "    </tr>\n",
       "    <tr>\n",
       "      <th>7</th>\n",
       "      <td>2780</td>\n",
       "      <td>11</td>\n",
       "    </tr>\n",
       "    <tr>\n",
       "      <th>8</th>\n",
       "      <td>2439</td>\n",
       "      <td>4</td>\n",
       "    </tr>\n",
       "    <tr>\n",
       "      <th>9</th>\n",
       "      <td>2401</td>\n",
       "      <td>3</td>\n",
       "    </tr>\n",
       "    <tr>\n",
       "      <th>10</th>\n",
       "      <td>2371</td>\n",
       "      <td>1</td>\n",
       "    </tr>\n",
       "    <tr>\n",
       "      <th>11</th>\n",
       "      <td>1983</td>\n",
       "      <td>2</td>\n",
       "    </tr>\n",
       "  </tbody>\n",
       "</table>\n",
       "</div>"
      ],
      "text/plain": [
       "    Total_accidents  month_of_year2015\n",
       "0              3070                 10\n",
       "1              3049                  8\n",
       "2              3021                  7\n",
       "3              2904                  9\n",
       "4              2869                  5\n",
       "5              2861                 12\n",
       "6              2790                  6\n",
       "7              2780                 11\n",
       "8              2439                  4\n",
       "9              2401                  3\n",
       "10             2371                  1\n",
       "11             1983                  2"
      ]
     },
     "execution_count": 51,
     "metadata": {},
     "output_type": "execute_result"
    }
   ],
   "source": [
    "query10_job_df"
   ]
  },
  {
   "cell_type": "markdown",
   "id": "75be3a42",
   "metadata": {
    "papermill": {
     "duration": 0.01587,
     "end_time": "2022-10-21T17:56:35.939938",
     "exception": false,
     "start_time": "2022-10-21T17:56:35.924068",
     "status": "completed"
    },
    "tags": []
   },
   "source": [
    "# **4) As & With**\n",
    "**Organize your query for better readability. This becomes especially important for complex queries.**"
   ]
  },
  {
   "cell_type": "code",
   "execution_count": 52,
   "id": "4c4f0a4a",
   "metadata": {
    "execution": {
     "iopub.execute_input": "2022-10-21T17:56:35.974646Z",
     "iopub.status.busy": "2022-10-21T17:56:35.973409Z",
     "iopub.status.idle": "2022-10-21T17:56:36.392874Z",
     "shell.execute_reply": "2022-10-21T17:56:36.391445Z"
    },
    "papermill": {
     "duration": 0.439723,
     "end_time": "2022-10-21T17:56:36.395933",
     "exception": false,
     "start_time": "2022-10-21T17:56:35.956210",
     "status": "completed"
    },
    "tags": []
   },
   "outputs": [
    {
     "name": "stdout",
     "output_type": "stream",
     "text": [
      "Using Kaggle's public dataset BigQuery integration.\n",
      "\n"
     ]
    }
   ],
   "source": [
    "about_dataset(\"crypto_bitcoin\")"
   ]
  },
  {
   "cell_type": "code",
   "execution_count": 53,
   "id": "96a933cd",
   "metadata": {
    "execution": {
     "iopub.execute_input": "2022-10-21T17:56:36.438751Z",
     "iopub.status.busy": "2022-10-21T17:56:36.437982Z",
     "iopub.status.idle": "2022-10-21T17:56:37.049879Z",
     "shell.execute_reply": "2022-10-21T17:56:37.048014Z"
    },
    "papermill": {
     "duration": 0.636271,
     "end_time": "2022-10-21T17:56:37.053875",
     "exception": false,
     "start_time": "2022-10-21T17:56:36.417604",
     "status": "completed"
    },
    "tags": []
   },
   "outputs": [
    {
     "name": "stdout",
     "output_type": "stream",
     "text": [
      "Using Kaggle's public dataset BigQuery integration.\n",
      "table_name_id in crypto_bitcoin dataset\n",
      "\n",
      "table_name_id : blocks\n",
      "table_name_id : inputs\n",
      "table_name_id : outputs\n",
      "table_name_id : transactions\n"
     ]
    }
   ],
   "source": [
    "list_table_id(\"crypto_bitcoin\")"
   ]
  },
  {
   "cell_type": "code",
   "execution_count": 54,
   "id": "401f3c30",
   "metadata": {
    "execution": {
     "iopub.execute_input": "2022-10-21T17:56:37.087625Z",
     "iopub.status.busy": "2022-10-21T17:56:37.087274Z",
     "iopub.status.idle": "2022-10-21T17:56:37.939999Z",
     "shell.execute_reply": "2022-10-21T17:56:37.939201Z"
    },
    "papermill": {
     "duration": 0.871503,
     "end_time": "2022-10-21T17:56:37.941750",
     "exception": false,
     "start_time": "2022-10-21T17:56:37.070247",
     "status": "completed"
    },
    "tags": []
   },
   "outputs": [
    {
     "name": "stdout",
     "output_type": "stream",
     "text": [
      "Using Kaggle's public dataset BigQuery integration.\n",
      "All transactions.\n",
      "Data is exported using https://github.com/blockchain-etl/bitcoin-etl\n",
      "\n"
     ]
    }
   ],
   "source": [
    "about_table(\"transactions\",\"crypto_bitcoin\")"
   ]
  },
  {
   "cell_type": "code",
   "execution_count": 55,
   "id": "efebd97a",
   "metadata": {
    "execution": {
     "iopub.execute_input": "2022-10-21T17:56:37.975371Z",
     "iopub.status.busy": "2022-10-21T17:56:37.975030Z",
     "iopub.status.idle": "2022-10-21T17:56:37.979620Z",
     "shell.execute_reply": "2022-10-21T17:56:37.978140Z"
    },
    "papermill": {
     "duration": 0.023724,
     "end_time": "2022-10-21T17:56:37.981660",
     "exception": false,
     "start_time": "2022-10-21T17:56:37.957936",
     "status": "completed"
    },
    "tags": []
   },
   "outputs": [],
   "source": [
    "#about_column_oftable(\"transactions\",\"crypto_bitcoin\")"
   ]
  },
  {
   "cell_type": "code",
   "execution_count": 56,
   "id": "60726bce",
   "metadata": {
    "execution": {
     "iopub.execute_input": "2022-10-21T17:56:38.017194Z",
     "iopub.status.busy": "2022-10-21T17:56:38.016870Z",
     "iopub.status.idle": "2022-10-21T17:56:39.858041Z",
     "shell.execute_reply": "2022-10-21T17:56:39.857075Z"
    },
    "papermill": {
     "duration": 1.861587,
     "end_time": "2022-10-21T17:56:39.860243",
     "exception": false,
     "start_time": "2022-10-21T17:56:37.998656",
     "status": "completed"
    },
    "tags": []
   },
   "outputs": [
    {
     "name": "stdout",
     "output_type": "stream",
     "text": [
      "Using Kaggle's public dataset BigQuery integration.\n"
     ]
    }
   ],
   "source": [
    "table = fetch_table(\"transactions\",\"crypto_bitcoin\")\n",
    "table_df = client.list_rows(table,max_results=500).to_dataframe()"
   ]
  },
  {
   "cell_type": "code",
   "execution_count": 57,
   "id": "ca243482",
   "metadata": {
    "execution": {
     "iopub.execute_input": "2022-10-21T17:56:39.894408Z",
     "iopub.status.busy": "2022-10-21T17:56:39.893921Z",
     "iopub.status.idle": "2022-10-21T17:56:39.912803Z",
     "shell.execute_reply": "2022-10-21T17:56:39.911884Z"
    },
    "papermill": {
     "duration": 0.038055,
     "end_time": "2022-10-21T17:56:39.914421",
     "exception": false,
     "start_time": "2022-10-21T17:56:39.876366",
     "status": "completed"
    },
    "tags": []
   },
   "outputs": [
    {
     "data": {
      "text/html": [
       "<div>\n",
       "<style scoped>\n",
       "    .dataframe tbody tr th:only-of-type {\n",
       "        vertical-align: middle;\n",
       "    }\n",
       "\n",
       "    .dataframe tbody tr th {\n",
       "        vertical-align: top;\n",
       "    }\n",
       "\n",
       "    .dataframe thead th {\n",
       "        text-align: right;\n",
       "    }\n",
       "</style>\n",
       "<table border=\"1\" class=\"dataframe\">\n",
       "  <thead>\n",
       "    <tr style=\"text-align: right;\">\n",
       "      <th></th>\n",
       "      <th>hash</th>\n",
       "      <th>size</th>\n",
       "      <th>virtual_size</th>\n",
       "      <th>version</th>\n",
       "      <th>lock_time</th>\n",
       "      <th>block_hash</th>\n",
       "      <th>block_number</th>\n",
       "      <th>block_timestamp</th>\n",
       "      <th>block_timestamp_month</th>\n",
       "      <th>input_count</th>\n",
       "      <th>output_count</th>\n",
       "      <th>input_value</th>\n",
       "      <th>output_value</th>\n",
       "      <th>is_coinbase</th>\n",
       "      <th>fee</th>\n",
       "      <th>inputs</th>\n",
       "      <th>outputs</th>\n",
       "    </tr>\n",
       "  </thead>\n",
       "  <tbody>\n",
       "    <tr>\n",
       "      <th>0</th>\n",
       "      <td>a16f3ce4dd5deb92d98ef5cf8afeaf0775ebca408f708b...</td>\n",
       "      <td>275</td>\n",
       "      <td>275</td>\n",
       "      <td>1</td>\n",
       "      <td>0</td>\n",
       "      <td>00000000dc55860c8a29c58d45209318fa9e9dc2c1833a...</td>\n",
       "      <td>181</td>\n",
       "      <td>2009-01-12 06:02:13+00:00</td>\n",
       "      <td>2009-01-01</td>\n",
       "      <td>1</td>\n",
       "      <td>2</td>\n",
       "      <td>4000000000.000000000</td>\n",
       "      <td>4000000000.000000000</td>\n",
       "      <td>False</td>\n",
       "      <td>0E-9</td>\n",
       "      <td>[{'index': 0, 'spent_transaction_hash': 'f4184...</td>\n",
       "      <td>[{'index': 0, 'script_asm': '04b5abd412d4341b4...</td>\n",
       "    </tr>\n",
       "    <tr>\n",
       "      <th>1</th>\n",
       "      <td>591e91f809d716912ca1d4a9295e70c3e78bab077683f7...</td>\n",
       "      <td>275</td>\n",
       "      <td>275</td>\n",
       "      <td>1</td>\n",
       "      <td>0</td>\n",
       "      <td>0000000054487811fc4ff7a95be738aa5ad9320c394c48...</td>\n",
       "      <td>182</td>\n",
       "      <td>2009-01-12 06:12:16+00:00</td>\n",
       "      <td>2009-01-01</td>\n",
       "      <td>1</td>\n",
       "      <td>2</td>\n",
       "      <td>3000000000.000000000</td>\n",
       "      <td>3000000000.000000000</td>\n",
       "      <td>False</td>\n",
       "      <td>0E-9</td>\n",
       "      <td>[{'index': 0, 'spent_transaction_hash': 'a16f3...</td>\n",
       "      <td>[{'index': 0, 'script_asm': '0401518fa1d1e1e3e...</td>\n",
       "    </tr>\n",
       "  </tbody>\n",
       "</table>\n",
       "</div>"
      ],
      "text/plain": [
       "                                                hash  size  virtual_size  \\\n",
       "0  a16f3ce4dd5deb92d98ef5cf8afeaf0775ebca408f708b...   275           275   \n",
       "1  591e91f809d716912ca1d4a9295e70c3e78bab077683f7...   275           275   \n",
       "\n",
       "   version  lock_time                                         block_hash  \\\n",
       "0        1          0  00000000dc55860c8a29c58d45209318fa9e9dc2c1833a...   \n",
       "1        1          0  0000000054487811fc4ff7a95be738aa5ad9320c394c48...   \n",
       "\n",
       "   block_number           block_timestamp block_timestamp_month  input_count  \\\n",
       "0           181 2009-01-12 06:02:13+00:00            2009-01-01            1   \n",
       "1           182 2009-01-12 06:12:16+00:00            2009-01-01            1   \n",
       "\n",
       "   output_count           input_value          output_value  is_coinbase  \\\n",
       "0             2  4000000000.000000000  4000000000.000000000        False   \n",
       "1             2  3000000000.000000000  3000000000.000000000        False   \n",
       "\n",
       "    fee                                             inputs  \\\n",
       "0  0E-9  [{'index': 0, 'spent_transaction_hash': 'f4184...   \n",
       "1  0E-9  [{'index': 0, 'spent_transaction_hash': 'a16f3...   \n",
       "\n",
       "                                             outputs  \n",
       "0  [{'index': 0, 'script_asm': '04b5abd412d4341b4...  \n",
       "1  [{'index': 0, 'script_asm': '0401518fa1d1e1e3e...  "
      ]
     },
     "execution_count": 57,
     "metadata": {},
     "output_type": "execute_result"
    }
   ],
   "source": [
    "table_df.head(2)"
   ]
  },
  {
   "cell_type": "markdown",
   "id": "1d6889c1",
   "metadata": {
    "papermill": {
     "duration": 0.016901,
     "end_time": "2022-10-21T17:56:39.948365",
     "exception": false,
     "start_time": "2022-10-21T17:56:39.931464",
     "status": "completed"
    },
    "tags": []
   },
   "source": [
    "## **5) Joining Data**\n",
    "**Combine data sources. Critical for almost all real-world data problems**"
   ]
  }
 ],
 "metadata": {
  "kernelspec": {
   "display_name": "Python 3",
   "language": "python",
   "name": "python3"
  },
  "language_info": {
   "codemirror_mode": {
    "name": "ipython",
    "version": 3
   },
   "file_extension": ".py",
   "mimetype": "text/x-python",
   "name": "python",
   "nbconvert_exporter": "python",
   "pygments_lexer": "ipython3",
   "version": "3.7.12"
  },
  "papermill": {
   "default_parameters": {},
   "duration": 191.270048,
   "end_time": "2022-10-21T17:56:40.584738",
   "environment_variables": {},
   "exception": null,
   "input_path": "__notebook__.ipynb",
   "output_path": "__notebook__.ipynb",
   "parameters": {},
   "start_time": "2022-10-21T17:53:29.314690",
   "version": "2.3.4"
  }
 },
 "nbformat": 4,
 "nbformat_minor": 5
}
