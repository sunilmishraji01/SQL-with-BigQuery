{
 "cells": [
  {
   "cell_type": "code",
   "execution_count": 1,
   "id": "9c22f8b9",
   "metadata": {
    "_cell_guid": "b1076dfc-b9ad-4769-8c92-a6c4dae69d19",
    "_uuid": "8f2839f25d086af736a60e9eeb907d3b93b6e0e5",
    "execution": {
     "iopub.execute_input": "2022-10-21T08:33:37.306860Z",
     "iopub.status.busy": "2022-10-21T08:33:37.306358Z",
     "iopub.status.idle": "2022-10-21T08:33:37.318528Z",
     "shell.execute_reply": "2022-10-21T08:33:37.317237Z"
    },
    "papermill": {
     "duration": 0.026038,
     "end_time": "2022-10-21T08:33:37.321337",
     "exception": false,
     "start_time": "2022-10-21T08:33:37.295299",
     "status": "completed"
    },
    "tags": []
   },
   "outputs": [],
   "source": [
    "import numpy as np\n",
    "import pandas as pd\n",
    "import warnings\n",
    "warnings.filterwarnings(\"ignore\")\n",
    "\n",
    "from google.cloud import bigquery"
   ]
  },
  {
   "cell_type": "markdown",
   "id": "1140fd5e",
   "metadata": {
    "papermill": {
     "duration": 0.007891,
     "end_time": "2022-10-21T08:33:37.337854",
     "exception": false,
     "start_time": "2022-10-21T08:33:37.329963",
     "status": "completed"
    },
    "tags": []
   },
   "source": [
    "# **BigQuery**"
   ]
  },
  {
   "cell_type": "code",
   "execution_count": 2,
   "id": "1c956e2c",
   "metadata": {
    "execution": {
     "iopub.execute_input": "2022-10-21T08:33:37.356089Z",
     "iopub.status.busy": "2022-10-21T08:33:37.355530Z",
     "iopub.status.idle": "2022-10-21T08:33:37.368139Z",
     "shell.execute_reply": "2022-10-21T08:33:37.365966Z"
    },
    "papermill": {
     "duration": 0.024996,
     "end_time": "2022-10-21T08:33:37.371007",
     "exception": false,
     "start_time": "2022-10-21T08:33:37.346011",
     "status": "completed"
    },
    "tags": []
   },
   "outputs": [
    {
     "name": "stdout",
     "output_type": "stream",
     "text": [
      "Using Kaggle's public dataset BigQuery integration.\n"
     ]
    },
    {
     "data": {
      "text/plain": [
       "'2.2.0'"
      ]
     },
     "execution_count": 2,
     "metadata": {},
     "output_type": "execute_result"
    }
   ],
   "source": [
    "# client object\n",
    "client = bigquery.Client()\n",
    "\n",
    "# version\n",
    "bigquery.__version__"
   ]
  },
  {
   "cell_type": "code",
   "execution_count": 3,
   "id": "32a9ae21",
   "metadata": {
    "execution": {
     "iopub.execute_input": "2022-10-21T08:33:37.390875Z",
     "iopub.status.busy": "2022-10-21T08:33:37.390445Z",
     "iopub.status.idle": "2022-10-21T08:33:37.405231Z",
     "shell.execute_reply": "2022-10-21T08:33:37.404051Z"
    },
    "papermill": {
     "duration": 0.027764,
     "end_time": "2022-10-21T08:33:37.407603",
     "exception": false,
     "start_time": "2022-10-21T08:33:37.379839",
     "status": "completed"
    },
    "tags": []
   },
   "outputs": [],
   "source": [
    "def about_dataset(dataset_id, project_id=\"bigquery-public-data\"):\n",
    "    \"\"\"\n",
    "    Description of any dataset in BigQuery.\n",
    "    \n",
    "    dataset_id > typr(str)\n",
    "    project_id > type(str)\n",
    "    \"\"\"\n",
    "    # client object\n",
    "    client = bigquery.Client()\n",
    "    # refrence for dataset\n",
    "    dataset_ref = client.dataset(dataset_id,project= project_id)\n",
    "    # Api request - fetch the dataset:\n",
    "    dataset = client.get_dataset(dataset_ref)\n",
    "    # about dataset\n",
    "    print(dataset.description)\n",
    "    \n",
    "\n",
    "def list_table_id(dataset_id, project_id=\"bigquery-public-data\"):\n",
    "    \"\"\"\n",
    "    Return list of table_id in dataset.\n",
    "    \n",
    "    dataset_id > typr(str)\n",
    "    project_id > type(str)\n",
    "    \"\"\"\n",
    "    # client object\n",
    "    client = bigquery.Client()\n",
    "    # refrence for dataset\n",
    "    dataset_ref = client.dataset(dataset_id,project= project_id)\n",
    "    # Api request - fetch the dataset:\n",
    "    dataset = client.get_dataset(dataset_ref)\n",
    "    tables = client.list_tables(dataset)\n",
    "    print(f\"table_name_id in {dataset_id} dataset\\n\")\n",
    "    for table in tables:\n",
    "        print(f\"table_name_id : {table.table_id}\")\n",
    "\n",
    "def about_table(table_id,dataset_id, project_id=\"bigquery-public-data\"):\n",
    "    \"\"\"\n",
    "    Description of table of dataset.\n",
    "    \n",
    "    dataset_id > typr(str)\n",
    "    project_id > type(str)\n",
    "    table_id   >   type(str)\n",
    "    \"\"\"\n",
    "    # client object\n",
    "    client = bigquery.Client()\n",
    "    # refrence for dataset\n",
    "    dataset_ref = client.dataset(dataset_id,project= project_id)\n",
    "    # Api request - fetch the dataset:\n",
    "    dataset = client.get_dataset(dataset_ref)\n",
    "    \n",
    "    table_ref = dataset_ref.table(table_id)\n",
    "    # API -reguest - fetch the table :\n",
    "    table = client.get_table(table_ref)\n",
    "    # about table :\n",
    "    print(table.description)\n",
    "\n",
    "def about_table_column(table_id,dataset_id, project_id=\"bigquery-public-data\"):\n",
    "    \"\"\"\n",
    "    Description about column(field) of any table of dataset.\n",
    "    Each `SchemaField` tells us about all tha column(field) name,type,mode & description in table.\n",
    "    \n",
    "    dataset_id > typr(str)\n",
    "    project_id > type(str)\n",
    "    table_id   > type(str)\n",
    "    \"\"\"\n",
    "    # client object\n",
    "    client = bigquery.Client()\n",
    "    # refrence for dataset\n",
    "    dataset_ref = client.dataset(dataset_id,project= project_id)\n",
    "    # Api request - fetch the dataset:\n",
    "    dataset = client.get_dataset(dataset_ref)\n",
    "    \n",
    "    table_ref = dataset_ref.table(table_id)\n",
    "    # API -reguest - fetch the table :\n",
    "    table = client.get_table(table_ref)\n",
    "    # about column of table :\n",
    "    return table.schema\n",
    "    \n",
    "\n",
    "def fetch_table(table_id,dataset_id, project_id=\"bigquery-public-data\"):\n",
    "    \"\"\"\n",
    "    fetch tables of dataset\n",
    "    \n",
    "    dataset_id > typr(str)\n",
    "    project_id > type(str)\n",
    "    table_id   > type(str)\n",
    "    \"\"\"\n",
    "    client = bigquery.Client()\n",
    "    dataset_ref = client.dataset(dataset_id, project = project_id)\n",
    "    dataset = client.get_dataset(dataset_ref)\n",
    "    table_ref = dataset_ref.table(table_id)\n",
    "    table = client.get_table(table_ref)\n",
    "    return table"
   ]
  },
  {
   "cell_type": "code",
   "execution_count": 4,
   "id": "5038ddd6",
   "metadata": {
    "execution": {
     "iopub.execute_input": "2022-10-21T08:33:37.426308Z",
     "iopub.status.busy": "2022-10-21T08:33:37.425895Z",
     "iopub.status.idle": "2022-10-21T08:33:37.772289Z",
     "shell.execute_reply": "2022-10-21T08:33:37.770587Z"
    },
    "papermill": {
     "duration": 0.360167,
     "end_time": "2022-10-21T08:33:37.776133",
     "exception": false,
     "start_time": "2022-10-21T08:33:37.415966",
     "status": "completed"
    },
    "tags": []
   },
   "outputs": [
    {
     "name": "stdout",
     "output_type": "stream",
     "text": [
      "Using Kaggle's public dataset BigQuery integration.\n",
      "OpenAQ is an open-source project to surface live, real-time air quality data from around the world. Their “mission is to enable previously impossible science, impact policy and empower the public to fight air pollution.” The data includes air quality measurements from 5490 locations in 47 countries.\n",
      "\n",
      "Scientists, researchers, developers, and citizens can use this data to understand the quality of air near them currently. The dataset only includes the most current measurement available for the location (no historical data). \n",
      "\n",
      "Dataset Source: openaq.org\n",
      "\n",
      "Category: Science\n",
      "\n",
      "Use: This dataset is publicly available for anyone to use under the following terms provided by the Dataset Source — https://openaq.org/#/about?_k=s3aspo — and is provided \"AS IS\" without any warranty, express or implied, from Google. Google disclaims all liability for any damages, direct or indirect, resulting from the use of the dataset. \n",
      "\n",
      "Update Frequency: Hourly\n"
     ]
    }
   ],
   "source": [
    "about_dataset(\"openaq\")"
   ]
  },
  {
   "cell_type": "code",
   "execution_count": 5,
   "id": "10e6a360",
   "metadata": {
    "execution": {
     "iopub.execute_input": "2022-10-21T08:33:37.798379Z",
     "iopub.status.busy": "2022-10-21T08:33:37.797970Z",
     "iopub.status.idle": "2022-10-21T08:33:38.407495Z",
     "shell.execute_reply": "2022-10-21T08:33:38.406078Z"
    },
    "papermill": {
     "duration": 0.623223,
     "end_time": "2022-10-21T08:33:38.410389",
     "exception": false,
     "start_time": "2022-10-21T08:33:37.787166",
     "status": "completed"
    },
    "tags": []
   },
   "outputs": [
    {
     "name": "stdout",
     "output_type": "stream",
     "text": [
      "Using Kaggle's public dataset BigQuery integration.\n",
      "table_name_id in openaq dataset\n",
      "\n",
      "table_name_id : global_air_quality\n"
     ]
    }
   ],
   "source": [
    "list_table_id(\"openaq\")"
   ]
  },
  {
   "cell_type": "code",
   "execution_count": 6,
   "id": "a3cf7eb4",
   "metadata": {
    "execution": {
     "iopub.execute_input": "2022-10-21T08:33:38.430198Z",
     "iopub.status.busy": "2022-10-21T08:33:38.429720Z",
     "iopub.status.idle": "2022-10-21T08:33:39.016429Z",
     "shell.execute_reply": "2022-10-21T08:33:39.015310Z"
    },
    "papermill": {
     "duration": 0.599604,
     "end_time": "2022-10-21T08:33:39.019269",
     "exception": false,
     "start_time": "2022-10-21T08:33:38.419665",
     "status": "completed"
    },
    "scrolled": true,
    "tags": []
   },
   "outputs": [
    {
     "name": "stdout",
     "output_type": "stream",
     "text": [
      "Using Kaggle's public dataset BigQuery integration.\n",
      "None\n"
     ]
    }
   ],
   "source": [
    "about_table(\"global_air_quality\",\"openaq\")"
   ]
  },
  {
   "cell_type": "code",
   "execution_count": 7,
   "id": "36a15d90",
   "metadata": {
    "execution": {
     "iopub.execute_input": "2022-10-21T08:33:39.039517Z",
     "iopub.status.busy": "2022-10-21T08:33:39.038433Z",
     "iopub.status.idle": "2022-10-21T08:33:39.616155Z",
     "shell.execute_reply": "2022-10-21T08:33:39.614892Z"
    },
    "papermill": {
     "duration": 0.591199,
     "end_time": "2022-10-21T08:33:39.619416",
     "exception": false,
     "start_time": "2022-10-21T08:33:39.028217",
     "status": "completed"
    },
    "tags": []
   },
   "outputs": [
    {
     "name": "stdout",
     "output_type": "stream",
     "text": [
      "Using Kaggle's public dataset BigQuery integration.\n"
     ]
    },
    {
     "data": {
      "text/plain": [
       "[SchemaField('location', 'STRING', 'NULLABLE', None, (), None),\n",
       " SchemaField('city', 'STRING', 'NULLABLE', None, (), None),\n",
       " SchemaField('country', 'STRING', 'NULLABLE', None, (), None),\n",
       " SchemaField('pollutant', 'STRING', 'NULLABLE', None, (), None),\n",
       " SchemaField('value', 'FLOAT', 'NULLABLE', None, (), None),\n",
       " SchemaField('timestamp', 'TIMESTAMP', 'NULLABLE', None, (), None),\n",
       " SchemaField('unit', 'STRING', 'NULLABLE', None, (), None),\n",
       " SchemaField('source_name', 'STRING', 'NULLABLE', None, (), None),\n",
       " SchemaField('latitude', 'FLOAT', 'NULLABLE', None, (), None),\n",
       " SchemaField('longitude', 'FLOAT', 'NULLABLE', None, (), None),\n",
       " SchemaField('averaged_over_in_hours', 'FLOAT', 'NULLABLE', None, (), None),\n",
       " SchemaField('location_geom', 'GEOGRAPHY', 'NULLABLE', None, (), None)]"
      ]
     },
     "execution_count": 7,
     "metadata": {},
     "output_type": "execute_result"
    }
   ],
   "source": [
    "about_table_column(\"global_air_quality\",\"openaq\")"
   ]
  },
  {
   "cell_type": "code",
   "execution_count": 8,
   "id": "820cccaf",
   "metadata": {
    "execution": {
     "iopub.execute_input": "2022-10-21T08:33:39.641476Z",
     "iopub.status.busy": "2022-10-21T08:33:39.640613Z",
     "iopub.status.idle": "2022-10-21T08:33:40.862672Z",
     "shell.execute_reply": "2022-10-21T08:33:40.861721Z"
    },
    "papermill": {
     "duration": 1.236028,
     "end_time": "2022-10-21T08:33:40.865268",
     "exception": false,
     "start_time": "2022-10-21T08:33:39.629240",
     "status": "completed"
    },
    "tags": []
   },
   "outputs": [
    {
     "name": "stdout",
     "output_type": "stream",
     "text": [
      "Using Kaggle's public dataset BigQuery integration.\n"
     ]
    }
   ],
   "source": [
    "table = fetch_table(\"global_air_quality\",\"openaq\")\n",
    "\n",
    "# first 5 rows in \"full\" table:\n",
    "df = client.list_rows(table,max_results=500).to_dataframe()"
   ]
  },
  {
   "cell_type": "code",
   "execution_count": 9,
   "id": "9ef684e2",
   "metadata": {
    "execution": {
     "iopub.execute_input": "2022-10-21T08:33:40.886999Z",
     "iopub.status.busy": "2022-10-21T08:33:40.886265Z",
     "iopub.status.idle": "2022-10-21T08:33:40.912557Z",
     "shell.execute_reply": "2022-10-21T08:33:40.911571Z"
    },
    "papermill": {
     "duration": 0.039432,
     "end_time": "2022-10-21T08:33:40.914849",
     "exception": false,
     "start_time": "2022-10-21T08:33:40.875417",
     "status": "completed"
    },
    "tags": []
   },
   "outputs": [
    {
     "data": {
      "text/html": [
       "<div>\n",
       "<style scoped>\n",
       "    .dataframe tbody tr th:only-of-type {\n",
       "        vertical-align: middle;\n",
       "    }\n",
       "\n",
       "    .dataframe tbody tr th {\n",
       "        vertical-align: top;\n",
       "    }\n",
       "\n",
       "    .dataframe thead th {\n",
       "        text-align: right;\n",
       "    }\n",
       "</style>\n",
       "<table border=\"1\" class=\"dataframe\">\n",
       "  <thead>\n",
       "    <tr style=\"text-align: right;\">\n",
       "      <th></th>\n",
       "      <th>location</th>\n",
       "      <th>city</th>\n",
       "      <th>country</th>\n",
       "      <th>pollutant</th>\n",
       "      <th>value</th>\n",
       "      <th>timestamp</th>\n",
       "      <th>unit</th>\n",
       "      <th>source_name</th>\n",
       "      <th>latitude</th>\n",
       "      <th>longitude</th>\n",
       "      <th>averaged_over_in_hours</th>\n",
       "      <th>location_geom</th>\n",
       "    </tr>\n",
       "  </thead>\n",
       "  <tbody>\n",
       "    <tr>\n",
       "      <th>0</th>\n",
       "      <td>Borówiec, ul. Drapałka</td>\n",
       "      <td>Borówiec</td>\n",
       "      <td>PL</td>\n",
       "      <td>bc</td>\n",
       "      <td>0.85217</td>\n",
       "      <td>2022-04-28 07:00:00+00:00</td>\n",
       "      <td>µg/m³</td>\n",
       "      <td>GIOS</td>\n",
       "      <td>1.0</td>\n",
       "      <td>52.276794</td>\n",
       "      <td>17.074114</td>\n",
       "      <td>POINT(52.276794 1)</td>\n",
       "    </tr>\n",
       "    <tr>\n",
       "      <th>1</th>\n",
       "      <td>Kraków, ul. Bulwarowa</td>\n",
       "      <td>Kraków</td>\n",
       "      <td>PL</td>\n",
       "      <td>bc</td>\n",
       "      <td>0.91284</td>\n",
       "      <td>2022-04-27 23:00:00+00:00</td>\n",
       "      <td>µg/m³</td>\n",
       "      <td>GIOS</td>\n",
       "      <td>1.0</td>\n",
       "      <td>50.069308</td>\n",
       "      <td>20.053492</td>\n",
       "      <td>POINT(50.069308 1)</td>\n",
       "    </tr>\n",
       "    <tr>\n",
       "      <th>2</th>\n",
       "      <td>Płock, ul. Reja</td>\n",
       "      <td>Płock</td>\n",
       "      <td>PL</td>\n",
       "      <td>bc</td>\n",
       "      <td>1.41000</td>\n",
       "      <td>2022-03-30 04:00:00+00:00</td>\n",
       "      <td>µg/m³</td>\n",
       "      <td>GIOS</td>\n",
       "      <td>1.0</td>\n",
       "      <td>52.550938</td>\n",
       "      <td>19.709791</td>\n",
       "      <td>POINT(52.550938 1)</td>\n",
       "    </tr>\n",
       "    <tr>\n",
       "      <th>3</th>\n",
       "      <td>Elbląg, ul. Bażyńskiego</td>\n",
       "      <td>Elbląg</td>\n",
       "      <td>PL</td>\n",
       "      <td>bc</td>\n",
       "      <td>0.33607</td>\n",
       "      <td>2022-05-03 13:00:00+00:00</td>\n",
       "      <td>µg/m³</td>\n",
       "      <td>GIOS</td>\n",
       "      <td>1.0</td>\n",
       "      <td>54.167847</td>\n",
       "      <td>19.410942</td>\n",
       "      <td>POINT(54.167847 1)</td>\n",
       "    </tr>\n",
       "    <tr>\n",
       "      <th>4</th>\n",
       "      <td>Piastów, ul. Pułaskiego</td>\n",
       "      <td>Piastów</td>\n",
       "      <td>PL</td>\n",
       "      <td>bc</td>\n",
       "      <td>0.51000</td>\n",
       "      <td>2022-05-11 05:00:00+00:00</td>\n",
       "      <td>µg/m³</td>\n",
       "      <td>GIOS</td>\n",
       "      <td>1.0</td>\n",
       "      <td>52.191728</td>\n",
       "      <td>20.837489</td>\n",
       "      <td>POINT(52.191728 1)</td>\n",
       "    </tr>\n",
       "  </tbody>\n",
       "</table>\n",
       "</div>"
      ],
      "text/plain": [
       "                  location      city country pollutant    value  \\\n",
       "0   Borówiec, ul. Drapałka  Borówiec      PL        bc  0.85217   \n",
       "1    Kraków, ul. Bulwarowa    Kraków      PL        bc  0.91284   \n",
       "2          Płock, ul. Reja     Płock      PL        bc  1.41000   \n",
       "3  Elbląg, ul. Bażyńskiego    Elbląg      PL        bc  0.33607   \n",
       "4  Piastów, ul. Pułaskiego   Piastów      PL        bc  0.51000   \n",
       "\n",
       "                  timestamp   unit source_name  latitude  longitude  \\\n",
       "0 2022-04-28 07:00:00+00:00  µg/m³        GIOS       1.0  52.276794   \n",
       "1 2022-04-27 23:00:00+00:00  µg/m³        GIOS       1.0  50.069308   \n",
       "2 2022-03-30 04:00:00+00:00  µg/m³        GIOS       1.0  52.550938   \n",
       "3 2022-05-03 13:00:00+00:00  µg/m³        GIOS       1.0  54.167847   \n",
       "4 2022-05-11 05:00:00+00:00  µg/m³        GIOS       1.0  52.191728   \n",
       "\n",
       "   averaged_over_in_hours       location_geom  \n",
       "0               17.074114  POINT(52.276794 1)  \n",
       "1               20.053492  POINT(50.069308 1)  \n",
       "2               19.709791  POINT(52.550938 1)  \n",
       "3               19.410942  POINT(54.167847 1)  \n",
       "4               20.837489  POINT(52.191728 1)  "
      ]
     },
     "execution_count": 9,
     "metadata": {},
     "output_type": "execute_result"
    }
   ],
   "source": [
    "df.head()"
   ]
  },
  {
   "cell_type": "code",
   "execution_count": 10,
   "id": "71ed2133",
   "metadata": {
    "execution": {
     "iopub.execute_input": "2022-10-21T08:33:40.936318Z",
     "iopub.status.busy": "2022-10-21T08:33:40.935686Z",
     "iopub.status.idle": "2022-10-21T08:33:41.311871Z",
     "shell.execute_reply": "2022-10-21T08:33:41.310505Z"
    },
    "papermill": {
     "duration": 0.390205,
     "end_time": "2022-10-21T08:33:41.314760",
     "exception": false,
     "start_time": "2022-10-21T08:33:40.924555",
     "status": "completed"
    },
    "tags": []
   },
   "outputs": [
    {
     "data": {
      "text/html": [
       "<div>\n",
       "<style scoped>\n",
       "    .dataframe tbody tr th:only-of-type {\n",
       "        vertical-align: middle;\n",
       "    }\n",
       "\n",
       "    .dataframe tbody tr th {\n",
       "        vertical-align: top;\n",
       "    }\n",
       "\n",
       "    .dataframe thead th {\n",
       "        text-align: right;\n",
       "    }\n",
       "</style>\n",
       "<table border=\"1\" class=\"dataframe\">\n",
       "  <thead>\n",
       "    <tr style=\"text-align: right;\">\n",
       "      <th></th>\n",
       "      <th>location</th>\n",
       "    </tr>\n",
       "  </thead>\n",
       "  <tbody>\n",
       "    <tr>\n",
       "      <th>0</th>\n",
       "      <td>Borówiec, ul. Drapałka</td>\n",
       "    </tr>\n",
       "    <tr>\n",
       "      <th>1</th>\n",
       "      <td>Kraków, ul. Bulwarowa</td>\n",
       "    </tr>\n",
       "    <tr>\n",
       "      <th>2</th>\n",
       "      <td>Płock, ul. Reja</td>\n",
       "    </tr>\n",
       "    <tr>\n",
       "      <th>3</th>\n",
       "      <td>Elbląg, ul. Bażyńskiego</td>\n",
       "    </tr>\n",
       "    <tr>\n",
       "      <th>4</th>\n",
       "      <td>Piastów, ul. Pułaskiego</td>\n",
       "    </tr>\n",
       "  </tbody>\n",
       "</table>\n",
       "</div>"
      ],
      "text/plain": [
       "                  location\n",
       "0   Borówiec, ul. Drapałka\n",
       "1    Kraków, ul. Bulwarowa\n",
       "2          Płock, ul. Reja\n",
       "3  Elbląg, ul. Bażyńskiego\n",
       "4  Piastów, ul. Pułaskiego"
      ]
     },
     "execution_count": 10,
     "metadata": {},
     "output_type": "execute_result"
    }
   ],
   "source": [
    "client.list_rows(table, max_results=5,\n",
    "                 selected_fields=table.schema[:1]).to_dataframe()"
   ]
  },
  {
   "cell_type": "code",
   "execution_count": 11,
   "id": "0ec4fa87",
   "metadata": {
    "execution": {
     "iopub.execute_input": "2022-10-21T08:33:41.336463Z",
     "iopub.status.busy": "2022-10-21T08:33:41.336024Z",
     "iopub.status.idle": "2022-10-21T08:33:41.347322Z",
     "shell.execute_reply": "2022-10-21T08:33:41.346307Z"
    },
    "papermill": {
     "duration": 0.024834,
     "end_time": "2022-10-21T08:33:41.349553",
     "exception": false,
     "start_time": "2022-10-21T08:33:41.324719",
     "status": "completed"
    },
    "tags": []
   },
   "outputs": [
    {
     "data": {
      "text/plain": [
       "Kraków                  21\n",
       "Łódź                    18\n",
       "Rzeszów                 17\n",
       "Płock                   16\n",
       "Zielonka                14\n",
       "                        ..\n",
       "Czerwionka-Leszczyny     3\n",
       "Złoty Potok              3\n",
       "Nakło nad Notecią        3\n",
       "Kalisz                   3\n",
       "Kościerzyna              3\n",
       "Name: city, Length: 64, dtype: int64"
      ]
     },
     "execution_count": 11,
     "metadata": {},
     "output_type": "execute_result"
    }
   ],
   "source": [
    "df.city.value_counts()"
   ]
  },
  {
   "cell_type": "code",
   "execution_count": 12,
   "id": "29bc0f19",
   "metadata": {
    "execution": {
     "iopub.execute_input": "2022-10-21T08:33:41.371753Z",
     "iopub.status.busy": "2022-10-21T08:33:41.370857Z",
     "iopub.status.idle": "2022-10-21T08:33:41.375533Z",
     "shell.execute_reply": "2022-10-21T08:33:41.374706Z"
    },
    "papermill": {
     "duration": 0.018335,
     "end_time": "2022-10-21T08:33:41.378039",
     "exception": false,
     "start_time": "2022-10-21T08:33:41.359704",
     "status": "completed"
    },
    "tags": []
   },
   "outputs": [],
   "source": [
    "# save file\n",
    "#with open(\"openaq_gaq.csv\",\"w\") as file:\n",
    "   # file.write(df.To_csv())"
   ]
  },
  {
   "cell_type": "markdown",
   "id": "3421d507",
   "metadata": {
    "papermill": {
     "duration": 0.010023,
     "end_time": "2022-10-21T08:33:41.398489",
     "exception": false,
     "start_time": "2022-10-21T08:33:41.388466",
     "status": "completed"
    },
    "tags": []
   },
   "source": [
    "# **SQL (Structured Query Language)**\n",
    "### **1. Select, From & Where**"
   ]
  },
  {
   "cell_type": "code",
   "execution_count": 13,
   "id": "837ef859",
   "metadata": {
    "execution": {
     "iopub.execute_input": "2022-10-21T08:33:41.421427Z",
     "iopub.status.busy": "2022-10-21T08:33:41.420468Z",
     "iopub.status.idle": "2022-10-21T08:34:06.550882Z",
     "shell.execute_reply": "2022-10-21T08:34:06.549585Z"
    },
    "papermill": {
     "duration": 25.145404,
     "end_time": "2022-10-21T08:34:06.553610",
     "exception": false,
     "start_time": "2022-10-21T08:33:41.408206",
     "status": "completed"
    },
    "tags": []
   },
   "outputs": [],
   "source": [
    "query_0 = \"\"\"\n",
    "        SELECT city\n",
    "        FROM `bigquery-public-data.openaq.global_air_quality`\n",
    "        WHERE country = 'US'\n",
    "        \"\"\"\n",
    "\n",
    "query_0_job = client.query(query_0)\n",
    "# API request -fetch data\n",
    "query_0_df = query_0_job.to_dataframe()"
   ]
  },
  {
   "cell_type": "code",
   "execution_count": 14,
   "id": "a122ff88",
   "metadata": {
    "execution": {
     "iopub.execute_input": "2022-10-21T08:34:06.577110Z",
     "iopub.status.busy": "2022-10-21T08:34:06.576412Z",
     "iopub.status.idle": "2022-10-21T08:34:06.584858Z",
     "shell.execute_reply": "2022-10-21T08:34:06.583900Z"
    },
    "papermill": {
     "duration": 0.022727,
     "end_time": "2022-10-21T08:34:06.587045",
     "exception": false,
     "start_time": "2022-10-21T08:34:06.564318",
     "status": "completed"
    },
    "tags": []
   },
   "outputs": [
    {
     "data": {
      "text/html": [
       "<div>\n",
       "<style scoped>\n",
       "    .dataframe tbody tr th:only-of-type {\n",
       "        vertical-align: middle;\n",
       "    }\n",
       "\n",
       "    .dataframe tbody tr th {\n",
       "        vertical-align: top;\n",
       "    }\n",
       "\n",
       "    .dataframe thead th {\n",
       "        text-align: right;\n",
       "    }\n",
       "</style>\n",
       "<table border=\"1\" class=\"dataframe\">\n",
       "  <thead>\n",
       "    <tr style=\"text-align: right;\">\n",
       "      <th></th>\n",
       "      <th>city</th>\n",
       "    </tr>\n",
       "  </thead>\n",
       "  <tbody>\n",
       "    <tr>\n",
       "      <th>0</th>\n",
       "      <td>HOWARD</td>\n",
       "    </tr>\n",
       "    <tr>\n",
       "      <th>1</th>\n",
       "      <td>HOWARD</td>\n",
       "    </tr>\n",
       "  </tbody>\n",
       "</table>\n",
       "</div>"
      ],
      "text/plain": [
       "     city\n",
       "0  HOWARD\n",
       "1  HOWARD"
      ]
     },
     "execution_count": 14,
     "metadata": {},
     "output_type": "execute_result"
    }
   ],
   "source": [
    "query_0_df.head(2)"
   ]
  },
  {
   "cell_type": "code",
   "execution_count": 15,
   "id": "b521d458",
   "metadata": {
    "execution": {
     "iopub.execute_input": "2022-10-21T08:34:06.609352Z",
     "iopub.status.busy": "2022-10-21T08:34:06.608595Z",
     "iopub.status.idle": "2022-10-21T08:34:08.768241Z",
     "shell.execute_reply": "2022-10-21T08:34:08.766914Z"
    },
    "papermill": {
     "duration": 2.173876,
     "end_time": "2022-10-21T08:34:08.771010",
     "exception": false,
     "start_time": "2022-10-21T08:34:06.597134",
     "status": "completed"
    },
    "tags": []
   },
   "outputs": [],
   "source": [
    "# save file\n",
    "with open(\"query_0.csv\",\"w\") as file:\n",
    "    file.write(query_0_df.to_csv())"
   ]
  },
  {
   "cell_type": "code",
   "execution_count": 16,
   "id": "6660b3ed",
   "metadata": {
    "execution": {
     "iopub.execute_input": "2022-10-21T08:34:08.794002Z",
     "iopub.status.busy": "2022-10-21T08:34:08.793059Z",
     "iopub.status.idle": "2022-10-21T08:34:20.192397Z",
     "shell.execute_reply": "2022-10-21T08:34:20.190515Z"
    },
    "papermill": {
     "duration": 11.414066,
     "end_time": "2022-10-21T08:34:20.195568",
     "exception": false,
     "start_time": "2022-10-21T08:34:08.781502",
     "status": "completed"
    },
    "tags": []
   },
   "outputs": [],
   "source": [
    "query_1 = \"\"\"\n",
    "        SELECT city\n",
    "        FROM `bigquery-public-data.openaq.global_air_quality`\n",
    "        WHERE country = 'IN'\n",
    "        \"\"\"\n",
    "query_1_job = client.query(query_1)\n",
    "# API request -fetch data\n",
    "query_1_df = query_1_job.to_dataframe()"
   ]
  },
  {
   "cell_type": "code",
   "execution_count": 17,
   "id": "31b38690",
   "metadata": {
    "execution": {
     "iopub.execute_input": "2022-10-21T08:34:20.218542Z",
     "iopub.status.busy": "2022-10-21T08:34:20.217343Z",
     "iopub.status.idle": "2022-10-21T08:34:20.227959Z",
     "shell.execute_reply": "2022-10-21T08:34:20.226724Z"
    },
    "papermill": {
     "duration": 0.024455,
     "end_time": "2022-10-21T08:34:20.230497",
     "exception": false,
     "start_time": "2022-10-21T08:34:20.206042",
     "status": "completed"
    },
    "tags": []
   },
   "outputs": [
    {
     "data": {
      "text/html": [
       "<div>\n",
       "<style scoped>\n",
       "    .dataframe tbody tr th:only-of-type {\n",
       "        vertical-align: middle;\n",
       "    }\n",
       "\n",
       "    .dataframe tbody tr th {\n",
       "        vertical-align: top;\n",
       "    }\n",
       "\n",
       "    .dataframe thead th {\n",
       "        text-align: right;\n",
       "    }\n",
       "</style>\n",
       "<table border=\"1\" class=\"dataframe\">\n",
       "  <thead>\n",
       "    <tr style=\"text-align: right;\">\n",
       "      <th></th>\n",
       "      <th>city</th>\n",
       "    </tr>\n",
       "  </thead>\n",
       "  <tbody>\n",
       "    <tr>\n",
       "      <th>0</th>\n",
       "      <td>Tirupati</td>\n",
       "    </tr>\n",
       "    <tr>\n",
       "      <th>1</th>\n",
       "      <td>Indore</td>\n",
       "    </tr>\n",
       "  </tbody>\n",
       "</table>\n",
       "</div>"
      ],
      "text/plain": [
       "       city\n",
       "0  Tirupati\n",
       "1    Indore"
      ]
     },
     "execution_count": 17,
     "metadata": {},
     "output_type": "execute_result"
    }
   ],
   "source": [
    "query_1_df.head(2)"
   ]
  },
  {
   "cell_type": "code",
   "execution_count": 18,
   "id": "f6456457",
   "metadata": {
    "execution": {
     "iopub.execute_input": "2022-10-21T08:34:20.253170Z",
     "iopub.status.busy": "2022-10-21T08:34:20.252738Z",
     "iopub.status.idle": "2022-10-21T08:34:21.252195Z",
     "shell.execute_reply": "2022-10-21T08:34:21.250739Z"
    },
    "papermill": {
     "duration": 1.014406,
     "end_time": "2022-10-21T08:34:21.255354",
     "exception": false,
     "start_time": "2022-10-21T08:34:20.240948",
     "status": "completed"
    },
    "tags": []
   },
   "outputs": [],
   "source": [
    "# save file\n",
    "with open(\"query_1.csv\",\"w\") as file:\n",
    "    file.write(query_1_df.to_csv())"
   ]
  },
  {
   "cell_type": "code",
   "execution_count": 19,
   "id": "00eb93fe",
   "metadata": {
    "execution": {
     "iopub.execute_input": "2022-10-21T08:34:21.278810Z",
     "iopub.status.busy": "2022-10-21T08:34:21.278384Z",
     "iopub.status.idle": "2022-10-21T08:34:43.908313Z",
     "shell.execute_reply": "2022-10-21T08:34:43.906729Z"
    },
    "papermill": {
     "duration": 22.646045,
     "end_time": "2022-10-21T08:34:43.911807",
     "exception": false,
     "start_time": "2022-10-21T08:34:21.265762",
     "status": "completed"
    },
    "tags": []
   },
   "outputs": [],
   "source": [
    "query_2 = \"\"\" \n",
    "          SELECT city, country, value\n",
    "          FROM `bigquery-public-data.openaq.global_air_quality`\n",
    "          WHERE country = \"IN\"\n",
    "          \n",
    "          \"\"\"\n",
    "query_2_job = client.query(query_2)\n",
    "# API request -fetch data\n",
    "query_2_df = query_2_job.to_dataframe()"
   ]
  },
  {
   "cell_type": "code",
   "execution_count": 20,
   "id": "9f0f884d",
   "metadata": {
    "execution": {
     "iopub.execute_input": "2022-10-21T08:34:43.946943Z",
     "iopub.status.busy": "2022-10-21T08:34:43.946085Z",
     "iopub.status.idle": "2022-10-21T08:34:43.959162Z",
     "shell.execute_reply": "2022-10-21T08:34:43.957728Z"
    },
    "papermill": {
     "duration": 0.034372,
     "end_time": "2022-10-21T08:34:43.962900",
     "exception": false,
     "start_time": "2022-10-21T08:34:43.928528",
     "status": "completed"
    },
    "tags": []
   },
   "outputs": [
    {
     "data": {
      "text/html": [
       "<div>\n",
       "<style scoped>\n",
       "    .dataframe tbody tr th:only-of-type {\n",
       "        vertical-align: middle;\n",
       "    }\n",
       "\n",
       "    .dataframe tbody tr th {\n",
       "        vertical-align: top;\n",
       "    }\n",
       "\n",
       "    .dataframe thead th {\n",
       "        text-align: right;\n",
       "    }\n",
       "</style>\n",
       "<table border=\"1\" class=\"dataframe\">\n",
       "  <thead>\n",
       "    <tr style=\"text-align: right;\">\n",
       "      <th></th>\n",
       "      <th>city</th>\n",
       "      <th>country</th>\n",
       "      <th>value</th>\n",
       "    </tr>\n",
       "  </thead>\n",
       "  <tbody>\n",
       "    <tr>\n",
       "      <th>0</th>\n",
       "      <td>Ambala</td>\n",
       "      <td>IN</td>\n",
       "      <td>490.0</td>\n",
       "    </tr>\n",
       "    <tr>\n",
       "      <th>1</th>\n",
       "      <td>Srinagar</td>\n",
       "      <td>IN</td>\n",
       "      <td>0.0</td>\n",
       "    </tr>\n",
       "  </tbody>\n",
       "</table>\n",
       "</div>"
      ],
      "text/plain": [
       "       city country  value\n",
       "0    Ambala      IN  490.0\n",
       "1  Srinagar      IN    0.0"
      ]
     },
     "execution_count": 20,
     "metadata": {},
     "output_type": "execute_result"
    }
   ],
   "source": [
    "query_2_df.head(2)"
   ]
  },
  {
   "cell_type": "code",
   "execution_count": 21,
   "id": "ad7f5c56",
   "metadata": {
    "execution": {
     "iopub.execute_input": "2022-10-21T08:34:43.994593Z",
     "iopub.status.busy": "2022-10-21T08:34:43.994164Z",
     "iopub.status.idle": "2022-10-21T08:34:45.610170Z",
     "shell.execute_reply": "2022-10-21T08:34:45.608900Z"
    },
    "papermill": {
     "duration": 1.633307,
     "end_time": "2022-10-21T08:34:45.613085",
     "exception": false,
     "start_time": "2022-10-21T08:34:43.979778",
     "status": "completed"
    },
    "tags": []
   },
   "outputs": [],
   "source": [
    "# save file\n",
    "with open(\"query_2.csv\",\"w\") as file:\n",
    "    file.write(query_2_df.to_csv())"
   ]
  },
  {
   "cell_type": "code",
   "execution_count": 22,
   "id": "1092383d",
   "metadata": {
    "execution": {
     "iopub.execute_input": "2022-10-21T08:34:45.635761Z",
     "iopub.status.busy": "2022-10-21T08:34:45.635289Z",
     "iopub.status.idle": "2022-10-21T08:36:17.767220Z",
     "shell.execute_reply": "2022-10-21T08:36:17.766297Z"
    },
    "papermill": {
     "duration": 92.146239,
     "end_time": "2022-10-21T08:36:17.769986",
     "exception": false,
     "start_time": "2022-10-21T08:34:45.623747",
     "status": "completed"
    },
    "tags": []
   },
   "outputs": [],
   "source": [
    "query_3 = \"\"\"\n",
    "          SELECT *\n",
    "          FROM `bigquery-public-data.openaq.global_air_quality`\n",
    "          WHERE country = \"IN\"\n",
    "          \"\"\"\n",
    "query_3_job = client.query(query_3)\n",
    "# API request -fetch data\n",
    "query_3_df = query_3_job.to_dataframe()"
   ]
  },
  {
   "cell_type": "code",
   "execution_count": 23,
   "id": "0a03f324",
   "metadata": {
    "execution": {
     "iopub.execute_input": "2022-10-21T08:36:17.794165Z",
     "iopub.status.busy": "2022-10-21T08:36:17.792845Z",
     "iopub.status.idle": "2022-10-21T08:36:17.810414Z",
     "shell.execute_reply": "2022-10-21T08:36:17.809313Z"
    },
    "papermill": {
     "duration": 0.032741,
     "end_time": "2022-10-21T08:36:17.813320",
     "exception": false,
     "start_time": "2022-10-21T08:36:17.780579",
     "status": "completed"
    },
    "tags": []
   },
   "outputs": [
    {
     "data": {
      "text/html": [
       "<div>\n",
       "<style scoped>\n",
       "    .dataframe tbody tr th:only-of-type {\n",
       "        vertical-align: middle;\n",
       "    }\n",
       "\n",
       "    .dataframe tbody tr th {\n",
       "        vertical-align: top;\n",
       "    }\n",
       "\n",
       "    .dataframe thead th {\n",
       "        text-align: right;\n",
       "    }\n",
       "</style>\n",
       "<table border=\"1\" class=\"dataframe\">\n",
       "  <thead>\n",
       "    <tr style=\"text-align: right;\">\n",
       "      <th></th>\n",
       "      <th>location</th>\n",
       "      <th>city</th>\n",
       "      <th>country</th>\n",
       "      <th>pollutant</th>\n",
       "      <th>value</th>\n",
       "      <th>timestamp</th>\n",
       "      <th>unit</th>\n",
       "      <th>source_name</th>\n",
       "      <th>latitude</th>\n",
       "      <th>longitude</th>\n",
       "      <th>averaged_over_in_hours</th>\n",
       "      <th>location_geom</th>\n",
       "    </tr>\n",
       "  </thead>\n",
       "  <tbody>\n",
       "    <tr>\n",
       "      <th>0</th>\n",
       "      <td>Patti Mehar, Ambala - HSPCB</td>\n",
       "      <td>Ambala</td>\n",
       "      <td>IN</td>\n",
       "      <td>co</td>\n",
       "      <td>490.0</td>\n",
       "      <td>2022-05-15 01:45:00+00:00</td>\n",
       "      <td>µg/m³</td>\n",
       "      <td>caaqm</td>\n",
       "      <td>0.25</td>\n",
       "      <td>30.379589</td>\n",
       "      <td>76.778328</td>\n",
       "      <td>POINT(30.379589 0.25)</td>\n",
       "    </tr>\n",
       "    <tr>\n",
       "      <th>1</th>\n",
       "      <td>Rajbagh, Srinagar - JKSPCB</td>\n",
       "      <td>Srinagar</td>\n",
       "      <td>IN</td>\n",
       "      <td>co</td>\n",
       "      <td>0.0</td>\n",
       "      <td>2022-05-04 15:15:00+00:00</td>\n",
       "      <td>µg/m³</td>\n",
       "      <td>caaqm</td>\n",
       "      <td>0.25</td>\n",
       "      <td>34.066206</td>\n",
       "      <td>74.819820</td>\n",
       "      <td>POINT(34.066206 0.25)</td>\n",
       "    </tr>\n",
       "  </tbody>\n",
       "</table>\n",
       "</div>"
      ],
      "text/plain": [
       "                      location      city country pollutant  value  \\\n",
       "0  Patti Mehar, Ambala - HSPCB    Ambala      IN        co  490.0   \n",
       "1   Rajbagh, Srinagar - JKSPCB  Srinagar      IN        co    0.0   \n",
       "\n",
       "                  timestamp   unit source_name  latitude  longitude  \\\n",
       "0 2022-05-15 01:45:00+00:00  µg/m³       caaqm      0.25  30.379589   \n",
       "1 2022-05-04 15:15:00+00:00  µg/m³       caaqm      0.25  34.066206   \n",
       "\n",
       "   averaged_over_in_hours          location_geom  \n",
       "0               76.778328  POINT(30.379589 0.25)  \n",
       "1               74.819820  POINT(34.066206 0.25)  "
      ]
     },
     "execution_count": 23,
     "metadata": {},
     "output_type": "execute_result"
    }
   ],
   "source": [
    "query_3_df.head(2)"
   ]
  },
  {
   "cell_type": "code",
   "execution_count": 24,
   "id": "f3178b02",
   "metadata": {
    "execution": {
     "iopub.execute_input": "2022-10-21T08:36:17.837284Z",
     "iopub.status.busy": "2022-10-21T08:36:17.836844Z",
     "iopub.status.idle": "2022-10-21T08:36:27.454081Z",
     "shell.execute_reply": "2022-10-21T08:36:27.452729Z"
    },
    "papermill": {
     "duration": 9.633106,
     "end_time": "2022-10-21T08:36:27.457479",
     "exception": false,
     "start_time": "2022-10-21T08:36:17.824373",
     "status": "completed"
    },
    "tags": []
   },
   "outputs": [],
   "source": [
    "# save file\n",
    "with open(\"query_3.csv\",\"w\") as file:\n",
    "    file.write(query_3_df.to_csv())"
   ]
  },
  {
   "cell_type": "code",
   "execution_count": 25,
   "id": "fda32a7e",
   "metadata": {
    "execution": {
     "iopub.execute_input": "2022-10-21T08:36:27.481369Z",
     "iopub.status.busy": "2022-10-21T08:36:27.480917Z",
     "iopub.status.idle": "2022-10-21T08:36:28.022547Z",
     "shell.execute_reply": "2022-10-21T08:36:28.021313Z"
    },
    "papermill": {
     "duration": 0.557085,
     "end_time": "2022-10-21T08:36:28.025221",
     "exception": false,
     "start_time": "2022-10-21T08:36:27.468136",
     "status": "completed"
    },
    "tags": []
   },
   "outputs": [
    {
     "name": "stdout",
     "output_type": "stream",
     "text": [
      "Using Kaggle's public dataset BigQuery integration.\n",
      "table_name_id in hacker_news dataset\n",
      "\n",
      "table_name_id : comments\n",
      "table_name_id : full\n",
      "table_name_id : full_201510\n",
      "table_name_id : stories\n"
     ]
    }
   ],
   "source": [
    "list_table_id(\"hacker_news\")"
   ]
  },
  {
   "cell_type": "code",
   "execution_count": 26,
   "id": "4952594c",
   "metadata": {
    "execution": {
     "iopub.execute_input": "2022-10-21T08:36:28.049050Z",
     "iopub.status.busy": "2022-10-21T08:36:28.047809Z",
     "iopub.status.idle": "2022-10-21T08:36:28.811102Z",
     "shell.execute_reply": "2022-10-21T08:36:28.809795Z"
    },
    "papermill": {
     "duration": 0.777923,
     "end_time": "2022-10-21T08:36:28.813748",
     "exception": false,
     "start_time": "2022-10-21T08:36:28.035825",
     "status": "completed"
    },
    "tags": []
   },
   "outputs": [
    {
     "name": "stdout",
     "output_type": "stream",
     "text": [
      "Using Kaggle's public dataset BigQuery integration.\n"
     ]
    },
    {
     "data": {
      "text/plain": [
       "[SchemaField('title', 'STRING', 'NULLABLE', 'Story title', (), None),\n",
       " SchemaField('url', 'STRING', 'NULLABLE', 'Story url', (), None),\n",
       " SchemaField('text', 'STRING', 'NULLABLE', 'Story or comment text', (), None),\n",
       " SchemaField('dead', 'BOOLEAN', 'NULLABLE', 'Is dead?', (), None),\n",
       " SchemaField('by', 'STRING', 'NULLABLE', \"The username of the item's author.\", (), None),\n",
       " SchemaField('score', 'INTEGER', 'NULLABLE', 'Story score', (), None),\n",
       " SchemaField('time', 'INTEGER', 'NULLABLE', 'Unix time', (), None),\n",
       " SchemaField('timestamp', 'TIMESTAMP', 'NULLABLE', 'Timestamp for the unix time', (), None),\n",
       " SchemaField('type', 'STRING', 'NULLABLE', 'Type of details (comment, comment_ranking, poll, story, job, pollopt)', (), None),\n",
       " SchemaField('id', 'INTEGER', 'NULLABLE', \"The item's unique id.\", (), None),\n",
       " SchemaField('parent', 'INTEGER', 'NULLABLE', 'Parent comment ID', (), None),\n",
       " SchemaField('descendants', 'INTEGER', 'NULLABLE', 'Number of story or poll descendants', (), None),\n",
       " SchemaField('ranking', 'INTEGER', 'NULLABLE', 'Comment ranking', (), None),\n",
       " SchemaField('deleted', 'BOOLEAN', 'NULLABLE', 'Is deleted?', (), None)]"
      ]
     },
     "execution_count": 26,
     "metadata": {},
     "output_type": "execute_result"
    }
   ],
   "source": [
    "about_table_column(\"full\",\"hacker_news\")"
   ]
  },
  {
   "cell_type": "code",
   "execution_count": 27,
   "id": "3694775c",
   "metadata": {
    "execution": {
     "iopub.execute_input": "2022-10-21T08:36:28.837504Z",
     "iopub.status.busy": "2022-10-21T08:36:28.836473Z",
     "iopub.status.idle": "2022-10-21T08:36:29.232585Z",
     "shell.execute_reply": "2022-10-21T08:36:29.231454Z"
    },
    "papermill": {
     "duration": 0.410927,
     "end_time": "2022-10-21T08:36:29.235426",
     "exception": false,
     "start_time": "2022-10-21T08:36:28.824499",
     "status": "completed"
    },
    "tags": []
   },
   "outputs": [],
   "source": [
    "# `hacker_news` is a very large dataset\n",
    "query_4 = \"\"\"\n",
    "         SELECT title, score\n",
    "         FROM `bigquery-public-data.hacker_news.full`\n",
    "          WHERE type = \"job\"\n",
    "         \"\"\"\n",
    "# create a `QueryJobConfig` object to estimates size of query `(dry_run=True)` without running it:\n",
    "dry_run_config = bigquery.QueryJobConfig(dry_run=True)\n",
    "query_4_dry_run_config_job = client.query(query_4,job_config=dry_run_config)"
   ]
  },
  {
   "cell_type": "code",
   "execution_count": 28,
   "id": "d76dfee6",
   "metadata": {
    "execution": {
     "iopub.execute_input": "2022-10-21T08:36:29.259111Z",
     "iopub.status.busy": "2022-10-21T08:36:29.258701Z",
     "iopub.status.idle": "2022-10-21T08:36:29.264824Z",
     "shell.execute_reply": "2022-10-21T08:36:29.263502Z"
    },
    "papermill": {
     "duration": 0.020889,
     "end_time": "2022-10-21T08:36:29.267282",
     "exception": false,
     "start_time": "2022-10-21T08:36:29.246393",
     "status": "completed"
    },
    "tags": []
   },
   "outputs": [
    {
     "name": "stdout",
     "output_type": "stream",
     "text": [
      "query will process 548.784085 MB \n"
     ]
    }
   ],
   "source": [
    "print(f\"query will process {query_4_dry_run_config_job.total_bytes_processed/1e+6} MB \" )"
   ]
  },
  {
   "cell_type": "code",
   "execution_count": 29,
   "id": "9e31b8aa",
   "metadata": {
    "execution": {
     "iopub.execute_input": "2022-10-21T08:36:29.292001Z",
     "iopub.status.busy": "2022-10-21T08:36:29.291572Z",
     "iopub.status.idle": "2022-10-21T08:36:29.825706Z",
     "shell.execute_reply": "2022-10-21T08:36:29.824409Z"
    },
    "papermill": {
     "duration": 0.550172,
     "end_time": "2022-10-21T08:36:29.828729",
     "exception": false,
     "start_time": "2022-10-21T08:36:29.278557",
     "status": "completed"
    },
    "tags": []
   },
   "outputs": [],
   "source": [
    "# limit how much data you are willing to scan: example(1GB)\n",
    "one_GB = 1000*1000*1000\n",
    "limit_config = bigquery.QueryJobConfig(maximum_bytes_billed=one_GB)\n",
    "query_4_limit_config_job = client.query(query_4,job_config=limit_config)"
   ]
  },
  {
   "cell_type": "code",
   "execution_count": 30,
   "id": "1bc3c748",
   "metadata": {
    "execution": {
     "iopub.execute_input": "2022-10-21T08:36:29.852408Z",
     "iopub.status.busy": "2022-10-21T08:36:29.851982Z",
     "iopub.status.idle": "2022-10-21T08:36:31.394440Z",
     "shell.execute_reply": "2022-10-21T08:36:31.392786Z"
    },
    "papermill": {
     "duration": 1.557856,
     "end_time": "2022-10-21T08:36:31.397429",
     "exception": false,
     "start_time": "2022-10-21T08:36:29.839573",
     "status": "completed"
    },
    "tags": []
   },
   "outputs": [],
   "source": [
    "# API- request - fetch data\n",
    "query_4_df = query_4_limit_config_job.to_dataframe()"
   ]
  },
  {
   "cell_type": "code",
   "execution_count": 31,
   "id": "d8859b1b",
   "metadata": {
    "execution": {
     "iopub.execute_input": "2022-10-21T08:36:31.421524Z",
     "iopub.status.busy": "2022-10-21T08:36:31.420795Z",
     "iopub.status.idle": "2022-10-21T08:36:31.431859Z",
     "shell.execute_reply": "2022-10-21T08:36:31.430692Z"
    },
    "papermill": {
     "duration": 0.02624,
     "end_time": "2022-10-21T08:36:31.434623",
     "exception": false,
     "start_time": "2022-10-21T08:36:31.408383",
     "status": "completed"
    },
    "tags": []
   },
   "outputs": [
    {
     "data": {
      "text/html": [
       "<div>\n",
       "<style scoped>\n",
       "    .dataframe tbody tr th:only-of-type {\n",
       "        vertical-align: middle;\n",
       "    }\n",
       "\n",
       "    .dataframe tbody tr th {\n",
       "        vertical-align: top;\n",
       "    }\n",
       "\n",
       "    .dataframe thead th {\n",
       "        text-align: right;\n",
       "    }\n",
       "</style>\n",
       "<table border=\"1\" class=\"dataframe\">\n",
       "  <thead>\n",
       "    <tr style=\"text-align: right;\">\n",
       "      <th></th>\n",
       "      <th>title</th>\n",
       "      <th>score</th>\n",
       "    </tr>\n",
       "  </thead>\n",
       "  <tbody>\n",
       "    <tr>\n",
       "      <th>0</th>\n",
       "      <td>Yoshi Engineering is hiring</td>\n",
       "      <td>1.0</td>\n",
       "    </tr>\n",
       "    <tr>\n",
       "      <th>1</th>\n",
       "      <td>Recent YC Grad looking for a data dev to help ...</td>\n",
       "      <td>1.0</td>\n",
       "    </tr>\n",
       "  </tbody>\n",
       "</table>\n",
       "</div>"
      ],
      "text/plain": [
       "                                               title  score\n",
       "0                        Yoshi Engineering is hiring    1.0\n",
       "1  Recent YC Grad looking for a data dev to help ...    1.0"
      ]
     },
     "execution_count": 31,
     "metadata": {},
     "output_type": "execute_result"
    }
   ],
   "source": [
    "query_4_df.head(2)"
   ]
  },
  {
   "cell_type": "code",
   "execution_count": 32,
   "id": "fce84ad2",
   "metadata": {
    "execution": {
     "iopub.execute_input": "2022-10-21T08:36:31.458860Z",
     "iopub.status.busy": "2022-10-21T08:36:31.458392Z",
     "iopub.status.idle": "2022-10-21T08:36:31.511594Z",
     "shell.execute_reply": "2022-10-21T08:36:31.510394Z"
    },
    "papermill": {
     "duration": 0.068555,
     "end_time": "2022-10-21T08:36:31.514351",
     "exception": false,
     "start_time": "2022-10-21T08:36:31.445796",
     "status": "completed"
    },
    "tags": []
   },
   "outputs": [],
   "source": [
    "with open(\"query_4.csv\",\"w\") as file:\n",
    "    file.write(query_4_df.to_csv())"
   ]
  }
 ],
 "metadata": {
  "kernelspec": {
   "display_name": "Python 3",
   "language": "python",
   "name": "python3"
  },
  "language_info": {
   "codemirror_mode": {
    "name": "ipython",
    "version": 3
   },
   "file_extension": ".py",
   "mimetype": "text/x-python",
   "name": "python",
   "nbconvert_exporter": "python",
   "pygments_lexer": "ipython3",
   "version": "3.7.12"
  },
  "papermill": {
   "default_parameters": {},
   "duration": 184.254485,
   "end_time": "2022-10-21T08:36:32.251216",
   "environment_variables": {},
   "exception": null,
   "input_path": "__notebook__.ipynb",
   "output_path": "__notebook__.ipynb",
   "parameters": {},
   "start_time": "2022-10-21T08:33:27.996731",
   "version": "2.3.4"
  }
 },
 "nbformat": 4,
 "nbformat_minor": 5
}
